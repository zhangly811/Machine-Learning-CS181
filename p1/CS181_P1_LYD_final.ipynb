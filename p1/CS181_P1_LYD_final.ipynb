{
 "cells": [
  {
   "cell_type": "code",
   "execution_count": 164,
   "metadata": {
    "collapsed": false
   },
   "outputs": [],
   "source": [
    "import pandas as pd\n",
    "import numpy as np\n",
    "import matplotlib.pyplot as plt\n",
    "from mpl_toolkits.mplot3d import Axes3D\n",
    "from sklearn.linear_model import LinearRegression\n",
    "from sklearn.cross_validation import KFold\n",
    "from sklearn.linear_model import Ridge as Ridge_Reg\n",
    "from sklearn.linear_model import Lasso as Lasso_Reg\n",
    "from sklearn.linear_model import ElasticNet\n",
    "from sklearn.ensemble import RandomForestRegressor as RandomForest\n",
    "from sklearn.model_selection import train_test_split as sk_split\n",
    "from sklearn.model_selection import GridSearchCV\n",
    "from sklearn import preprocessing\n",
    "% matplotlib inline\n",
    "from rdkit import Chem\n",
    "from rdkit.Chem import rdMolDescriptors\n",
    "from rdkit.Chem import rdmolfiles\n",
    "import random\n",
    "import matplotlib.tri as mtri"
   ]
  },
  {
   "cell_type": "markdown",
   "metadata": {},
   "source": [
    "# Feature Engineering"
   ]
  },
  {
   "cell_type": "code",
   "execution_count": null,
   "metadata": {
    "collapsed": true
   },
   "outputs": [],
   "source": [
    "\"\"\"\n",
    "Read in train and test as Pandas DataFrames\n",
    "\"\"\"\n",
    "df_train = pd.read_csv(\"train.csv\")\n",
    "df_test = pd.read_csv(\"test.csv\")"
   ]
  },
  {
   "cell_type": "code",
   "execution_count": null,
   "metadata": {
    "collapsed": true
   },
   "outputs": [],
   "source": [
    "df_train.head()"
   ]
  },
  {
   "cell_type": "code",
   "execution_count": null,
   "metadata": {
    "collapsed": true
   },
   "outputs": [],
   "source": [
    "df_test.head()"
   ]
  },
  {
   "cell_type": "code",
   "execution_count": null,
   "metadata": {
    "collapsed": true
   },
   "outputs": [],
   "source": [
    "print df_train.shape\n",
    "print df_test.shape"
   ]
  },
  {
   "cell_type": "code",
   "execution_count": null,
   "metadata": {
    "collapsed": true
   },
   "outputs": [],
   "source": [
    "# drop the ID column in test set\n",
    "df_test = df_test.drop(['Id'], axis=1)\n",
    "# drop the gap column in test set\n",
    "#df_train = df_train.drop(['gap'], axis=1)"
   ]
  },
  {
   "cell_type": "code",
   "execution_count": null,
   "metadata": {
    "collapsed": true
   },
   "outputs": [],
   "source": [
    "# df for feature engineering\n",
    "df_all = pd.concat((df_train, df_test), axis=0, ignore_index=True)"
   ]
  },
  {
   "cell_type": "code",
   "execution_count": null,
   "metadata": {
    "collapsed": true
   },
   "outputs": [],
   "source": [
    "smiles_mod = pd.DataFrame([rdmolfiles.MolFromSmiles(df_all.smiles[i]) for i in range(df_all.shape[0])])"
   ]
  },
  {
   "cell_type": "code",
   "execution_count": null,
   "metadata": {
    "collapsed": true
   },
   "outputs": [],
   "source": [
    "df_all['newfeat_01'] = pd.Series(smiles_mod[0].apply(lambda x: rdMolDescriptors.CalcNumAromaticRings(x))\n",
    "                                , index=smiles_mod.index)\n",
    "df_all['newfeat_02'] = pd.Series(smiles_mod[0].apply(lambda x: rdMolDescriptors.CalcExactMolWt(x))\n",
    "                                , index=smiles_mod.index)\n",
    "df_all['newfeat_03'] = pd.Series(smiles_mod[0].apply(lambda x: rdMolDescriptors.CalcNumAliphaticCarbocycles(x))\n",
    "                                , index=smiles_mod.index)\n",
    "df_all['newfeat_04'] = pd.Series(smiles_mod[0].apply(lambda x: rdMolDescriptors.CalcNumAliphaticHeterocycles(x))\n",
    "                                , index=smiles_mod.index)\n",
    "df_all['newfeat_05'] = pd.Series(smiles_mod[0].apply(lambda x: rdMolDescriptors.CalcNumAliphaticRings(x))\n",
    "                                , index=smiles_mod.index)\n",
    "df_all['newfeat_06'] = pd.Series(smiles_mod[0].apply(lambda x: rdMolDescriptors.CalcNumAmideBonds(x))\n",
    "                                , index=smiles_mod.index)\n",
    "df_all['newfeat_07'] = pd.Series(smiles_mod[0].apply(lambda x: rdMolDescriptors.CalcNumAromaticCarbocycles(x))\n",
    "                                , index=smiles_mod.index)\n",
    "df_all['newfeat_08'] = pd.Series(smiles_mod[0].apply(lambda x: rdMolDescriptors.CalcNumAromaticHeterocycles(x))\n",
    "                                , index=smiles_mod.index)\n",
    "df_all['newfeat_09'] = pd.Series(smiles_mod[0].apply(lambda x: rdMolDescriptors.CalcNumAromaticRings(x))\n",
    "                                , index=smiles_mod.index)\n",
    "df_all['newfeat_10'] = pd.Series(smiles_mod[0].apply(lambda x: rdMolDescriptors.CalcNumBridgeheadAtoms(x))\n",
    "                                , index=smiles_mod.index)\n",
    "df_all['newfeat_11'] = pd.Series(smiles_mod[0].apply(lambda x: rdMolDescriptors.CalcNumHeterocycles(x))\n",
    "                                , index=smiles_mod.index)\n",
    "df_all['newfeat_12'] = pd.Series(smiles_mod[0].apply(lambda x: rdMolDescriptors.CalcNumRings(x))\n",
    "                                , index=smiles_mod.index)\n",
    "df_all['newfeat_13'] = pd.Series(smiles_mod[0].apply(lambda x: rdMolDescriptors.CalcNumRotatableBonds(x))\n",
    "                                , index=smiles_mod.index)\n",
    "df_all['newfeat_14'] = pd.Series(smiles_mod[0].apply(lambda x: rdMolDescriptors.CalcNumSaturatedCarbocycles(x))\n",
    "                                , index=smiles_mod.index)\n",
    "df_all['newfeat_15'] = pd.Series(smiles_mod[0].apply(lambda x: rdMolDescriptors.CalcNumSaturatedHeterocycles(x))\n",
    "                                , index=smiles_mod.index)\n",
    "df_all['newfeat_16'] = pd.Series(smiles_mod[0].apply(lambda x: rdMolDescriptors.CalcNumSaturatedRings(x))\n",
    "                                , index=smiles_mod.index)"
   ]
  },
  {
   "cell_type": "code",
   "execution_count": null,
   "metadata": {
    "collapsed": true
   },
   "outputs": [],
   "source": [
    "df_all['newfeat_17'] = pd.Series(df_all['smiles'].apply(lambda x: x.count('c')), index=df_all.index)\n",
    "df_all['newfeat_18'] = pd.Series(df_all['smiles'].apply(lambda x: x.count('cc')), index=df_all.index)\n",
    "df_all['newfeat_19'] = pd.Series(df_all['smiles'].apply(lambda x: x.count('C')), index=df_all.index)\n",
    "df_all['newfeat_20'] = pd.Series(df_all['smiles'].apply(lambda x: x.count('CC')), index=df_all.index)\n",
    "df_all['newfeat_21'] = pd.Series(df_all['smiles'].apply(lambda x: x.count('C=c')), index=df_all.index)\n",
    "df_all['newfeat_22'] = pd.Series(df_all['smiles'].apply(lambda x: x.count('cn')), index=df_all.index)\n",
    "df_all['newfeat_23'] = pd.Series(df_all['smiles'].apply(lambda x: x.count('co')), index=df_all.index)\n",
    "df_all['newfeat_24'] = pd.Series(df_all['smiles'].apply(lambda x: x.count('C=c12')), index=df_all.index)\n",
    "df_all['newfeat_25'] = pd.Series(df_all['smiles'].apply(lambda x: x.count('C=c21')), index=df_all.index)\n",
    "df_all['newfeat_26'] = pd.Series(df_all['smiles'].apply(lambda x: x.count('H')), index=df_all.index)\n",
    "df_all['newfeat_27'] = pd.Series(df_all['smiles'].apply(lambda x: x.count('e')), index=df_all.index)\n",
    "df_all['newfeat_28'] = pd.Series(df_all['smiles'].apply(lambda x: x.count('n')), index=df_all.index)\n",
    "df_all['newfeat_29'] = pd.Series(df_all['smiles'].apply(lambda x: x.count('s')), index=df_all.index)\n",
    "df_all['newfeat_30'] = pd.Series(df_all['smiles'].apply(lambda x: x.count('o')), index=df_all.index)\n",
    "df_all['newfeat_31'] = pd.Series(df_all['smiles'].apply(lambda x: x.count('[SiH2]')), index=df_all.index)\n",
    "df_all['newfeat_32'] = pd.Series(df_all['smiles'].apply(lambda x: x.count('[nH]')), index=df_all.index)\n",
    "df_all['newfeat_33'] = pd.Series(df_all['smiles'].apply(lambda x: x.count('[se]')), index=df_all.index)\n",
    "df_all['newfeat_34'] = pd.Series(df_all['smiles'].apply(lambda x: x.count('(=')), index=df_all.index)\n",
    "df_all['newfeat_35'] = pd.Series(df_all['smiles'].apply(lambda x: x.count('(-')), index=df_all.index)\n",
    "df_all['newfeat_36'] = pd.Series(df_all['smiles'].apply(lambda x: x.count('[')), index=df_all.index)\n",
    "df_all['newfeat_37'] = pd.Series(df_all['smiles'].apply(lambda x: x.count('-')), index=df_all.index)\n",
    "df_all['newfeat_38'] = pd.Series(df_all['smiles'].apply(lambda x: x.count('=')), index=df_all.index)\n",
    "df_all['newfeat_39'] = pd.Series(df_all['smiles'].apply(lambda x: x.count('1')), index=df_all.index)\n",
    "df_all['newfeat_40'] = pd.Series(df_all['smiles'].apply(lambda x: x.count('2')), index=df_all.index)\n",
    "df_all['newfeat_41'] = pd.Series(df_all['smiles'].apply(lambda x: x.count('3')), index=df_all.index)\n",
    "df_all['newfeat_42'] = pd.Series(df_all['smiles'].apply(lambda x: x.count('4')), index=df_all.index)"
   ]
  },
  {
   "cell_type": "code",
   "execution_count": null,
   "metadata": {
    "collapsed": true
   },
   "outputs": [],
   "source": [
    "# rdkit gives you 128 fingerprint\n",
    "df_all.to_csv('output.csv')"
   ]
  },
  {
   "cell_type": "code",
   "execution_count": null,
   "metadata": {
    "collapsed": true
   },
   "outputs": [],
   "source": [
    "df_all.head()"
   ]
  },
  {
   "cell_type": "code",
   "execution_count": null,
   "metadata": {
    "collapsed": true
   },
   "outputs": [],
   "source": [
    "df_all.shape"
   ]
  },
  {
   "cell_type": "markdown",
   "metadata": {},
   "source": [
    "# Feature Retrieval"
   ]
  },
  {
   "cell_type": "code",
   "execution_count": 2,
   "metadata": {
    "collapsed": true
   },
   "outputs": [],
   "source": [
    "\"\"\"\n",
    "Read in post-feature-engineering train and test as Pandas DataFrames\n",
    "\"\"\"\n",
    "df_all = pd.read_csv(\"output.csv\")\n",
    "df_all.shape"
   ]
  },
  {
   "cell_type": "code",
   "execution_count": 3,
   "metadata": {
    "collapsed": false,
    "scrolled": true
   },
   "outputs": [
    {
     "data": {
      "text/html": [
       "<div>\n",
       "<table border=\"1\" class=\"dataframe\">\n",
       "  <thead>\n",
       "    <tr style=\"text-align: right;\">\n",
       "      <th></th>\n",
       "      <th>Unnamed: 0</th>\n",
       "      <th>smiles</th>\n",
       "      <th>feat_001</th>\n",
       "      <th>feat_002</th>\n",
       "      <th>feat_003</th>\n",
       "      <th>feat_004</th>\n",
       "      <th>feat_005</th>\n",
       "      <th>feat_006</th>\n",
       "      <th>feat_007</th>\n",
       "      <th>feat_008</th>\n",
       "      <th>...</th>\n",
       "      <th>newfeat_33</th>\n",
       "      <th>newfeat_34</th>\n",
       "      <th>newfeat_35</th>\n",
       "      <th>newfeat_36</th>\n",
       "      <th>newfeat_37</th>\n",
       "      <th>newfeat_38</th>\n",
       "      <th>newfeat_39</th>\n",
       "      <th>newfeat_40</th>\n",
       "      <th>newfeat_41</th>\n",
       "      <th>newfeat_42</th>\n",
       "    </tr>\n",
       "  </thead>\n",
       "  <tbody>\n",
       "    <tr>\n",
       "      <th>0</th>\n",
       "      <td>0</td>\n",
       "      <td>c1ccc(o1)-c1ccc(s1)-c1cnc(-c2scc3[se]ccc23)c2n...</td>\n",
       "      <td>0.0</td>\n",
       "      <td>0.0</td>\n",
       "      <td>0.0</td>\n",
       "      <td>0.0</td>\n",
       "      <td>1.0</td>\n",
       "      <td>0.0</td>\n",
       "      <td>1.0</td>\n",
       "      <td>0.0</td>\n",
       "      <td>...</td>\n",
       "      <td>1</td>\n",
       "      <td>0</td>\n",
       "      <td>1</td>\n",
       "      <td>1</td>\n",
       "      <td>3</td>\n",
       "      <td>0</td>\n",
       "      <td>6</td>\n",
       "      <td>4</td>\n",
       "      <td>2</td>\n",
       "      <td>0</td>\n",
       "    </tr>\n",
       "    <tr>\n",
       "      <th>1</th>\n",
       "      <td>1</td>\n",
       "      <td>C1=CC=C(C1)c1cc2ncc3c4[SiH2]C=Cc4ncc3c2c2=C[Si...</td>\n",
       "      <td>1.0</td>\n",
       "      <td>0.0</td>\n",
       "      <td>0.0</td>\n",
       "      <td>0.0</td>\n",
       "      <td>1.0</td>\n",
       "      <td>0.0</td>\n",
       "      <td>1.0</td>\n",
       "      <td>0.0</td>\n",
       "      <td>...</td>\n",
       "      <td>0</td>\n",
       "      <td>0</td>\n",
       "      <td>0</td>\n",
       "      <td>2</td>\n",
       "      <td>0</td>\n",
       "      <td>5</td>\n",
       "      <td>4</td>\n",
       "      <td>6</td>\n",
       "      <td>2</td>\n",
       "      <td>2</td>\n",
       "    </tr>\n",
       "    <tr>\n",
       "      <th>2</th>\n",
       "      <td>2</td>\n",
       "      <td>[nH]1c-2c([SiH2]c3cc(-c4scc5C=CCc45)c4nsnc4c-2...</td>\n",
       "      <td>1.0</td>\n",
       "      <td>0.0</td>\n",
       "      <td>0.0</td>\n",
       "      <td>0.0</td>\n",
       "      <td>1.0</td>\n",
       "      <td>1.0</td>\n",
       "      <td>1.0</td>\n",
       "      <td>0.0</td>\n",
       "      <td>...</td>\n",
       "      <td>0</td>\n",
       "      <td>0</td>\n",
       "      <td>1</td>\n",
       "      <td>2</td>\n",
       "      <td>3</td>\n",
       "      <td>1</td>\n",
       "      <td>2</td>\n",
       "      <td>5</td>\n",
       "      <td>2</td>\n",
       "      <td>4</td>\n",
       "    </tr>\n",
       "    <tr>\n",
       "      <th>3</th>\n",
       "      <td>3</td>\n",
       "      <td>[nH]1c2-c3occc3Cc2c2c1cc(-c1cccc3=C[SiH2]C=c13...</td>\n",
       "      <td>1.0</td>\n",
       "      <td>0.0</td>\n",
       "      <td>0.0</td>\n",
       "      <td>0.0</td>\n",
       "      <td>1.0</td>\n",
       "      <td>1.0</td>\n",
       "      <td>1.0</td>\n",
       "      <td>0.0</td>\n",
       "      <td>...</td>\n",
       "      <td>0</td>\n",
       "      <td>0</td>\n",
       "      <td>1</td>\n",
       "      <td>3</td>\n",
       "      <td>2</td>\n",
       "      <td>4</td>\n",
       "      <td>6</td>\n",
       "      <td>6</td>\n",
       "      <td>4</td>\n",
       "      <td>0</td>\n",
       "    </tr>\n",
       "    <tr>\n",
       "      <th>4</th>\n",
       "      <td>4</td>\n",
       "      <td>c1cnc2c3oc4cc(-c5ncncn5)c5nsnc5c4c3c3cocc3c2c1</td>\n",
       "      <td>0.0</td>\n",
       "      <td>0.0</td>\n",
       "      <td>0.0</td>\n",
       "      <td>0.0</td>\n",
       "      <td>1.0</td>\n",
       "      <td>0.0</td>\n",
       "      <td>1.0</td>\n",
       "      <td>0.0</td>\n",
       "      <td>...</td>\n",
       "      <td>0</td>\n",
       "      <td>0</td>\n",
       "      <td>1</td>\n",
       "      <td>0</td>\n",
       "      <td>1</td>\n",
       "      <td>0</td>\n",
       "      <td>2</td>\n",
       "      <td>2</td>\n",
       "      <td>4</td>\n",
       "      <td>2</td>\n",
       "    </tr>\n",
       "  </tbody>\n",
       "</table>\n",
       "<p>5 rows × 300 columns</p>\n",
       "</div>"
      ],
      "text/plain": [
       "   Unnamed: 0                                             smiles  feat_001  \\\n",
       "0           0  c1ccc(o1)-c1ccc(s1)-c1cnc(-c2scc3[se]ccc23)c2n...       0.0   \n",
       "1           1  C1=CC=C(C1)c1cc2ncc3c4[SiH2]C=Cc4ncc3c2c2=C[Si...       1.0   \n",
       "2           2  [nH]1c-2c([SiH2]c3cc(-c4scc5C=CCc45)c4nsnc4c-2...       1.0   \n",
       "3           3  [nH]1c2-c3occc3Cc2c2c1cc(-c1cccc3=C[SiH2]C=c13...       1.0   \n",
       "4           4     c1cnc2c3oc4cc(-c5ncncn5)c5nsnc5c4c3c3cocc3c2c1       0.0   \n",
       "\n",
       "   feat_002  feat_003  feat_004  feat_005  feat_006  feat_007  feat_008  \\\n",
       "0       0.0       0.0       0.0       1.0       0.0       1.0       0.0   \n",
       "1       0.0       0.0       0.0       1.0       0.0       1.0       0.0   \n",
       "2       0.0       0.0       0.0       1.0       1.0       1.0       0.0   \n",
       "3       0.0       0.0       0.0       1.0       1.0       1.0       0.0   \n",
       "4       0.0       0.0       0.0       1.0       0.0       1.0       0.0   \n",
       "\n",
       "      ...      newfeat_33  newfeat_34  newfeat_35  newfeat_36  newfeat_37  \\\n",
       "0     ...               1           0           1           1           3   \n",
       "1     ...               0           0           0           2           0   \n",
       "2     ...               0           0           1           2           3   \n",
       "3     ...               0           0           1           3           2   \n",
       "4     ...               0           0           1           0           1   \n",
       "\n",
       "   newfeat_38  newfeat_39  newfeat_40  newfeat_41  newfeat_42  \n",
       "0           0           6           4           2           0  \n",
       "1           5           4           6           2           2  \n",
       "2           1           2           5           2           4  \n",
       "3           4           6           6           4           0  \n",
       "4           0           2           2           4           2  \n",
       "\n",
       "[5 rows x 300 columns]"
      ]
     },
     "execution_count": 3,
     "metadata": {},
     "output_type": "execute_result"
    }
   ],
   "source": [
    "df_all.head()"
   ]
  },
  {
   "cell_type": "code",
   "execution_count": 17,
   "metadata": {
    "collapsed": true
   },
   "outputs": [],
   "source": [
    "df_train = pd.read_csv(\"train.csv\")\n",
    "gap = df_train['gap']"
   ]
  },
  {
   "cell_type": "code",
   "execution_count": 25,
   "metadata": {
    "collapsed": false
   },
   "outputs": [
    {
     "data": {
      "text/plain": [
       "(1000000,)"
      ]
     },
     "execution_count": 25,
     "metadata": {},
     "output_type": "execute_result"
    }
   ],
   "source": [
    "gap.shape"
   ]
  },
  {
   "cell_type": "markdown",
   "metadata": {},
   "source": [
    "# Random Forest"
   ]
  },
  {
   "cell_type": "code",
   "execution_count": 4,
   "metadata": {
    "collapsed": true
   },
   "outputs": [],
   "source": [
    "# generic function to plot scores\n",
    "def plot_CV_scores(score_train, score_test, index, index_label, title):\n",
    "    fig, ax = plt.subplots(1, 1, figsize=(15, 5))\n",
    "\n",
    "    ax.scatter(index, score_train, color='red', label='score_train')\n",
    "    ax.plot(index, score_train, color='red')\n",
    "\n",
    "    ax.scatter(index, score_test, color='blue', label='score_test')\n",
    "    ax.plot(index, score_test, color='blue')\n",
    "\n",
    "    ax.set_xlabel(index_label)\n",
    "    ax.set_ylabel('Score')\n",
    "    ax.set_title(title)\n",
    "    ax.legend()"
   ]
  },
  {
   "cell_type": "code",
   "execution_count": 103,
   "metadata": {
    "collapsed": true
   },
   "outputs": [],
   "source": [
    "# Generic function for cross-validation \n",
    "def AutoKFold_RF(train_x, train_y, params1, params2, params3):\n",
    "    #Create a k-folds validation object\n",
    "    kf = KFold(len(train_x), n_folds=5)\n",
    "    #Record the mean score for each depth\n",
    "    score_test = []\n",
    "    score_train = []\n",
    "    n = len(train_y)\n",
    "    #print params1\n",
    "    #Iterate over the parameters\n",
    "    for param1 in params1:    \n",
    "        for param2 in params2:\n",
    "            for param3 in params3:\n",
    "                #Record the score for each fold\n",
    "                valid_score_test = []\n",
    "                valid_score_train = []\n",
    "                #print param1\n",
    "                #Iterate over the folds\n",
    "                for train_index, test_index in kf:\n",
    "                    #Split x_train into a train and \"test\" set\n",
    "                    x_validate_train, x_validate_test = train_x[train_index], train_x[test_index]\n",
    "                    y_validate_train, y_validate_test = train_y[train_index], train_y[test_index]\n",
    "\n",
    "                    model = RandomForest(n_estimators=param1, max_depth=param2, max_features=param3)\n",
    "\n",
    "                    model.fit(x_validate_train, y_validate_train)\n",
    "\n",
    "                    #Compute the scores\n",
    "                    valid_score_test.append(model.score(x_validate_test, y_validate_test))\n",
    "                    valid_score_train.append(model.score(x_validate_train, y_validate_train))\n",
    "                #Append the mean scores over the k-folds to score list\n",
    "                score_test.append(np.mean(valid_score_test))\n",
    "                score_train.append(np.mean(valid_score_train))\n",
    "\n",
    "                print (\"Trees:\", param1, \"Max_depth:\", param2, \"Max_features:\", param3,\n",
    "                       \"Testing score:\", round(np.mean(valid_score_test), 2), \n",
    "                       \"Training score:\", round(np.mean(valid_score_train), 2))\n",
    "\n",
    "    return(np.concatenate((score_test, score_train)))\n"
   ]
  },
  {
   "cell_type": "markdown",
   "metadata": {},
   "source": [
    "# Feature Cleaning"
   ]
  },
  {
   "cell_type": "code",
   "execution_count": 6,
   "metadata": {
    "collapsed": true
   },
   "outputs": [],
   "source": [
    "# Find out the number of uninformative columns (all 0's or all 1's)\n",
    "max_train = df_all.apply(lambda x: np.max(x), axis = 0)\n",
    "min_train = df_all.apply(lambda x: np.min(x), axis = 0)\n",
    "\n",
    "# Find out how many columns that have the same value\n",
    "sum(max_train == min_train)\n",
    "# obtain index of single-value columns\n",
    "idx_drop = []\n",
    "for i in range(len(max_train)):\n",
    "    \n",
    "    if max_train[i] == min_train[i]:\n",
    "        idx_drop.append(i)"
   ]
  },
  {
   "cell_type": "code",
   "execution_count": 102,
   "metadata": {
    "collapsed": false
   },
   "outputs": [
    {
     "data": {
      "text/plain": [
       "230"
      ]
     },
     "execution_count": 102,
     "metadata": {},
     "output_type": "execute_result"
    }
   ],
   "source": [
    "len(idx_drop)"
   ]
  },
  {
   "cell_type": "code",
   "execution_count": 7,
   "metadata": {
    "collapsed": true
   },
   "outputs": [],
   "source": [
    "# drop single-value columns in dataset\n",
    "df_all = df_all.drop(df_all.columns[idx_drop], axis=1)"
   ]
  },
  {
   "cell_type": "code",
   "execution_count": 52,
   "metadata": {
    "collapsed": false
   },
   "outputs": [],
   "source": [
    "# drop smiles and unnamed column\n",
    "df_all = df_all.drop(['smiles', 'Unnamed: 0'], axis=1)"
   ]
  },
  {
   "cell_type": "code",
   "execution_count": 60,
   "metadata": {
    "collapsed": false
   },
   "outputs": [
    {
     "name": "stdout",
     "output_type": "stream",
     "text": [
      "Smiles Missing Data:\n"
     ]
    }
   ],
   "source": [
    "# clean data of NaNs and other missing data\n",
    "\n",
    "# determine which values features have missing data\n",
    "# it seems that we may have collinearity issues because we have so many predictors, will explore more before dropping\n",
    "print 'Smiles Missing Data:'\n",
    "for feature in df_all.columns.values:\n",
    "    num_nulls = sum(df_all[feature].isnull())\n",
    "    if num_nulls != 0:\n",
    "        print ('\\t' + feature + ': ' + str(num_nulls) + ', ' + \n",
    "               str(round(100 * float(num_nulls) / float(len(df_all[feature])))) + '%')"
   ]
  },
  {
   "cell_type": "code",
   "execution_count": 53,
   "metadata": {
    "collapsed": false
   },
   "outputs": [
    {
     "data": {
      "text/plain": [
       "(1824230, 68)"
      ]
     },
     "execution_count": 53,
     "metadata": {},
     "output_type": "execute_result"
    }
   ],
   "source": [
    "df_all.shape"
   ]
  },
  {
   "cell_type": "code",
   "execution_count": 140,
   "metadata": {
    "collapsed": false
   },
   "outputs": [
    {
     "data": {
      "text/html": [
       "<div>\n",
       "<table border=\"1\" class=\"dataframe\">\n",
       "  <thead>\n",
       "    <tr style=\"text-align: right;\">\n",
       "      <th></th>\n",
       "      <th>feat_001</th>\n",
       "      <th>feat_005</th>\n",
       "      <th>feat_006</th>\n",
       "      <th>feat_007</th>\n",
       "      <th>feat_025</th>\n",
       "      <th>feat_037</th>\n",
       "      <th>feat_044</th>\n",
       "      <th>feat_068</th>\n",
       "      <th>feat_069</th>\n",
       "      <th>feat_072</th>\n",
       "      <th>...</th>\n",
       "      <th>newfeat_33</th>\n",
       "      <th>newfeat_34</th>\n",
       "      <th>newfeat_35</th>\n",
       "      <th>newfeat_36</th>\n",
       "      <th>newfeat_37</th>\n",
       "      <th>newfeat_38</th>\n",
       "      <th>newfeat_39</th>\n",
       "      <th>newfeat_40</th>\n",
       "      <th>newfeat_41</th>\n",
       "      <th>newfeat_42</th>\n",
       "    </tr>\n",
       "  </thead>\n",
       "  <tbody>\n",
       "    <tr>\n",
       "      <th>0</th>\n",
       "      <td>0.0</td>\n",
       "      <td>1.0</td>\n",
       "      <td>0.0</td>\n",
       "      <td>1.0</td>\n",
       "      <td>0.0</td>\n",
       "      <td>0.0</td>\n",
       "      <td>0.0</td>\n",
       "      <td>1.0</td>\n",
       "      <td>0.0</td>\n",
       "      <td>1.0</td>\n",
       "      <td>...</td>\n",
       "      <td>1</td>\n",
       "      <td>0</td>\n",
       "      <td>1</td>\n",
       "      <td>1</td>\n",
       "      <td>3</td>\n",
       "      <td>0</td>\n",
       "      <td>6</td>\n",
       "      <td>4</td>\n",
       "      <td>2</td>\n",
       "      <td>0</td>\n",
       "    </tr>\n",
       "    <tr>\n",
       "      <th>1</th>\n",
       "      <td>1.0</td>\n",
       "      <td>1.0</td>\n",
       "      <td>0.0</td>\n",
       "      <td>1.0</td>\n",
       "      <td>1.0</td>\n",
       "      <td>1.0</td>\n",
       "      <td>0.0</td>\n",
       "      <td>0.0</td>\n",
       "      <td>1.0</td>\n",
       "      <td>1.0</td>\n",
       "      <td>...</td>\n",
       "      <td>0</td>\n",
       "      <td>0</td>\n",
       "      <td>0</td>\n",
       "      <td>2</td>\n",
       "      <td>0</td>\n",
       "      <td>5</td>\n",
       "      <td>4</td>\n",
       "      <td>6</td>\n",
       "      <td>2</td>\n",
       "      <td>2</td>\n",
       "    </tr>\n",
       "    <tr>\n",
       "      <th>2</th>\n",
       "      <td>1.0</td>\n",
       "      <td>1.0</td>\n",
       "      <td>1.0</td>\n",
       "      <td>1.0</td>\n",
       "      <td>0.0</td>\n",
       "      <td>1.0</td>\n",
       "      <td>0.0</td>\n",
       "      <td>1.0</td>\n",
       "      <td>1.0</td>\n",
       "      <td>1.0</td>\n",
       "      <td>...</td>\n",
       "      <td>0</td>\n",
       "      <td>0</td>\n",
       "      <td>1</td>\n",
       "      <td>2</td>\n",
       "      <td>3</td>\n",
       "      <td>1</td>\n",
       "      <td>2</td>\n",
       "      <td>5</td>\n",
       "      <td>2</td>\n",
       "      <td>4</td>\n",
       "    </tr>\n",
       "    <tr>\n",
       "      <th>3</th>\n",
       "      <td>1.0</td>\n",
       "      <td>1.0</td>\n",
       "      <td>1.0</td>\n",
       "      <td>1.0</td>\n",
       "      <td>1.0</td>\n",
       "      <td>0.0</td>\n",
       "      <td>0.0</td>\n",
       "      <td>1.0</td>\n",
       "      <td>0.0</td>\n",
       "      <td>0.0</td>\n",
       "      <td>...</td>\n",
       "      <td>0</td>\n",
       "      <td>0</td>\n",
       "      <td>1</td>\n",
       "      <td>3</td>\n",
       "      <td>2</td>\n",
       "      <td>4</td>\n",
       "      <td>6</td>\n",
       "      <td>6</td>\n",
       "      <td>4</td>\n",
       "      <td>0</td>\n",
       "    </tr>\n",
       "    <tr>\n",
       "      <th>4</th>\n",
       "      <td>0.0</td>\n",
       "      <td>1.0</td>\n",
       "      <td>0.0</td>\n",
       "      <td>1.0</td>\n",
       "      <td>0.0</td>\n",
       "      <td>0.0</td>\n",
       "      <td>0.0</td>\n",
       "      <td>0.0</td>\n",
       "      <td>0.0</td>\n",
       "      <td>1.0</td>\n",
       "      <td>...</td>\n",
       "      <td>0</td>\n",
       "      <td>0</td>\n",
       "      <td>1</td>\n",
       "      <td>0</td>\n",
       "      <td>1</td>\n",
       "      <td>0</td>\n",
       "      <td>2</td>\n",
       "      <td>2</td>\n",
       "      <td>4</td>\n",
       "      <td>2</td>\n",
       "    </tr>\n",
       "  </tbody>\n",
       "</table>\n",
       "<p>5 rows × 68 columns</p>\n",
       "</div>"
      ],
      "text/plain": [
       "   feat_001  feat_005  feat_006  feat_007  feat_025  feat_037  feat_044  \\\n",
       "0       0.0       1.0       0.0       1.0       0.0       0.0       0.0   \n",
       "1       1.0       1.0       0.0       1.0       1.0       1.0       0.0   \n",
       "2       1.0       1.0       1.0       1.0       0.0       1.0       0.0   \n",
       "3       1.0       1.0       1.0       1.0       1.0       0.0       0.0   \n",
       "4       0.0       1.0       0.0       1.0       0.0       0.0       0.0   \n",
       "\n",
       "   feat_068  feat_069  feat_072     ...      newfeat_33  newfeat_34  \\\n",
       "0       1.0       0.0       1.0     ...               1           0   \n",
       "1       0.0       1.0       1.0     ...               0           0   \n",
       "2       1.0       1.0       1.0     ...               0           0   \n",
       "3       1.0       0.0       0.0     ...               0           0   \n",
       "4       0.0       0.0       1.0     ...               0           0   \n",
       "\n",
       "   newfeat_35  newfeat_36  newfeat_37  newfeat_38  newfeat_39  newfeat_40  \\\n",
       "0           1           1           3           0           6           4   \n",
       "1           0           2           0           5           4           6   \n",
       "2           1           2           3           1           2           5   \n",
       "3           1           3           2           4           6           6   \n",
       "4           1           0           1           0           2           2   \n",
       "\n",
       "   newfeat_41  newfeat_42  \n",
       "0           2           0  \n",
       "1           2           2  \n",
       "2           2           4  \n",
       "3           4           0  \n",
       "4           4           2  \n",
       "\n",
       "[5 rows x 68 columns]"
      ]
     },
     "execution_count": 140,
     "metadata": {},
     "output_type": "execute_result"
    }
   ],
   "source": [
    "# re-split the training and testing data\n",
    "train_length = df_train.shape[0]\n",
    "df_new_train = df_all.iloc[0:train_length]\n",
    "df_new_test = df_all.iloc[train_length:]\n",
    "df_new_train.head()"
   ]
  },
  {
   "cell_type": "markdown",
   "metadata": {},
   "source": [
    "# Random Forest Tuning"
   ]
  },
  {
   "cell_type": "code",
   "execution_count": 167,
   "metadata": {
    "collapsed": false
   },
   "outputs": [
    {
     "name": "stdout",
     "output_type": "stream",
     "text": [
      "Number of combos:  286\n",
      "('Trees:', 40, 'Max_depth:', 5, 'Max_features:', 5, 'Testing score:', 0.58, 'Training score:', 0.58)\n",
      "('Trees:', 40, 'Max_depth:', 5, 'Max_features:', 10, 'Testing score:', 0.64, 'Training score:', 0.64)\n",
      "('Trees:', 40, 'Max_depth:', 5, 'Max_features:', 15, 'Testing score:', 0.66, 'Training score:', 0.66)\n",
      "('Trees:', 40, 'Max_depth:', 5, 'Max_features:', 20, 'Testing score:', 0.67, 'Training score:', 0.67)\n",
      "('Trees:', 40, 'Max_depth:', 5, 'Max_features:', 25, 'Testing score:', 0.68, 'Training score:', 0.68)\n",
      "('Trees:', 40, 'Max_depth:', 5, 'Max_features:', 30, 'Testing score:', 0.68, 'Training score:', 0.68)\n",
      "('Trees:', 40, 'Max_depth:', 5, 'Max_features:', 35, 'Testing score:', 0.68, 'Training score:', 0.68)\n",
      "('Trees:', 40, 'Max_depth:', 5, 'Max_features:', 40, 'Testing score:', 0.68, 'Training score:', 0.68)\n",
      "('Trees:', 40, 'Max_depth:', 5, 'Max_features:', 45, 'Testing score:', 0.68, 'Training score:', 0.68)\n",
      "('Trees:', 40, 'Max_depth:', 5, 'Max_features:', 50, 'Testing score:', 0.68, 'Training score:', 0.68)\n",
      "('Trees:', 40, 'Max_depth:', 5, 'Max_features:', 55, 'Testing score:', 0.67, 'Training score:', 0.68)\n",
      "('Trees:', 40, 'Max_depth:', 5, 'Max_features:', 60, 'Testing score:', 0.67, 'Training score:', 0.67)\n",
      "('Trees:', 40, 'Max_depth:', 5, 'Max_features:', 65, 'Testing score:', 0.66, 'Training score:', 0.66)\n",
      "('Trees:', 40, 'Max_depth:', 10, 'Max_features:', 5, 'Testing score:', 0.75, 'Training score:', 0.76)\n",
      "('Trees:', 40, 'Max_depth:', 10, 'Max_features:', 10, 'Testing score:', 0.78, 'Training score:', 0.79)\n",
      "('Trees:', 40, 'Max_depth:', 10, 'Max_features:', 15, 'Testing score:', 0.79, 'Training score:', 0.81)\n",
      "('Trees:', 40, 'Max_depth:', 10, 'Max_features:', 20, 'Testing score:', 0.8, 'Training score:', 0.81)\n",
      "('Trees:', 40, 'Max_depth:', 10, 'Max_features:', 25, 'Testing score:', 0.8, 'Training score:', 0.81)\n",
      "('Trees:', 40, 'Max_depth:', 10, 'Max_features:', 30, 'Testing score:', 0.8, 'Training score:', 0.82)\n",
      "('Trees:', 40, 'Max_depth:', 10, 'Max_features:', 35, 'Testing score:', 0.8, 'Training score:', 0.82)\n",
      "('Trees:', 40, 'Max_depth:', 10, 'Max_features:', 40, 'Testing score:', 0.8, 'Training score:', 0.82)\n",
      "('Trees:', 40, 'Max_depth:', 10, 'Max_features:', 45, 'Testing score:', 0.8, 'Training score:', 0.82)\n",
      "('Trees:', 40, 'Max_depth:', 10, 'Max_features:', 50, 'Testing score:', 0.8, 'Training score:', 0.82)\n",
      "('Trees:', 40, 'Max_depth:', 10, 'Max_features:', 55, 'Testing score:', 0.8, 'Training score:', 0.82)\n",
      "('Trees:', 40, 'Max_depth:', 10, 'Max_features:', 60, 'Testing score:', 0.8, 'Training score:', 0.82)\n",
      "('Trees:', 40, 'Max_depth:', 10, 'Max_features:', 65, 'Testing score:', 0.8, 'Training score:', 0.82)\n",
      "('Trees:', 40, 'Max_depth:', 15, 'Max_features:', 5, 'Testing score:', 0.82, 'Training score:', 0.87)\n",
      "('Trees:', 40, 'Max_depth:', 15, 'Max_features:', 10, 'Testing score:', 0.84, 'Training score:', 0.89)\n",
      "('Trees:', 40, 'Max_depth:', 15, 'Max_features:', 15, 'Testing score:', 0.85, 'Training score:', 0.9)\n",
      "('Trees:', 40, 'Max_depth:', 15, 'Max_features:', 20, 'Testing score:', 0.85, 'Training score:', 0.9)\n",
      "('Trees:', 40, 'Max_depth:', 15, 'Max_features:', 25, 'Testing score:', 0.85, 'Training score:', 0.91)\n",
      "('Trees:', 40, 'Max_depth:', 15, 'Max_features:', 30, 'Testing score:', 0.85, 'Training score:', 0.91)\n",
      "('Trees:', 40, 'Max_depth:', 15, 'Max_features:', 35, 'Testing score:', 0.85, 'Training score:', 0.91)\n",
      "('Trees:', 40, 'Max_depth:', 15, 'Max_features:', 40, 'Testing score:', 0.85, 'Training score:', 0.91)\n",
      "('Trees:', 40, 'Max_depth:', 15, 'Max_features:', 45, 'Testing score:', 0.86, 'Training score:', 0.91)\n",
      "('Trees:', 40, 'Max_depth:', 15, 'Max_features:', 50, 'Testing score:', 0.86, 'Training score:', 0.92)\n",
      "('Trees:', 40, 'Max_depth:', 15, 'Max_features:', 55, 'Testing score:', 0.86, 'Training score:', 0.92)\n",
      "('Trees:', 40, 'Max_depth:', 15, 'Max_features:', 60, 'Testing score:', 0.85, 'Training score:', 0.92)\n",
      "('Trees:', 40, 'Max_depth:', 15, 'Max_features:', 65, 'Testing score:', 0.85, 'Training score:', 0.92)\n",
      "('Trees:', 40, 'Max_depth:', 20, 'Max_features:', 5, 'Testing score:', 0.85, 'Training score:', 0.94)\n",
      "('Trees:', 40, 'Max_depth:', 20, 'Max_features:', 10, 'Testing score:', 0.86, 'Training score:', 0.95)\n",
      "('Trees:', 40, 'Max_depth:', 20, 'Max_features:', 15, 'Testing score:', 0.86, 'Training score:', 0.96)\n",
      "('Trees:', 40, 'Max_depth:', 20, 'Max_features:', 20, 'Testing score:', 0.86, 'Training score:', 0.96)\n",
      "('Trees:', 40, 'Max_depth:', 20, 'Max_features:', 25, 'Testing score:', 0.86, 'Training score:', 0.96)\n",
      "('Trees:', 40, 'Max_depth:', 20, 'Max_features:', 30, 'Testing score:', 0.86, 'Training score:', 0.96)\n",
      "('Trees:', 40, 'Max_depth:', 20, 'Max_features:', 35, 'Testing score:', 0.87, 'Training score:', 0.96)\n",
      "('Trees:', 40, 'Max_depth:', 20, 'Max_features:', 40, 'Testing score:', 0.87, 'Training score:', 0.96)\n",
      "('Trees:', 40, 'Max_depth:', 20, 'Max_features:', 45, 'Testing score:', 0.87, 'Training score:', 0.96)\n",
      "('Trees:', 40, 'Max_depth:', 20, 'Max_features:', 50, 'Testing score:', 0.87, 'Training score:', 0.96)\n",
      "('Trees:', 40, 'Max_depth:', 20, 'Max_features:', 55, 'Testing score:', 0.87, 'Training score:', 0.96)\n",
      "('Trees:', 40, 'Max_depth:', 20, 'Max_features:', 60, 'Testing score:', 0.87, 'Training score:', 0.96)\n",
      "('Trees:', 40, 'Max_depth:', 20, 'Max_features:', 65, 'Testing score:', 0.86, 'Training score:', 0.96)\n",
      "('Trees:', 40, 'Max_depth:', 25, 'Max_features:', 5, 'Testing score:', 0.85, 'Training score:', 0.97)\n",
      "('Trees:', 40, 'Max_depth:', 25, 'Max_features:', 10, 'Testing score:', 0.86, 'Training score:', 0.97)\n",
      "('Trees:', 40, 'Max_depth:', 25, 'Max_features:', 15, 'Testing score:', 0.86, 'Training score:', 0.97)\n",
      "('Trees:', 40, 'Max_depth:', 25, 'Max_features:', 20, 'Testing score:', 0.86, 'Training score:', 0.97)\n",
      "('Trees:', 40, 'Max_depth:', 25, 'Max_features:', 25, 'Testing score:', 0.86, 'Training score:', 0.97)\n",
      "('Trees:', 40, 'Max_depth:', 25, 'Max_features:', 30, 'Testing score:', 0.86, 'Training score:', 0.97)\n",
      "('Trees:', 40, 'Max_depth:', 25, 'Max_features:', 35, 'Testing score:', 0.87, 'Training score:', 0.97)\n",
      "('Trees:', 40, 'Max_depth:', 25, 'Max_features:', 40, 'Testing score:', 0.87, 'Training score:', 0.97)\n",
      "('Trees:', 40, 'Max_depth:', 25, 'Max_features:', 45, 'Testing score:', 0.87, 'Training score:', 0.97)\n",
      "('Trees:', 40, 'Max_depth:', 25, 'Max_features:', 50, 'Testing score:', 0.87, 'Training score:', 0.97)\n",
      "('Trees:', 40, 'Max_depth:', 25, 'Max_features:', 55, 'Testing score:', 0.87, 'Training score:', 0.97)\n",
      "('Trees:', 40, 'Max_depth:', 25, 'Max_features:', 60, 'Testing score:', 0.87, 'Training score:', 0.97)\n",
      "('Trees:', 40, 'Max_depth:', 25, 'Max_features:', 65, 'Testing score:', 0.86, 'Training score:', 0.97)\n",
      "('Trees:', 40, 'Max_depth:', 30, 'Max_features:', 5, 'Testing score:', 0.85, 'Training score:', 0.97)\n",
      "('Trees:', 40, 'Max_depth:', 30, 'Max_features:', 10, 'Testing score:', 0.86, 'Training score:', 0.98)\n",
      "('Trees:', 40, 'Max_depth:', 30, 'Max_features:', 15, 'Testing score:', 0.86, 'Training score:', 0.98)\n",
      "('Trees:', 40, 'Max_depth:', 30, 'Max_features:', 20, 'Testing score:', 0.86, 'Training score:', 0.98)\n",
      "('Trees:', 40, 'Max_depth:', 30, 'Max_features:', 25, 'Testing score:', 0.86, 'Training score:', 0.98)\n",
      "('Trees:', 40, 'Max_depth:', 30, 'Max_features:', 30, 'Testing score:', 0.86, 'Training score:', 0.98)\n",
      "('Trees:', 40, 'Max_depth:', 30, 'Max_features:', 35, 'Testing score:', 0.86, 'Training score:', 0.98)\n",
      "('Trees:', 40, 'Max_depth:', 30, 'Max_features:', 40, 'Testing score:', 0.87, 'Training score:', 0.98)\n",
      "('Trees:', 40, 'Max_depth:', 30, 'Max_features:', 45, 'Testing score:', 0.87, 'Training score:', 0.98)\n",
      "('Trees:', 40, 'Max_depth:', 30, 'Max_features:', 50, 'Testing score:', 0.87, 'Training score:', 0.98)\n",
      "('Trees:', 40, 'Max_depth:', 30, 'Max_features:', 55, 'Testing score:', 0.87, 'Training score:', 0.98)\n",
      "('Trees:', 40, 'Max_depth:', 30, 'Max_features:', 60, 'Testing score:', 0.86, 'Training score:', 0.98)\n",
      "('Trees:', 40, 'Max_depth:', 30, 'Max_features:', 65, 'Testing score:', 0.86, 'Training score:', 0.98)\n",
      "('Trees:', 40, 'Max_depth:', 35, 'Max_features:', 5, 'Testing score:', 0.85, 'Training score:', 0.97)\n",
      "('Trees:', 40, 'Max_depth:', 35, 'Max_features:', 10, 'Testing score:', 0.86, 'Training score:', 0.98)\n",
      "('Trees:', 40, 'Max_depth:', 35, 'Max_features:', 15, 'Testing score:', 0.86, 'Training score:', 0.98)\n",
      "('Trees:', 40, 'Max_depth:', 35, 'Max_features:', 20, 'Testing score:', 0.86, 'Training score:', 0.98)\n",
      "('Trees:', 40, 'Max_depth:', 35, 'Max_features:', 25, 'Testing score:', 0.86, 'Training score:', 0.98)\n",
      "('Trees:', 40, 'Max_depth:', 35, 'Max_features:', 30, 'Testing score:', 0.86, 'Training score:', 0.98)\n",
      "('Trees:', 40, 'Max_depth:', 35, 'Max_features:', 35, 'Testing score:', 0.86, 'Training score:', 0.98)\n",
      "('Trees:', 40, 'Max_depth:', 35, 'Max_features:', 40, 'Testing score:', 0.87, 'Training score:', 0.98)\n",
      "('Trees:', 40, 'Max_depth:', 35, 'Max_features:', 45, 'Testing score:', 0.87, 'Training score:', 0.98)\n",
      "('Trees:', 40, 'Max_depth:', 35, 'Max_features:', 50, 'Testing score:', 0.87, 'Training score:', 0.98)\n",
      "('Trees:', 40, 'Max_depth:', 35, 'Max_features:', 55, 'Testing score:', 0.87, 'Training score:', 0.98)\n",
      "('Trees:', 40, 'Max_depth:', 35, 'Max_features:', 60, 'Testing score:', 0.86, 'Training score:', 0.98)\n",
      "('Trees:', 40, 'Max_depth:', 35, 'Max_features:', 65, 'Testing score:', 0.86, 'Training score:', 0.98)\n",
      "('Trees:', 40, 'Max_depth:', 40, 'Max_features:', 5, 'Testing score:', 0.85, 'Training score:', 0.97)\n",
      "('Trees:', 40, 'Max_depth:', 40, 'Max_features:', 10, 'Testing score:', 0.86, 'Training score:', 0.98)\n",
      "('Trees:', 40, 'Max_depth:', 40, 'Max_features:', 15, 'Testing score:', 0.86, 'Training score:', 0.98)\n",
      "('Trees:', 40, 'Max_depth:', 40, 'Max_features:', 20, 'Testing score:', 0.86, 'Training score:', 0.98)\n",
      "('Trees:', 40, 'Max_depth:', 40, 'Max_features:', 25, 'Testing score:', 0.86, 'Training score:', 0.98)\n",
      "('Trees:', 40, 'Max_depth:', 40, 'Max_features:', 30, 'Testing score:', 0.86, 'Training score:', 0.98)\n",
      "('Trees:', 40, 'Max_depth:', 40, 'Max_features:', 35, 'Testing score:', 0.86, 'Training score:', 0.98)\n",
      "('Trees:', 40, 'Max_depth:', 40, 'Max_features:', 40, 'Testing score:', 0.86, 'Training score:', 0.98)\n",
      "('Trees:', 40, 'Max_depth:', 40, 'Max_features:', 45, 'Testing score:', 0.87, 'Training score:', 0.98)\n",
      "('Trees:', 40, 'Max_depth:', 40, 'Max_features:', 50, 'Testing score:', 0.87, 'Training score:', 0.98)\n",
      "('Trees:', 40, 'Max_depth:', 40, 'Max_features:', 55, 'Testing score:', 0.87, 'Training score:', 0.98)\n",
      "('Trees:', 40, 'Max_depth:', 40, 'Max_features:', 60, 'Testing score:', 0.87, 'Training score:', 0.98)\n",
      "('Trees:', 40, 'Max_depth:', 40, 'Max_features:', 65, 'Testing score:', 0.86, 'Training score:', 0.98)\n",
      "('Trees:', 40, 'Max_depth:', 45, 'Max_features:', 5, 'Testing score:', 0.85, 'Training score:', 0.97)\n",
      "('Trees:', 40, 'Max_depth:', 45, 'Max_features:', 10, 'Testing score:', 0.86, 'Training score:', 0.98)\n",
      "('Trees:', 40, 'Max_depth:', 45, 'Max_features:', 15, 'Testing score:', 0.86, 'Training score:', 0.98)\n",
      "('Trees:', 40, 'Max_depth:', 45, 'Max_features:', 20, 'Testing score:', 0.86, 'Training score:', 0.98)\n",
      "('Trees:', 40, 'Max_depth:', 45, 'Max_features:', 25, 'Testing score:', 0.86, 'Training score:', 0.98)\n",
      "('Trees:', 40, 'Max_depth:', 45, 'Max_features:', 30, 'Testing score:', 0.86, 'Training score:', 0.98)\n",
      "('Trees:', 40, 'Max_depth:', 45, 'Max_features:', 35, 'Testing score:', 0.86, 'Training score:', 0.98)\n",
      "('Trees:', 40, 'Max_depth:', 45, 'Max_features:', 40, 'Testing score:', 0.87, 'Training score:', 0.98)\n",
      "('Trees:', 40, 'Max_depth:', 45, 'Max_features:', 45, 'Testing score:', 0.87, 'Training score:', 0.98)\n",
      "('Trees:', 40, 'Max_depth:', 45, 'Max_features:', 50, 'Testing score:', 0.87, 'Training score:', 0.98)\n",
      "('Trees:', 40, 'Max_depth:', 45, 'Max_features:', 55, 'Testing score:', 0.87, 'Training score:', 0.98)\n",
      "('Trees:', 40, 'Max_depth:', 45, 'Max_features:', 60, 'Testing score:', 0.86, 'Training score:', 0.98)\n",
      "('Trees:', 40, 'Max_depth:', 45, 'Max_features:', 65, 'Testing score:', 0.86, 'Training score:', 0.98)\n",
      "('Trees:', 40, 'Max_depth:', 50, 'Max_features:', 5, 'Testing score:', 0.85, 'Training score:', 0.97)\n",
      "('Trees:', 40, 'Max_depth:', 50, 'Max_features:', 10, 'Testing score:', 0.86, 'Training score:', 0.98)\n",
      "('Trees:', 40, 'Max_depth:', 50, 'Max_features:', 15, 'Testing score:', 0.86, 'Training score:', 0.98)\n",
      "('Trees:', 40, 'Max_depth:', 50, 'Max_features:', 20, 'Testing score:', 0.86, 'Training score:', 0.98)\n",
      "('Trees:', 40, 'Max_depth:', 50, 'Max_features:', 25, 'Testing score:', 0.86, 'Training score:', 0.98)\n",
      "('Trees:', 40, 'Max_depth:', 50, 'Max_features:', 30, 'Testing score:', 0.86, 'Training score:', 0.98)\n",
      "('Trees:', 40, 'Max_depth:', 50, 'Max_features:', 35, 'Testing score:', 0.86, 'Training score:', 0.98)\n",
      "('Trees:', 40, 'Max_depth:', 50, 'Max_features:', 40, 'Testing score:', 0.87, 'Training score:', 0.98)\n",
      "('Trees:', 40, 'Max_depth:', 50, 'Max_features:', 45, 'Testing score:', 0.87, 'Training score:', 0.98)\n",
      "('Trees:', 40, 'Max_depth:', 50, 'Max_features:', 50, 'Testing score:', 0.87, 'Training score:', 0.98)\n",
      "('Trees:', 40, 'Max_depth:', 50, 'Max_features:', 55, 'Testing score:', 0.87, 'Training score:', 0.98)\n",
      "('Trees:', 40, 'Max_depth:', 50, 'Max_features:', 60, 'Testing score:', 0.87, 'Training score:', 0.98)\n",
      "('Trees:', 40, 'Max_depth:', 50, 'Max_features:', 65, 'Testing score:', 0.86, 'Training score:', 0.98)\n",
      "('Trees:', 40, 'Max_depth:', 55, 'Max_features:', 5, 'Testing score:', 0.85, 'Training score:', 0.97)\n",
      "('Trees:', 40, 'Max_depth:', 55, 'Max_features:', 10, 'Testing score:', 0.86, 'Training score:', 0.98)\n",
      "('Trees:', 40, 'Max_depth:', 55, 'Max_features:', 15, 'Testing score:', 0.86, 'Training score:', 0.98)\n",
      "('Trees:', 40, 'Max_depth:', 55, 'Max_features:', 20, 'Testing score:', 0.86, 'Training score:', 0.98)\n",
      "('Trees:', 40, 'Max_depth:', 55, 'Max_features:', 25, 'Testing score:', 0.86, 'Training score:', 0.98)\n",
      "('Trees:', 40, 'Max_depth:', 55, 'Max_features:', 30, 'Testing score:', 0.86, 'Training score:', 0.98)\n",
      "('Trees:', 40, 'Max_depth:', 55, 'Max_features:', 35, 'Testing score:', 0.86, 'Training score:', 0.98)\n",
      "('Trees:', 40, 'Max_depth:', 55, 'Max_features:', 40, 'Testing score:', 0.87, 'Training score:', 0.98)\n",
      "('Trees:', 40, 'Max_depth:', 55, 'Max_features:', 45, 'Testing score:', 0.87, 'Training score:', 0.98)\n",
      "('Trees:', 40, 'Max_depth:', 55, 'Max_features:', 50, 'Testing score:', 0.87, 'Training score:', 0.98)\n",
      "('Trees:', 40, 'Max_depth:', 55, 'Max_features:', 55, 'Testing score:', 0.87, 'Training score:', 0.98)\n",
      "('Trees:', 40, 'Max_depth:', 55, 'Max_features:', 60, 'Testing score:', 0.87, 'Training score:', 0.98)\n",
      "('Trees:', 40, 'Max_depth:', 55, 'Max_features:', 65, 'Testing score:', 0.86, 'Training score:', 0.98)\n",
      "('Trees:', 70, 'Max_depth:', 5, 'Max_features:', 5, 'Testing score:', 0.58, 'Training score:', 0.58)\n",
      "('Trees:', 70, 'Max_depth:', 5, 'Max_features:', 10, 'Testing score:', 0.64, 'Training score:', 0.64)\n",
      "('Trees:', 70, 'Max_depth:', 5, 'Max_features:', 15, 'Testing score:', 0.66, 'Training score:', 0.66)\n",
      "('Trees:', 70, 'Max_depth:', 5, 'Max_features:', 20, 'Testing score:', 0.67, 'Training score:', 0.67)\n",
      "('Trees:', 70, 'Max_depth:', 5, 'Max_features:', 25, 'Testing score:', 0.68, 'Training score:', 0.68)\n",
      "('Trees:', 70, 'Max_depth:', 5, 'Max_features:', 30, 'Testing score:', 0.68, 'Training score:', 0.68)\n",
      "('Trees:', 70, 'Max_depth:', 5, 'Max_features:', 35, 'Testing score:', 0.68, 'Training score:', 0.68)\n",
      "('Trees:', 70, 'Max_depth:', 5, 'Max_features:', 40, 'Testing score:', 0.68, 'Training score:', 0.68)\n",
      "('Trees:', 70, 'Max_depth:', 5, 'Max_features:', 45, 'Testing score:', 0.68, 'Training score:', 0.68)\n",
      "('Trees:', 70, 'Max_depth:', 5, 'Max_features:', 50, 'Testing score:', 0.68, 'Training score:', 0.68)\n",
      "('Trees:', 70, 'Max_depth:', 5, 'Max_features:', 55, 'Testing score:', 0.67, 'Training score:', 0.67)\n",
      "('Trees:', 70, 'Max_depth:', 5, 'Max_features:', 60, 'Testing score:', 0.67, 'Training score:', 0.67)\n",
      "('Trees:', 70, 'Max_depth:', 5, 'Max_features:', 65, 'Testing score:', 0.66, 'Training score:', 0.66)\n",
      "('Trees:', 70, 'Max_depth:', 10, 'Max_features:', 5, 'Testing score:', 0.75, 'Training score:', 0.76)\n",
      "('Trees:', 70, 'Max_depth:', 10, 'Max_features:', 10, 'Testing score:', 0.78, 'Training score:', 0.8)\n",
      "('Trees:', 70, 'Max_depth:', 10, 'Max_features:', 15, 'Testing score:', 0.79, 'Training score:', 0.81)\n",
      "('Trees:', 70, 'Max_depth:', 10, 'Max_features:', 20, 'Testing score:', 0.8, 'Training score:', 0.81)\n",
      "('Trees:', 70, 'Max_depth:', 10, 'Max_features:', 25, 'Testing score:', 0.8, 'Training score:', 0.81)\n",
      "('Trees:', 70, 'Max_depth:', 10, 'Max_features:', 30, 'Testing score:', 0.8, 'Training score:', 0.82)\n",
      "('Trees:', 70, 'Max_depth:', 10, 'Max_features:', 35, 'Testing score:', 0.8, 'Training score:', 0.82)\n",
      "('Trees:', 70, 'Max_depth:', 10, 'Max_features:', 40, 'Testing score:', 0.8, 'Training score:', 0.82)\n",
      "('Trees:', 70, 'Max_depth:', 10, 'Max_features:', 45, 'Testing score:', 0.8, 'Training score:', 0.82)\n",
      "('Trees:', 70, 'Max_depth:', 10, 'Max_features:', 50, 'Testing score:', 0.8, 'Training score:', 0.82)\n",
      "('Trees:', 70, 'Max_depth:', 10, 'Max_features:', 55, 'Testing score:', 0.8, 'Training score:', 0.82)\n",
      "('Trees:', 70, 'Max_depth:', 10, 'Max_features:', 60, 'Testing score:', 0.8, 'Training score:', 0.82)\n",
      "('Trees:', 70, 'Max_depth:', 10, 'Max_features:', 65, 'Testing score:', 0.8, 'Training score:', 0.82)\n",
      "('Trees:', 70, 'Max_depth:', 15, 'Max_features:', 5, 'Testing score:', 0.82, 'Training score:', 0.87)\n",
      "('Trees:', 70, 'Max_depth:', 15, 'Max_features:', 10, 'Testing score:', 0.84, 'Training score:', 0.89)\n",
      "('Trees:', 70, 'Max_depth:', 15, 'Max_features:', 15, 'Testing score:', 0.85, 'Training score:', 0.9)\n",
      "('Trees:', 70, 'Max_depth:', 15, 'Max_features:', 20, 'Testing score:', 0.85, 'Training score:', 0.9)\n",
      "('Trees:', 70, 'Max_depth:', 15, 'Max_features:', 25, 'Testing score:', 0.85, 'Training score:', 0.91)\n",
      "('Trees:', 70, 'Max_depth:', 15, 'Max_features:', 30, 'Testing score:', 0.85, 'Training score:', 0.91)\n",
      "('Trees:', 70, 'Max_depth:', 15, 'Max_features:', 35, 'Testing score:', 0.85, 'Training score:', 0.91)\n",
      "('Trees:', 70, 'Max_depth:', 15, 'Max_features:', 40, 'Testing score:', 0.86, 'Training score:', 0.91)\n",
      "('Trees:', 70, 'Max_depth:', 15, 'Max_features:', 45, 'Testing score:', 0.86, 'Training score:', 0.91)\n",
      "('Trees:', 70, 'Max_depth:', 15, 'Max_features:', 50, 'Testing score:', 0.86, 'Training score:', 0.92)\n",
      "('Trees:', 70, 'Max_depth:', 15, 'Max_features:', 55, 'Testing score:', 0.86, 'Training score:', 0.92)\n",
      "('Trees:', 70, 'Max_depth:', 15, 'Max_features:', 60, 'Testing score:', 0.86, 'Training score:', 0.92)\n",
      "('Trees:', 70, 'Max_depth:', 15, 'Max_features:', 65, 'Testing score:', 0.86, 'Training score:', 0.92)\n",
      "('Trees:', 70, 'Max_depth:', 20, 'Max_features:', 5, 'Testing score:', 0.85, 'Training score:', 0.94)\n",
      "('Trees:', 70, 'Max_depth:', 20, 'Max_features:', 10, 'Testing score:', 0.86, 'Training score:', 0.95)\n",
      "('Trees:', 70, 'Max_depth:', 20, 'Max_features:', 15, 'Testing score:', 0.86, 'Training score:', 0.96)\n",
      "('Trees:', 70, 'Max_depth:', 20, 'Max_features:', 20, 'Testing score:', 0.86, 'Training score:', 0.96)\n",
      "('Trees:', 70, 'Max_depth:', 20, 'Max_features:', 25, 'Testing score:', 0.87, 'Training score:', 0.96)\n",
      "('Trees:', 70, 'Max_depth:', 20, 'Max_features:', 30, 'Testing score:', 0.87, 'Training score:', 0.96)\n",
      "('Trees:', 70, 'Max_depth:', 20, 'Max_features:', 35, 'Testing score:', 0.87, 'Training score:', 0.96)\n",
      "('Trees:', 70, 'Max_depth:', 20, 'Max_features:', 40, 'Testing score:', 0.87, 'Training score:', 0.96)\n",
      "('Trees:', 70, 'Max_depth:', 20, 'Max_features:', 45, 'Testing score:', 0.87, 'Training score:', 0.96)\n",
      "('Trees:', 70, 'Max_depth:', 20, 'Max_features:', 50, 'Testing score:', 0.87, 'Training score:', 0.96)\n",
      "('Trees:', 70, 'Max_depth:', 20, 'Max_features:', 55, 'Testing score:', 0.87, 'Training score:', 0.96)\n",
      "('Trees:', 70, 'Max_depth:', 20, 'Max_features:', 60, 'Testing score:', 0.87, 'Training score:', 0.96)\n",
      "('Trees:', 70, 'Max_depth:', 20, 'Max_features:', 65, 'Testing score:', 0.87, 'Training score:', 0.96)\n",
      "('Trees:', 70, 'Max_depth:', 25, 'Max_features:', 5, 'Testing score:', 0.85, 'Training score:', 0.97)\n",
      "('Trees:', 70, 'Max_depth:', 25, 'Max_features:', 10, 'Testing score:', 0.86, 'Training score:', 0.97)\n",
      "('Trees:', 70, 'Max_depth:', 25, 'Max_features:', 15, 'Testing score:', 0.86, 'Training score:', 0.97)\n",
      "('Trees:', 70, 'Max_depth:', 25, 'Max_features:', 20, 'Testing score:', 0.86, 'Training score:', 0.97)\n",
      "('Trees:', 70, 'Max_depth:', 25, 'Max_features:', 25, 'Testing score:', 0.87, 'Training score:', 0.97)\n",
      "('Trees:', 70, 'Max_depth:', 25, 'Max_features:', 30, 'Testing score:', 0.87, 'Training score:', 0.98)\n",
      "('Trees:', 70, 'Max_depth:', 25, 'Max_features:', 35, 'Testing score:', 0.87, 'Training score:', 0.98)\n",
      "('Trees:', 70, 'Max_depth:', 25, 'Max_features:', 40, 'Testing score:', 0.87, 'Training score:', 0.98)\n",
      "('Trees:', 70, 'Max_depth:', 25, 'Max_features:', 45, 'Testing score:', 0.87, 'Training score:', 0.98)\n",
      "('Trees:', 70, 'Max_depth:', 25, 'Max_features:', 50, 'Testing score:', 0.87, 'Training score:', 0.98)\n",
      "('Trees:', 70, 'Max_depth:', 25, 'Max_features:', 55, 'Testing score:', 0.87, 'Training score:', 0.98)\n",
      "('Trees:', 70, 'Max_depth:', 25, 'Max_features:', 60, 'Testing score:', 0.87, 'Training score:', 0.98)\n",
      "('Trees:', 70, 'Max_depth:', 25, 'Max_features:', 65, 'Testing score:', 0.87, 'Training score:', 0.98)\n",
      "('Trees:', 70, 'Max_depth:', 30, 'Max_features:', 5, 'Testing score:', 0.85, 'Training score:', 0.97)\n",
      "('Trees:', 70, 'Max_depth:', 30, 'Max_features:', 10, 'Testing score:', 0.86, 'Training score:', 0.98)\n",
      "('Trees:', 70, 'Max_depth:', 30, 'Max_features:', 15, 'Testing score:', 0.86, 'Training score:', 0.98)\n",
      "('Trees:', 70, 'Max_depth:', 30, 'Max_features:', 20, 'Testing score:', 0.86, 'Training score:', 0.98)\n",
      "('Trees:', 70, 'Max_depth:', 30, 'Max_features:', 25, 'Testing score:', 0.87, 'Training score:', 0.98)\n",
      "('Trees:', 70, 'Max_depth:', 30, 'Max_features:', 30, 'Testing score:', 0.87, 'Training score:', 0.98)\n",
      "('Trees:', 70, 'Max_depth:', 30, 'Max_features:', 35, 'Testing score:', 0.87, 'Training score:', 0.98)\n",
      "('Trees:', 70, 'Max_depth:', 30, 'Max_features:', 40, 'Testing score:', 0.87, 'Training score:', 0.98)\n",
      "('Trees:', 70, 'Max_depth:', 30, 'Max_features:', 45, 'Testing score:', 0.87, 'Training score:', 0.98)\n",
      "('Trees:', 70, 'Max_depth:', 30, 'Max_features:', 50, 'Testing score:', 0.87, 'Training score:', 0.98)\n",
      "('Trees:', 70, 'Max_depth:', 30, 'Max_features:', 55, 'Testing score:', 0.87, 'Training score:', 0.98)\n",
      "('Trees:', 70, 'Max_depth:', 30, 'Max_features:', 60, 'Testing score:', 0.87, 'Training score:', 0.98)\n",
      "('Trees:', 70, 'Max_depth:', 30, 'Max_features:', 65, 'Testing score:', 0.87, 'Training score:', 0.98)\n",
      "('Trees:', 70, 'Max_depth:', 35, 'Max_features:', 5, 'Testing score:', 0.85, 'Training score:', 0.98)\n",
      "('Trees:', 70, 'Max_depth:', 35, 'Max_features:', 10, 'Testing score:', 0.86, 'Training score:', 0.98)\n",
      "('Trees:', 70, 'Max_depth:', 35, 'Max_features:', 15, 'Testing score:', 0.86, 'Training score:', 0.98)\n",
      "('Trees:', 70, 'Max_depth:', 35, 'Max_features:', 20, 'Testing score:', 0.86, 'Training score:', 0.98)\n",
      "('Trees:', 70, 'Max_depth:', 35, 'Max_features:', 25, 'Testing score:', 0.87, 'Training score:', 0.98)\n",
      "('Trees:', 70, 'Max_depth:', 35, 'Max_features:', 30, 'Testing score:', 0.87, 'Training score:', 0.98)\n",
      "('Trees:', 70, 'Max_depth:', 35, 'Max_features:', 35, 'Testing score:', 0.87, 'Training score:', 0.98)\n",
      "('Trees:', 70, 'Max_depth:', 35, 'Max_features:', 40, 'Testing score:', 0.87, 'Training score:', 0.98)\n",
      "('Trees:', 70, 'Max_depth:', 35, 'Max_features:', 45, 'Testing score:', 0.87, 'Training score:', 0.98)\n",
      "('Trees:', 70, 'Max_depth:', 35, 'Max_features:', 50, 'Testing score:', 0.87, 'Training score:', 0.98)\n",
      "('Trees:', 70, 'Max_depth:', 35, 'Max_features:', 55, 'Testing score:', 0.87, 'Training score:', 0.98)\n",
      "('Trees:', 70, 'Max_depth:', 35, 'Max_features:', 60, 'Testing score:', 0.87, 'Training score:', 0.98)\n",
      "('Trees:', 70, 'Max_depth:', 35, 'Max_features:', 65, 'Testing score:', 0.87, 'Training score:', 0.98)\n",
      "('Trees:', 70, 'Max_depth:', 40, 'Max_features:', 5, 'Testing score:', 0.85, 'Training score:', 0.98)\n",
      "('Trees:', 70, 'Max_depth:', 40, 'Max_features:', 10, 'Testing score:', 0.86, 'Training score:', 0.98)\n",
      "('Trees:', 70, 'Max_depth:', 40, 'Max_features:', 15, 'Testing score:', 0.86, 'Training score:', 0.98)\n",
      "('Trees:', 70, 'Max_depth:', 40, 'Max_features:', 20, 'Testing score:', 0.86, 'Training score:', 0.98)\n",
      "('Trees:', 70, 'Max_depth:', 40, 'Max_features:', 25, 'Testing score:', 0.87, 'Training score:', 0.98)\n",
      "('Trees:', 70, 'Max_depth:', 40, 'Max_features:', 30, 'Testing score:', 0.87, 'Training score:', 0.98)\n",
      "('Trees:', 70, 'Max_depth:', 40, 'Max_features:', 35, 'Testing score:', 0.87, 'Training score:', 0.98)\n",
      "('Trees:', 70, 'Max_depth:', 40, 'Max_features:', 40, 'Testing score:', 0.87, 'Training score:', 0.98)\n",
      "('Trees:', 70, 'Max_depth:', 40, 'Max_features:', 45, 'Testing score:', 0.87, 'Training score:', 0.98)\n",
      "('Trees:', 70, 'Max_depth:', 40, 'Max_features:', 50, 'Testing score:', 0.87, 'Training score:', 0.98)\n",
      "('Trees:', 70, 'Max_depth:', 40, 'Max_features:', 55, 'Testing score:', 0.87, 'Training score:', 0.98)\n",
      "('Trees:', 70, 'Max_depth:', 40, 'Max_features:', 60, 'Testing score:', 0.87, 'Training score:', 0.98)\n",
      "('Trees:', 70, 'Max_depth:', 40, 'Max_features:', 65, 'Testing score:', 0.87, 'Training score:', 0.98)\n",
      "('Trees:', 70, 'Max_depth:', 45, 'Max_features:', 5, 'Testing score:', 0.85, 'Training score:', 0.98)\n",
      "('Trees:', 70, 'Max_depth:', 45, 'Max_features:', 10, 'Testing score:', 0.86, 'Training score:', 0.98)\n",
      "('Trees:', 70, 'Max_depth:', 45, 'Max_features:', 15, 'Testing score:', 0.86, 'Training score:', 0.98)\n",
      "('Trees:', 70, 'Max_depth:', 45, 'Max_features:', 20, 'Testing score:', 0.86, 'Training score:', 0.98)\n",
      "('Trees:', 70, 'Max_depth:', 45, 'Max_features:', 25, 'Testing score:', 0.87, 'Training score:', 0.98)\n",
      "('Trees:', 70, 'Max_depth:', 45, 'Max_features:', 30, 'Testing score:', 0.87, 'Training score:', 0.98)\n",
      "('Trees:', 70, 'Max_depth:', 45, 'Max_features:', 35, 'Testing score:', 0.87, 'Training score:', 0.98)\n",
      "('Trees:', 70, 'Max_depth:', 45, 'Max_features:', 40, 'Testing score:', 0.87, 'Training score:', 0.98)\n",
      "('Trees:', 70, 'Max_depth:', 45, 'Max_features:', 45, 'Testing score:', 0.87, 'Training score:', 0.98)\n",
      "('Trees:', 70, 'Max_depth:', 45, 'Max_features:', 50, 'Testing score:', 0.87, 'Training score:', 0.98)\n",
      "('Trees:', 70, 'Max_depth:', 45, 'Max_features:', 55, 'Testing score:', 0.87, 'Training score:', 0.98)\n",
      "('Trees:', 70, 'Max_depth:', 45, 'Max_features:', 60, 'Testing score:', 0.87, 'Training score:', 0.98)\n",
      "('Trees:', 70, 'Max_depth:', 45, 'Max_features:', 65, 'Testing score:', 0.87, 'Training score:', 0.98)\n",
      "('Trees:', 70, 'Max_depth:', 50, 'Max_features:', 5, 'Testing score:', 0.85, 'Training score:', 0.98)\n",
      "('Trees:', 70, 'Max_depth:', 50, 'Max_features:', 10, 'Testing score:', 0.86, 'Training score:', 0.98)\n",
      "('Trees:', 70, 'Max_depth:', 50, 'Max_features:', 15, 'Testing score:', 0.86, 'Training score:', 0.98)\n",
      "('Trees:', 70, 'Max_depth:', 50, 'Max_features:', 20, 'Testing score:', 0.86, 'Training score:', 0.98)\n",
      "('Trees:', 70, 'Max_depth:', 50, 'Max_features:', 25, 'Testing score:', 0.87, 'Training score:', 0.98)\n",
      "('Trees:', 70, 'Max_depth:', 50, 'Max_features:', 30, 'Testing score:', 0.87, 'Training score:', 0.98)\n",
      "('Trees:', 70, 'Max_depth:', 50, 'Max_features:', 35, 'Testing score:', 0.87, 'Training score:', 0.98)\n",
      "('Trees:', 70, 'Max_depth:', 50, 'Max_features:', 40, 'Testing score:', 0.87, 'Training score:', 0.98)\n",
      "('Trees:', 70, 'Max_depth:', 50, 'Max_features:', 45, 'Testing score:', 0.87, 'Training score:', 0.98)\n",
      "('Trees:', 70, 'Max_depth:', 50, 'Max_features:', 50, 'Testing score:', 0.87, 'Training score:', 0.98)\n",
      "('Trees:', 70, 'Max_depth:', 50, 'Max_features:', 55, 'Testing score:', 0.87, 'Training score:', 0.98)\n",
      "('Trees:', 70, 'Max_depth:', 50, 'Max_features:', 60, 'Testing score:', 0.87, 'Training score:', 0.98)\n",
      "('Trees:', 70, 'Max_depth:', 50, 'Max_features:', 65, 'Testing score:', 0.87, 'Training score:', 0.98)\n",
      "('Trees:', 70, 'Max_depth:', 55, 'Max_features:', 5, 'Testing score:', 0.85, 'Training score:', 0.98)\n",
      "('Trees:', 70, 'Max_depth:', 55, 'Max_features:', 10, 'Testing score:', 0.86, 'Training score:', 0.98)\n",
      "('Trees:', 70, 'Max_depth:', 55, 'Max_features:', 15, 'Testing score:', 0.86, 'Training score:', 0.98)\n",
      "('Trees:', 70, 'Max_depth:', 55, 'Max_features:', 20, 'Testing score:', 0.86, 'Training score:', 0.98)\n",
      "('Trees:', 70, 'Max_depth:', 55, 'Max_features:', 25, 'Testing score:', 0.87, 'Training score:', 0.98)\n",
      "('Trees:', 70, 'Max_depth:', 55, 'Max_features:', 30, 'Testing score:', 0.87, 'Training score:', 0.98)\n",
      "('Trees:', 70, 'Max_depth:', 55, 'Max_features:', 35, 'Testing score:', 0.87, 'Training score:', 0.98)\n",
      "('Trees:', 70, 'Max_depth:', 55, 'Max_features:', 40, 'Testing score:', 0.87, 'Training score:', 0.98)\n",
      "('Trees:', 70, 'Max_depth:', 55, 'Max_features:', 45, 'Testing score:', 0.87, 'Training score:', 0.98)\n",
      "('Trees:', 70, 'Max_depth:', 55, 'Max_features:', 50, 'Testing score:', 0.87, 'Training score:', 0.98)\n",
      "('Trees:', 70, 'Max_depth:', 55, 'Max_features:', 55, 'Testing score:', 0.87, 'Training score:', 0.98)\n",
      "('Trees:', 70, 'Max_depth:', 55, 'Max_features:', 60, 'Testing score:', 0.87, 'Training score:', 0.98)\n",
      "('Trees:', 70, 'Max_depth:', 55, 'Max_features:', 65, 'Testing score:', 0.87, 'Training score:', 0.98)\n"
     ]
    }
   ],
   "source": [
    "# sample a subset of data to train and cross-validate\n",
    "# since 1M observations and 300 predictors takes FOREVER to run for each time\n",
    "n_samp = 100000\n",
    "sample_index = random.sample(range(0, train_length), n_samp)\n",
    "df_x = df_new_train.iloc[sample_index]\n",
    "df_y = np.array(gap[sample_index])\n",
    "\n",
    "# standardize predictors for ridge regression\n",
    "df_x = preprocessing.scale(df_x)\n",
    "        \n",
    "# Random forest regression with 10,000 observations\n",
    "n_trees = np.arange(40, 80, 30)  \n",
    "depths = np.arange(5, 60, 5)\n",
    "features = np.arange(5, 66, 5)\n",
    "n_combos = len(n_trees)*len(depths)*len(features)\n",
    "print 'Number of combos: ', n_combos\n",
    "scores = AutoKFold_RF(df_x, df_y, n_trees, depths, features)\n",
    "scores_test = scores[:n_combos]\n",
    "scores_train = scores[n_combos:]"
   ]
  },
  {
   "cell_type": "code",
   "execution_count": 168,
   "metadata": {
    "collapsed": false,
    "scrolled": true
   },
   "outputs": [
    {
     "data": {
      "image/png": "[encoded data removed]",
      "text/plain": [
       "<matplotlib.figure.Figure at 0x162ddc690>"
      ]
     },
     "metadata": {},
     "output_type": "display_data"
    }
   ],
   "source": [
    "plot_CV_scores(scores_train, scores_test, range(1, n_combos+1), 'Iteration', 'Random Forest')"
   ]
  },
  {
   "cell_type": "code",
   "execution_count": 169,
   "metadata": {
    "collapsed": false
   },
   "outputs": [
    {
     "data": {
      "image/png": "[encoded data removed]",
      "text/plain": [
       "<matplotlib.figure.Figure at 0x116b8ee10>"
      ]
     },
     "metadata": {},
     "output_type": "display_data"
    }
   ],
   "source": [
    "# plot 3D surface of max_depth vs. max_features vs. score \n",
    "fig = plt.figure(figsize=(15, 5))\n",
    "ax = fig.add_subplot(111, projection='3d')\n",
    "\n",
    "num_points = len(depths)*len(features)\n",
    "\n",
    "X = range(0, num_points)\n",
    "Y = range(0, num_points)\n",
    "Z = range(0, num_points)\n",
    "i = 0\n",
    "for d in depths:\n",
    "    for f in features:\n",
    "        X[i] = d\n",
    "        Y[i] = f\n",
    "        Z[i] = scores_test[i]\n",
    "        #ax.scatter(d, f, scores_test[i], c='r', marker='o')\n",
    "        i = i + 1\n",
    "        \n",
    "ax.plot_trisurf(X, Y, Z, cmap=plt.cm.Spectral)\n",
    "ax.set_title('RF Tuning Max_depth & Max_features')\n",
    "ax.set_xlabel('Max_depth')\n",
    "ax.set_ylabel('Max_features')\n",
    "ax.set_zlabel('Test Score')\n",
    "\n",
    "plt.show()\n",
    "\n",
    "# plot average scores given each max_depth, each max_feature"
   ]
  },
  {
   "cell_type": "code",
   "execution_count": 89,
   "metadata": {
    "collapsed": false
   },
   "outputs": [
    {
     "name": "stdout",
     "output_type": "stream",
     "text": [
      "The highest testing CV score is 0.87\n"
     ]
    }
   ],
   "source": [
    "print 'The highest testing CV score is', round(max(scores_test), 2)"
   ]
  },
  {
   "cell_type": "markdown",
   "metadata": {},
   "source": [
    "# Final Random Forest Model & Feature Importance"
   ]
  },
  {
   "cell_type": "code",
   "execution_count": 94,
   "metadata": {
    "collapsed": false
   },
   "outputs": [
    {
     "name": "stdout",
     "output_type": "stream",
     "text": [
      "0.938813932876\n"
     ]
    }
   ],
   "source": [
    "# Final random forest model\n",
    "RF = RandomForest(n_estimators=40, max_depth=20, max_features=45)\n",
    "RF.fit(df_new_train, gap)\n",
    "training_score = RF.score(df_new_train, gap)\n",
    "y_pred = RF.predict(df_new_test)\n",
    "print training_score"
   ]
  },
  {
   "cell_type": "code",
   "execution_count": 95,
   "metadata": {
    "collapsed": true
   },
   "outputs": [],
   "source": [
    "# Feature importance\n",
    "importances = RF.feature_importances_"
   ]
  },
  {
   "cell_type": "code",
   "execution_count": 131,
   "metadata": {
    "collapsed": false
   },
   "outputs": [
    {
     "name": "stdout",
     "output_type": "stream",
     "text": [
      "Feature ranking:\n",
      "1. feature feat_025 (0.155945)\n",
      "2. feature feat_119 (0.135799)\n",
      "3. feature newfeat_02 (0.091453)\n",
      "4. feature newfeat_13 (0.086730)\n",
      "5. feature newfeat_12 (0.045400)\n",
      "6. feature newfeat_37 (0.041728)\n",
      "7. feature newfeat_08 (0.037587)\n",
      "8. feature newfeat_28 (0.033918)\n",
      "9. feature newfeat_11 (0.032668)\n",
      "10. feature feat_102 (0.027712)\n"
     ]
    },
    {
     "data": {
      "image/png": "[encoded data removed]",
      "text/plain": [
       "<matplotlib.figure.Figure at 0x163551c50>"
      ]
     },
     "metadata": {},
     "output_type": "display_data"
    }
   ],
   "source": [
    "std = np.std([RF.feature_importances_ for tree in RF.estimators_],\n",
    "             axis=0)\n",
    "indices = np.argsort(importances)[::-1]\n",
    "\n",
    "# Print the feature ranking\n",
    "print(\"Feature ranking:\")\n",
    "\n",
    "#for f in range(df_new_train.shape[1]):\n",
    "# look at top 10 features\n",
    "for f in range(10):\n",
    "    print(\"%d. feature %s (%f)\" % (f + 1, df_new_train.columns.values[indices[f]], importances[indices[f]]))\n",
    "\n",
    "# Plot the feature importances of the forest\n",
    "plt.figure(figsize=(15, 5))\n",
    "plt.title(\"Random Forest Feature Importances\")\n",
    "plt.bar(range(10), importances[indices][0:10],\n",
    "       color=\"r\", yerr=std[indices][0:10], align=\"center\")\n",
    "plt.xticks(range(10), df_new_train.columns.values[indices])\n",
    "plt.xlim([-1, 10])\n",
    "plt.show()"
   ]
  },
  {
   "cell_type": "markdown",
   "metadata": {},
   "source": [
    "# Write Output"
   ]
  },
  {
   "cell_type": "code",
   "execution_count": 99,
   "metadata": {
    "collapsed": false
   },
   "outputs": [],
   "source": [
    "def write_to_file(filename, predictions):\n",
    "    with open(filename, \"w\") as f:\n",
    "        f.write(\"Id,Prediction\\n\")\n",
    "        for i,p in enumerate(predictions):\n",
    "            f.write(str(i+1) + \",\" + str(p) + \"\\n\")"
   ]
  },
  {
   "cell_type": "code",
   "execution_count": 100,
   "metadata": {
    "collapsed": true
   },
   "outputs": [],
   "source": [
    "write_to_file(\"sample1.csv\", y_pred)\n",
    "#write_to_file(\"sample2.csv\", RF_pred)"
   ]
  }
 ],
 "metadata": {
  "anaconda-cloud": {},
  "kernelspec": {
   "display_name": "Python 2",
   "language": "python",
   "name": "python2"
  },
  "language_info": {
   "codemirror_mode": {
    "name": "ipython",
    "version": 2
   },
   "file_extension": ".py",
   "mimetype": "text/x-python",
   "name": "python",
   "nbconvert_exporter": "python",
   "pygments_lexer": "ipython2",
   "version": "2.7.13"
  }
 },
 "nbformat": 4,
 "nbformat_minor": 0
}

{
 "cells": [
  {
   "cell_type": "code",
   "execution_count": 3,
   "metadata": {
    "collapsed": false
   },
   "outputs": [
    {
     "name": "stderr",
     "output_type": "stream",
     "text": [
      "/Users/linyingzhang/anaconda2/lib/python2.7/site-packages/sklearn/cross_validation.py:44: DeprecationWarning: This module was deprecated in version 0.18 in favor of the model_selection module into which all the refactored classes and functions are moved. Also note that the interface of the new CV iterators are different from that of this module. This module will be removed in 0.20.\n",
      "  \"This module will be removed in 0.20.\", DeprecationWarning)\n"
     ]
    }
   ],
   "source": [
    "from sklearn.linear_model import LogisticRegression\n",
    "from sklearn.discriminant_analysis import LinearDiscriminantAnalysis as LDA\n",
    "from sklearn.discriminant_analysis import QuadraticDiscriminantAnalysis as QDA\n",
    "from sklearn.tree import DecisionTreeClassifier as DecisionTree\n",
    "from sklearn.ensemble import RandomForestClassifier as RandomForest\n",
    "from sklearn.svm import LinearSVC\n",
    "from sklearn.cross_validation import train_test_split\n",
    "from sklearn.metrics import confusion_matrix\n",
    "from sklearn.metrics import mean_absolute_error\n",
    "from sklearn import preprocessing\n",
    "from sklearn.cross_validation import KFold\n",
    "from sklearn.svm import SVC\n",
    "from sklearn.svm import LinearSVC\n",
    "import matplotlib.pyplot as plt\n",
    "% matplotlib inline\n",
    "from sklearn.model_selection import train_test_split as sk_split\n",
    "\n",
    "import numpy as np\n",
    "import pandas as pd\n",
    "\n",
    "from sklearn.cluster import AgglomerativeClustering\n",
    "from sklearn.cluster import KMeans\n",
    "from sklearn.feature_extraction import DictVectorizer as DV\n",
    "\n",
    "# import BeautifulSoup and pyQuery to scrape HTML pages\n",
    "from bs4 import BeautifulSoup as bs\n",
    "# from pyquery import PyQuery as pq\n",
    "import requests\n",
    "\n",
    "# import musicbrainz\n",
    "# import musicbrainzngs as mb"
   ]
  },
  {
   "cell_type": "markdown",
   "metadata": {},
   "source": [
    "# Load data"
   ]
  },
  {
   "cell_type": "code",
   "execution_count": 3,
   "metadata": {
    "collapsed": false
   },
   "outputs": [
    {
     "data": {
      "text/html": [
       "<div>\n",
       "<table border=\"1\" class=\"dataframe\">\n",
       "  <thead>\n",
       "    <tr style=\"text-align: right;\">\n",
       "      <th></th>\n",
       "      <th>user</th>\n",
       "      <th>sex</th>\n",
       "      <th>age</th>\n",
       "      <th>country</th>\n",
       "    </tr>\n",
       "  </thead>\n",
       "  <tbody>\n",
       "    <tr>\n",
       "      <th>0</th>\n",
       "      <td>fa40b43298ba3f8aa52e8e8863faf2e2171e0b5d</td>\n",
       "      <td>f</td>\n",
       "      <td>25.0</td>\n",
       "      <td>Sweden</td>\n",
       "    </tr>\n",
       "    <tr>\n",
       "      <th>1</th>\n",
       "      <td>5909125332c108365a26ccf0ee62636eee08215c</td>\n",
       "      <td>m</td>\n",
       "      <td>29.0</td>\n",
       "      <td>Iceland</td>\n",
       "    </tr>\n",
       "    <tr>\n",
       "      <th>2</th>\n",
       "      <td>d1867cbda35e0d48e9a8390d9f5e079c9d99ea96</td>\n",
       "      <td>m</td>\n",
       "      <td>30.0</td>\n",
       "      <td>United States</td>\n",
       "    </tr>\n",
       "    <tr>\n",
       "      <th>3</th>\n",
       "      <td>63268cce0d68127729890c1691f62d5be5abd87c</td>\n",
       "      <td>m</td>\n",
       "      <td>21.0</td>\n",
       "      <td>Germany</td>\n",
       "    </tr>\n",
       "    <tr>\n",
       "      <th>4</th>\n",
       "      <td>02871cd952d607ba69b64e2e107773012c708113</td>\n",
       "      <td>m</td>\n",
       "      <td>24.0</td>\n",
       "      <td>Netherlands</td>\n",
       "    </tr>\n",
       "  </tbody>\n",
       "</table>\n",
       "</div>"
      ],
      "text/plain": [
       "                                       user sex   age        country\n",
       "0  fa40b43298ba3f8aa52e8e8863faf2e2171e0b5d   f  25.0         Sweden\n",
       "1  5909125332c108365a26ccf0ee62636eee08215c   m  29.0        Iceland\n",
       "2  d1867cbda35e0d48e9a8390d9f5e079c9d99ea96   m  30.0  United States\n",
       "3  63268cce0d68127729890c1691f62d5be5abd87c   m  21.0        Germany\n",
       "4  02871cd952d607ba69b64e2e107773012c708113   m  24.0    Netherlands"
      ]
     },
     "execution_count": 3,
     "metadata": {},
     "output_type": "execute_result"
    }
   ],
   "source": [
    "# read information on the users\n",
    "# can have blanks\n",
    "profiles = pd.read_csv(\"data/profiles.csv\")\n",
    "profiles.head()"
   ]
  },
  {
   "cell_type": "code",
   "execution_count": 4,
   "metadata": {
    "collapsed": false
   },
   "outputs": [
    {
     "data": {
      "text/html": [
       "<div>\n",
       "<table border=\"1\" class=\"dataframe\">\n",
       "  <thead>\n",
       "    <tr style=\"text-align: right;\">\n",
       "      <th></th>\n",
       "      <th>artist</th>\n",
       "      <th>name</th>\n",
       "    </tr>\n",
       "  </thead>\n",
       "  <tbody>\n",
       "    <tr>\n",
       "      <th>0</th>\n",
       "      <td>03098741-08b3-4dd7-b3f6-1b0bfa2c879c</td>\n",
       "      <td>Liars</td>\n",
       "    </tr>\n",
       "    <tr>\n",
       "      <th>1</th>\n",
       "      <td>69c4cc43-8163-41c5-ac81-30946d27bb69</td>\n",
       "      <td>CunninLynguists</td>\n",
       "    </tr>\n",
       "    <tr>\n",
       "      <th>2</th>\n",
       "      <td>7a2e6b55-f149-4e74-be6a-30a1b1a387bb</td>\n",
       "      <td>The Desert Sessions</td>\n",
       "    </tr>\n",
       "    <tr>\n",
       "      <th>3</th>\n",
       "      <td>7002bf88-1269-4965-a772-4ba1e7a91eaa</td>\n",
       "      <td>Glenn Gould</td>\n",
       "    </tr>\n",
       "    <tr>\n",
       "      <th>4</th>\n",
       "      <td>dbf7c761-e332-467b-b4d9-aafe06bbcf8f</td>\n",
       "      <td>G. Love &amp; Special Sauce</td>\n",
       "    </tr>\n",
       "  </tbody>\n",
       "</table>\n",
       "</div>"
      ],
      "text/plain": [
       "                                 artist                     name\n",
       "0  03098741-08b3-4dd7-b3f6-1b0bfa2c879c                    Liars\n",
       "1  69c4cc43-8163-41c5-ac81-30946d27bb69          CunninLynguists\n",
       "2  7a2e6b55-f149-4e74-be6a-30a1b1a387bb      The Desert Sessions\n",
       "3  7002bf88-1269-4965-a772-4ba1e7a91eaa              Glenn Gould\n",
       "4  dbf7c761-e332-467b-b4d9-aafe06bbcf8f  G. Love & Special Sauce"
      ]
     },
     "execution_count": 4,
     "metadata": {},
     "output_type": "execute_result"
    }
   ],
   "source": [
    "# read information on the artists\n",
    "# can have blanks\n",
    "artists = pd.read_csv(\"data/artists.csv\")\n",
    "artists.head()"
   ]
  },
  {
   "cell_type": "code",
   "execution_count": 5,
   "metadata": {
    "collapsed": false
   },
   "outputs": [
    {
     "name": "stdout",
     "output_type": "stream",
     "text": [
      "(233286, 4)\n",
      "(2000, 2)\n"
     ]
    }
   ],
   "source": [
    "print profiles.shape\n",
    "print artists.shape"
   ]
  },
  {
   "cell_type": "code",
   "execution_count": 6,
   "metadata": {
    "collapsed": false
   },
   "outputs": [
    {
     "data": {
      "text/html": [
       "<div>\n",
       "<table border=\"1\" class=\"dataframe\">\n",
       "  <thead>\n",
       "    <tr style=\"text-align: right;\">\n",
       "      <th></th>\n",
       "      <th>user</th>\n",
       "      <th>artist</th>\n",
       "      <th>plays</th>\n",
       "    </tr>\n",
       "  </thead>\n",
       "  <tbody>\n",
       "    <tr>\n",
       "      <th>0</th>\n",
       "      <td>eb1c57ddc9e0e2d005169d3a1a96e8dd95e3af03</td>\n",
       "      <td>5a8e07d5-d932-4484-a7f7-e700793a9c94</td>\n",
       "      <td>554</td>\n",
       "    </tr>\n",
       "    <tr>\n",
       "      <th>1</th>\n",
       "      <td>44ce793a6cd9d20f13f4a576a818ef983314bb5d</td>\n",
       "      <td>a3a92047-be1c-4f3e-8960-c4f8570984df</td>\n",
       "      <td>81</td>\n",
       "    </tr>\n",
       "    <tr>\n",
       "      <th>2</th>\n",
       "      <td>da9cf3f557161d54b76f24db64be9cc76db008e3</td>\n",
       "      <td>eeb1195b-f213-4ce1-b28c-8565211f8e43</td>\n",
       "      <td>708</td>\n",
       "    </tr>\n",
       "    <tr>\n",
       "      <th>3</th>\n",
       "      <td>8fa49ab25d425edcf05d44bfc1d5aea895287d81</td>\n",
       "      <td>a1419808-65d3-4d40-998c-1a0bac65eabc</td>\n",
       "      <td>265</td>\n",
       "    </tr>\n",
       "    <tr>\n",
       "      <th>4</th>\n",
       "      <td>b85fcaef67d2669cd99b334b5e8c8705263db2cf</td>\n",
       "      <td>a3cb23fc-acd3-4ce0-8f36-1e5aa6a18432</td>\n",
       "      <td>220</td>\n",
       "    </tr>\n",
       "  </tbody>\n",
       "</table>\n",
       "</div>"
      ],
      "text/plain": [
       "                                       user  \\\n",
       "0  eb1c57ddc9e0e2d005169d3a1a96e8dd95e3af03   \n",
       "1  44ce793a6cd9d20f13f4a576a818ef983314bb5d   \n",
       "2  da9cf3f557161d54b76f24db64be9cc76db008e3   \n",
       "3  8fa49ab25d425edcf05d44bfc1d5aea895287d81   \n",
       "4  b85fcaef67d2669cd99b334b5e8c8705263db2cf   \n",
       "\n",
       "                                 artist  plays  \n",
       "0  5a8e07d5-d932-4484-a7f7-e700793a9c94    554  \n",
       "1  a3a92047-be1c-4f3e-8960-c4f8570984df     81  \n",
       "2  eeb1195b-f213-4ce1-b28c-8565211f8e43    708  \n",
       "3  a1419808-65d3-4d40-998c-1a0bac65eabc    265  \n",
       "4  a3cb23fc-acd3-4ce0-8f36-1e5aa6a18432    220  "
      ]
     },
     "execution_count": 6,
     "metadata": {},
     "output_type": "execute_result"
    }
   ],
   "source": [
    "# read in training data\n",
    "df_train = pd.read_csv(\"data/train.csv\")\n",
    "df_train.head()"
   ]
  },
  {
   "cell_type": "code",
   "execution_count": 7,
   "metadata": {
    "collapsed": false
   },
   "outputs": [
    {
     "data": {
      "text/html": [
       "<div>\n",
       "<table border=\"1\" class=\"dataframe\">\n",
       "  <thead>\n",
       "    <tr style=\"text-align: right;\">\n",
       "      <th></th>\n",
       "      <th>Id</th>\n",
       "      <th>user</th>\n",
       "      <th>artist</th>\n",
       "    </tr>\n",
       "  </thead>\n",
       "  <tbody>\n",
       "    <tr>\n",
       "      <th>0</th>\n",
       "      <td>1</td>\n",
       "      <td>306e19cce2522fa2d39ff5dfc870992100ec22d2</td>\n",
       "      <td>4ac4e32b-bd18-402e-adad-ae00e72f8d85</td>\n",
       "    </tr>\n",
       "    <tr>\n",
       "      <th>1</th>\n",
       "      <td>2</td>\n",
       "      <td>9450d351278df4938bdea4ed86aec940a4e927ac</td>\n",
       "      <td>1f574ab1-a46d-4586-9331-f0ded23e0411</td>\n",
       "    </tr>\n",
       "    <tr>\n",
       "      <th>2</th>\n",
       "      <td>3</td>\n",
       "      <td>801909d6955f59033c88595d3d7f8a6a5dcd53cc</td>\n",
       "      <td>3eb72791-6322-466b-87d3-24d74901eb2d</td>\n",
       "    </tr>\n",
       "    <tr>\n",
       "      <th>3</th>\n",
       "      <td>4</td>\n",
       "      <td>e3ed47445c127fbeff47fb58f6bbf2f3b4535d82</td>\n",
       "      <td>61604b45-8a91-4e33-a1b6-45d7b1fec4e5</td>\n",
       "    </tr>\n",
       "    <tr>\n",
       "      <th>4</th>\n",
       "      <td>5</td>\n",
       "      <td>a73f46652103f3a5f7429159310f6928f79644aa</td>\n",
       "      <td>5dfdca28-9ddc-4853-933c-8bc97d87beec</td>\n",
       "    </tr>\n",
       "  </tbody>\n",
       "</table>\n",
       "</div>"
      ],
      "text/plain": [
       "   Id                                      user  \\\n",
       "0   1  306e19cce2522fa2d39ff5dfc870992100ec22d2   \n",
       "1   2  9450d351278df4938bdea4ed86aec940a4e927ac   \n",
       "2   3  801909d6955f59033c88595d3d7f8a6a5dcd53cc   \n",
       "3   4  e3ed47445c127fbeff47fb58f6bbf2f3b4535d82   \n",
       "4   5  a73f46652103f3a5f7429159310f6928f79644aa   \n",
       "\n",
       "                                 artist  \n",
       "0  4ac4e32b-bd18-402e-adad-ae00e72f8d85  \n",
       "1  1f574ab1-a46d-4586-9331-f0ded23e0411  \n",
       "2  3eb72791-6322-466b-87d3-24d74901eb2d  \n",
       "3  61604b45-8a91-4e33-a1b6-45d7b1fec4e5  \n",
       "4  5dfdca28-9ddc-4853-933c-8bc97d87beec  "
      ]
     },
     "execution_count": 7,
     "metadata": {},
     "output_type": "execute_result"
    }
   ],
   "source": [
    "# read in training data\n",
    "df_test = pd.read_csv(\"data/test.csv\")\n",
    "df_test.head()"
   ]
  },
  {
   "cell_type": "code",
   "execution_count": 8,
   "metadata": {
    "collapsed": false
   },
   "outputs": [
    {
     "name": "stdout",
     "output_type": "stream",
     "text": [
      "(4154804, 3)\n",
      "(4154804, 3)\n"
     ]
    }
   ],
   "source": [
    "print df_train.shape\n",
    "print df_test.shape"
   ]
  },
  {
   "cell_type": "code",
   "execution_count": 10,
   "metadata": {
    "collapsed": false
   },
   "outputs": [],
   "source": [
    "# all users and artists in the test set have appeared in the training set\n",
    "# testuser_existence = df_test['user'].isin(df_train['user'])\n",
    "# print sum(testuser_existence == 1)\n",
    "# print sum(testuser_existence == 0)\n",
    "\n",
    "# testart_existence = df_test['artist'].isin(df_train['artist'])\n",
    "# print sum(testart_existence == 1)\n",
    "# print sum(testart_existence == 0)"
   ]
  },
  {
   "cell_type": "code",
   "execution_count": 11,
   "metadata": {
    "collapsed": false
   },
   "outputs": [],
   "source": [
    "# artist_genres = {}\n",
    "# artist_n = len(artists)\n",
    "\n",
    "# # scrape musicbrainz page for each artist\n",
    "# for artist in range(artist_n):\n",
    "#     # retrieve page\n",
    "#     a = artists.iloc[artist][0]\n",
    "#     mb_page = \"https://musicbrainz.org/artist/\" + str(a)\n",
    "#     mb_page_get = requests.get(mb_page)\n",
    "#     soup = BeautifulSoup(mb_page_get.text, \"html.parser\")\n",
    "    \n",
    "#     # We are looking for a particular \"li\" element on the MusicBrainz page\n",
    "#     # This finds the Wikipedia page link on the page\n",
    "#     li_class = soup.find(\"li\", attrs={\"class\": \"wikipedia-favicon\"})\n",
    "#     if li_class == None:\n",
    "#         artist_genres[a] = ['NA']\n",
    "#         continue\n",
    "#     wiki_link = li_class.find('a')['href']\n",
    "    \n",
    "#     # Get the wikipedia page for the artist\n",
    "#     wiki_page_get = requests.get(\"https:\" + wiki_link)\n",
    "#     wiki_page = wiki_page_get.text\n",
    "\n",
    "#     # extract the genres from the wikipedia page\n",
    "#     m = 0\n",
    "#     urls = []\n",
    "#     genres = []\n",
    "#     for th in pq(wiki_page)(\".infobox tr th\"):\n",
    "#         if pq(th).text() == \"Genres\":\n",
    "#             for e in pq(th).nextAll(\"td a\"):\n",
    "#                 if pq(e).attr.href.find(\"#cite_note\") == -1:\n",
    "#                     urls.append(pq(e).attr.href)\n",
    "#                     genres.append(pq(e).attr.title)\n",
    "#                     m = 1\n",
    "#     if (m == 0):\n",
    "#         genres = ['NA']\n",
    "    \n",
    "#     artist_genres[a] = genres\n",
    "\n",
    "# artist_genres"
   ]
  },
  {
   "cell_type": "code",
   "execution_count": 12,
   "metadata": {
    "collapsed": true
   },
   "outputs": [],
   "source": [
    "# # create one-hot encoded matrix detailing the genres of each artist\n",
    "\n",
    "# # total list of possible genres\n",
    "# set_of_genres = set([])\n",
    "# for value in artist_genres.values():\n",
    "#     for gen in value:\n",
    "#         set_of_genres.add(gen)\n",
    "\n",
    "# # initialize to 0 for number of appearances of each genre\n",
    "# for genr in set_of_genres:\n",
    "#     artists[genr] = 0\n",
    "\n",
    "# # Label each genre with 1 if artist is that genre\n",
    "# for art in range(artist_n):\n",
    "#     id_ = artists.iloc[art][\"artist\"]\n",
    "#     for gen in artist_genres[id_]:\n",
    "#         artists.loc[art, gen] = 1"
   ]
  },
  {
   "cell_type": "code",
   "execution_count": 13,
   "metadata": {
    "collapsed": false
   },
   "outputs": [],
   "source": [
    "# #save the artists into json file\n",
    "# artists.to_json(\"artist_genres.json\")"
   ]
  },
  {
   "cell_type": "markdown",
   "metadata": {},
   "source": [
    "# User activity\n",
    "1. counts: how many artist each user listens to in the training set\n",
    "2. user_plays: how many plays each user have on all artists"
   ]
  },
  {
   "cell_type": "code",
   "execution_count": 8,
   "metadata": {
    "collapsed": false
   },
   "outputs": [
    {
     "data": {
      "text/html": [
       "<div>\n",
       "<table border=\"1\" class=\"dataframe\">\n",
       "  <thead>\n",
       "    <tr style=\"text-align: right;\">\n",
       "      <th></th>\n",
       "      <th>user</th>\n",
       "      <th>sex</th>\n",
       "      <th>age</th>\n",
       "      <th>country</th>\n",
       "      <th>number_artists_listen_to</th>\n",
       "    </tr>\n",
       "  </thead>\n",
       "  <tbody>\n",
       "    <tr>\n",
       "      <th>0</th>\n",
       "      <td>fa40b43298ba3f8aa52e8e8863faf2e2171e0b5d</td>\n",
       "      <td>f</td>\n",
       "      <td>25.0</td>\n",
       "      <td>Sweden</td>\n",
       "      <td>20</td>\n",
       "    </tr>\n",
       "    <tr>\n",
       "      <th>1</th>\n",
       "      <td>5909125332c108365a26ccf0ee62636eee08215c</td>\n",
       "      <td>m</td>\n",
       "      <td>29.0</td>\n",
       "      <td>Iceland</td>\n",
       "      <td>15</td>\n",
       "    </tr>\n",
       "    <tr>\n",
       "      <th>2</th>\n",
       "      <td>d1867cbda35e0d48e9a8390d9f5e079c9d99ea96</td>\n",
       "      <td>m</td>\n",
       "      <td>30.0</td>\n",
       "      <td>United States</td>\n",
       "      <td>20</td>\n",
       "    </tr>\n",
       "    <tr>\n",
       "      <th>3</th>\n",
       "      <td>63268cce0d68127729890c1691f62d5be5abd87c</td>\n",
       "      <td>m</td>\n",
       "      <td>21.0</td>\n",
       "      <td>Germany</td>\n",
       "      <td>14</td>\n",
       "    </tr>\n",
       "    <tr>\n",
       "      <th>4</th>\n",
       "      <td>02871cd952d607ba69b64e2e107773012c708113</td>\n",
       "      <td>m</td>\n",
       "      <td>24.0</td>\n",
       "      <td>Netherlands</td>\n",
       "      <td>16</td>\n",
       "    </tr>\n",
       "  </tbody>\n",
       "</table>\n",
       "</div>"
      ],
      "text/plain": [
       "                                       user sex   age        country  \\\n",
       "0  fa40b43298ba3f8aa52e8e8863faf2e2171e0b5d   f  25.0         Sweden   \n",
       "1  5909125332c108365a26ccf0ee62636eee08215c   m  29.0        Iceland   \n",
       "2  d1867cbda35e0d48e9a8390d9f5e079c9d99ea96   m  30.0  United States   \n",
       "3  63268cce0d68127729890c1691f62d5be5abd87c   m  21.0        Germany   \n",
       "4  02871cd952d607ba69b64e2e107773012c708113   m  24.0    Netherlands   \n",
       "\n",
       "   number_artists_listen_to  \n",
       "0                        20  \n",
       "1                        15  \n",
       "2                        20  \n",
       "3                        14  \n",
       "4                        16  "
      ]
     },
     "execution_count": 8,
     "metadata": {},
     "output_type": "execute_result"
    }
   ],
   "source": [
    "# calculate the number of instances of each user in the training data\n",
    "user_active = df_train.drop(['plays'],axis = 1).groupby([\"user\"]).count()\n",
    "user_active.columns = [\"number_artists_listen_to\"]\n",
    "user_active['user'] = user_active.index\n",
    "profiles  = profiles.merge(user_active, how=\"outer\")\n",
    "profiles.head()"
   ]
  },
  {
   "cell_type": "code",
   "execution_count": 9,
   "metadata": {
    "collapsed": false
   },
   "outputs": [
    {
     "data": {
      "text/html": [
       "<div>\n",
       "<table border=\"1\" class=\"dataframe\">\n",
       "  <thead>\n",
       "    <tr style=\"text-align: right;\">\n",
       "      <th></th>\n",
       "      <th>user</th>\n",
       "      <th>sex</th>\n",
       "      <th>age</th>\n",
       "      <th>country</th>\n",
       "      <th>number_artists_listen_to</th>\n",
       "      <th>user_plays</th>\n",
       "    </tr>\n",
       "  </thead>\n",
       "  <tbody>\n",
       "    <tr>\n",
       "      <th>0</th>\n",
       "      <td>fa40b43298ba3f8aa52e8e8863faf2e2171e0b5d</td>\n",
       "      <td>f</td>\n",
       "      <td>25.0</td>\n",
       "      <td>Sweden</td>\n",
       "      <td>20</td>\n",
       "      <td>1723</td>\n",
       "    </tr>\n",
       "    <tr>\n",
       "      <th>1</th>\n",
       "      <td>5909125332c108365a26ccf0ee62636eee08215c</td>\n",
       "      <td>m</td>\n",
       "      <td>29.0</td>\n",
       "      <td>Iceland</td>\n",
       "      <td>15</td>\n",
       "      <td>6316</td>\n",
       "    </tr>\n",
       "    <tr>\n",
       "      <th>2</th>\n",
       "      <td>d1867cbda35e0d48e9a8390d9f5e079c9d99ea96</td>\n",
       "      <td>m</td>\n",
       "      <td>30.0</td>\n",
       "      <td>United States</td>\n",
       "      <td>20</td>\n",
       "      <td>632</td>\n",
       "    </tr>\n",
       "    <tr>\n",
       "      <th>3</th>\n",
       "      <td>63268cce0d68127729890c1691f62d5be5abd87c</td>\n",
       "      <td>m</td>\n",
       "      <td>21.0</td>\n",
       "      <td>Germany</td>\n",
       "      <td>14</td>\n",
       "      <td>76680</td>\n",
       "    </tr>\n",
       "    <tr>\n",
       "      <th>4</th>\n",
       "      <td>02871cd952d607ba69b64e2e107773012c708113</td>\n",
       "      <td>m</td>\n",
       "      <td>24.0</td>\n",
       "      <td>Netherlands</td>\n",
       "      <td>16</td>\n",
       "      <td>2865</td>\n",
       "    </tr>\n",
       "  </tbody>\n",
       "</table>\n",
       "</div>"
      ],
      "text/plain": [
       "                                       user sex   age        country  \\\n",
       "0  fa40b43298ba3f8aa52e8e8863faf2e2171e0b5d   f  25.0         Sweden   \n",
       "1  5909125332c108365a26ccf0ee62636eee08215c   m  29.0        Iceland   \n",
       "2  d1867cbda35e0d48e9a8390d9f5e079c9d99ea96   m  30.0  United States   \n",
       "3  63268cce0d68127729890c1691f62d5be5abd87c   m  21.0        Germany   \n",
       "4  02871cd952d607ba69b64e2e107773012c708113   m  24.0    Netherlands   \n",
       "\n",
       "   number_artists_listen_to  user_plays  \n",
       "0                        20        1723  \n",
       "1                        15        6316  \n",
       "2                        20         632  \n",
       "3                        14       76680  \n",
       "4                        16        2865  "
      ]
     },
     "execution_count": 9,
     "metadata": {},
     "output_type": "execute_result"
    }
   ],
   "source": [
    "# calculate the total number of plays of each user in the training data\n",
    "user_play = df_train.drop(['artist'],axis = 1).groupby([\"user\"]).sum()\n",
    "user_play.columns = [\"user_plays\"]\n",
    "user_play['user'] = user_play.index\n",
    "profiles  = profiles.merge(user_play, how=\"outer\")\n",
    "profiles.head()"
   ]
  },
  {
   "cell_type": "code",
   "execution_count": 16,
   "metadata": {
    "collapsed": false
   },
   "outputs": [
    {
     "data": {
      "text/plain": [
       "(233286, 6)"
      ]
     },
     "execution_count": 16,
     "metadata": {},
     "output_type": "execute_result"
    }
   ],
   "source": [
    "profiles.shape"
   ]
  },
  {
   "cell_type": "markdown",
   "metadata": {},
   "source": [
    "# Artist popularity\n",
    "1. counts: how many people listen to each artist\n",
    "2. artist_plays: how many times each artist has been played by all users"
   ]
  },
  {
   "cell_type": "code",
   "execution_count": 10,
   "metadata": {
    "collapsed": false
   },
   "outputs": [
    {
     "data": {
      "text/html": [
       "<div>\n",
       "<table border=\"1\" class=\"dataframe\">\n",
       "  <thead>\n",
       "    <tr style=\"text-align: right;\">\n",
       "      <th></th>\n",
       "      <th>artist</th>\n",
       "      <th>name</th>\n",
       "      <th>listen_by_number_users</th>\n",
       "    </tr>\n",
       "  </thead>\n",
       "  <tbody>\n",
       "    <tr>\n",
       "      <th>0</th>\n",
       "      <td>03098741-08b3-4dd7-b3f6-1b0bfa2c879c</td>\n",
       "      <td>Liars</td>\n",
       "      <td>847</td>\n",
       "    </tr>\n",
       "    <tr>\n",
       "      <th>1</th>\n",
       "      <td>69c4cc43-8163-41c5-ac81-30946d27bb69</td>\n",
       "      <td>CunninLynguists</td>\n",
       "      <td>1022</td>\n",
       "    </tr>\n",
       "    <tr>\n",
       "      <th>2</th>\n",
       "      <td>7a2e6b55-f149-4e74-be6a-30a1b1a387bb</td>\n",
       "      <td>The Desert Sessions</td>\n",
       "      <td>668</td>\n",
       "    </tr>\n",
       "    <tr>\n",
       "      <th>3</th>\n",
       "      <td>7002bf88-1269-4965-a772-4ba1e7a91eaa</td>\n",
       "      <td>Glenn Gould</td>\n",
       "      <td>839</td>\n",
       "    </tr>\n",
       "    <tr>\n",
       "      <th>4</th>\n",
       "      <td>dbf7c761-e332-467b-b4d9-aafe06bbcf8f</td>\n",
       "      <td>G. Love &amp; Special Sauce</td>\n",
       "      <td>572</td>\n",
       "    </tr>\n",
       "  </tbody>\n",
       "</table>\n",
       "</div>"
      ],
      "text/plain": [
       "                                 artist                     name  \\\n",
       "0  03098741-08b3-4dd7-b3f6-1b0bfa2c879c                    Liars   \n",
       "1  69c4cc43-8163-41c5-ac81-30946d27bb69          CunninLynguists   \n",
       "2  7a2e6b55-f149-4e74-be6a-30a1b1a387bb      The Desert Sessions   \n",
       "3  7002bf88-1269-4965-a772-4ba1e7a91eaa              Glenn Gould   \n",
       "4  dbf7c761-e332-467b-b4d9-aafe06bbcf8f  G. Love & Special Sauce   \n",
       "\n",
       "   listen_by_number_users  \n",
       "0                     847  \n",
       "1                    1022  \n",
       "2                     668  \n",
       "3                     839  \n",
       "4                     572  "
      ]
     },
     "execution_count": 10,
     "metadata": {},
     "output_type": "execute_result"
    }
   ],
   "source": [
    "# calculate the number of \"plays\" for each artist\n",
    "item_popularity = df_train.drop(['plays'],axis = 1).groupby([\"artist\"]).count()\n",
    "item_popularity.columns = [\"listen_by_number_users\"]\n",
    "item_popularity[\"artist\"] = item_popularity.index\n",
    "artists = artists.merge(item_popularity,how = \"outer\")\n",
    "artists.head()"
   ]
  },
  {
   "cell_type": "code",
   "execution_count": 11,
   "metadata": {
    "collapsed": false
   },
   "outputs": [
    {
     "name": "stdout",
     "output_type": "stream",
     "text": [
      "(2000, 4)\n"
     ]
    },
    {
     "data": {
      "text/html": [
       "<div>\n",
       "<table border=\"1\" class=\"dataframe\">\n",
       "  <thead>\n",
       "    <tr style=\"text-align: right;\">\n",
       "      <th></th>\n",
       "      <th>artist</th>\n",
       "      <th>name</th>\n",
       "      <th>listen_by_number_users</th>\n",
       "      <th>artist_plays</th>\n",
       "    </tr>\n",
       "  </thead>\n",
       "  <tbody>\n",
       "    <tr>\n",
       "      <th>0</th>\n",
       "      <td>03098741-08b3-4dd7-b3f6-1b0bfa2c879c</td>\n",
       "      <td>Liars</td>\n",
       "      <td>847</td>\n",
       "      <td>184560</td>\n",
       "    </tr>\n",
       "    <tr>\n",
       "      <th>1</th>\n",
       "      <td>69c4cc43-8163-41c5-ac81-30946d27bb69</td>\n",
       "      <td>CunninLynguists</td>\n",
       "      <td>1022</td>\n",
       "      <td>333863</td>\n",
       "    </tr>\n",
       "    <tr>\n",
       "      <th>2</th>\n",
       "      <td>7a2e6b55-f149-4e74-be6a-30a1b1a387bb</td>\n",
       "      <td>The Desert Sessions</td>\n",
       "      <td>668</td>\n",
       "      <td>138321</td>\n",
       "    </tr>\n",
       "    <tr>\n",
       "      <th>3</th>\n",
       "      <td>7002bf88-1269-4965-a772-4ba1e7a91eaa</td>\n",
       "      <td>Glenn Gould</td>\n",
       "      <td>839</td>\n",
       "      <td>241348</td>\n",
       "    </tr>\n",
       "    <tr>\n",
       "      <th>4</th>\n",
       "      <td>dbf7c761-e332-467b-b4d9-aafe06bbcf8f</td>\n",
       "      <td>G. Love &amp; Special Sauce</td>\n",
       "      <td>572</td>\n",
       "      <td>115000</td>\n",
       "    </tr>\n",
       "  </tbody>\n",
       "</table>\n",
       "</div>"
      ],
      "text/plain": [
       "                                 artist                     name  \\\n",
       "0  03098741-08b3-4dd7-b3f6-1b0bfa2c879c                    Liars   \n",
       "1  69c4cc43-8163-41c5-ac81-30946d27bb69          CunninLynguists   \n",
       "2  7a2e6b55-f149-4e74-be6a-30a1b1a387bb      The Desert Sessions   \n",
       "3  7002bf88-1269-4965-a772-4ba1e7a91eaa              Glenn Gould   \n",
       "4  dbf7c761-e332-467b-b4d9-aafe06bbcf8f  G. Love & Special Sauce   \n",
       "\n",
       "   listen_by_number_users  artist_plays  \n",
       "0                     847        184560  \n",
       "1                    1022        333863  \n",
       "2                     668        138321  \n",
       "3                     839        241348  \n",
       "4                     572        115000  "
      ]
     },
     "execution_count": 11,
     "metadata": {},
     "output_type": "execute_result"
    }
   ],
   "source": [
    "# calculate the total number of plays of each artist in the training data\n",
    "artist_play = df_train.drop(['user'],axis = 1).groupby([\"artist\"]).sum()\n",
    "artist_play.columns = [\"artist_plays\"]\n",
    "artist_play['artist'] = artist_play.index\n",
    "artists  = artists.merge(artist_play, how=\"outer\")\n",
    "print artists.shape\n",
    "artists.head()"
   ]
  },
  {
   "cell_type": "markdown",
   "metadata": {},
   "source": [
    "# work with new one-hot encoded artist genres dataframe"
   ]
  },
  {
   "cell_type": "code",
   "execution_count": 12,
   "metadata": {
    "collapsed": false
   },
   "outputs": [
    {
     "data": {
      "text/plain": [
       "(2000, 663)"
      ]
     },
     "execution_count": 12,
     "metadata": {},
     "output_type": "execute_result"
    }
   ],
   "source": [
    "# read in the artists' info(with all genres) from a json file\n",
    "artists_onehot = pd.read_json(\"data/artist_genres.json\")\n",
    "del artists_onehot['name']\n",
    "artists_onehot.shape"
   ]
  },
  {
   "cell_type": "code",
   "execution_count": 13,
   "metadata": {
    "collapsed": false
   },
   "outputs": [
    {
     "name": "stdout",
     "output_type": "stream",
     "text": [
      "(2000, 665)\n"
     ]
    },
    {
     "data": {
      "text/html": [
       "<div>\n",
       "<table border=\"1\" class=\"dataframe\">\n",
       "  <thead>\n",
       "    <tr style=\"text-align: right;\">\n",
       "      <th></th>\n",
       "      <th>artist</th>\n",
       "      <th>listen_by_number_users</th>\n",
       "      <th>artist_plays</th>\n",
       "      <th>2 Tone</th>\n",
       "      <th>2 Tone (music genre)</th>\n",
       "      <th>2-Tone</th>\n",
       "      <th>2-step garage</th>\n",
       "      <th>Acid house</th>\n",
       "      <th>Acid jazz</th>\n",
       "      <th>Acid rock</th>\n",
       "      <th>...</th>\n",
       "      <th>Western music (North America)</th>\n",
       "      <th>Wikipedia:Citation needed</th>\n",
       "      <th>Witch house (music genre)</th>\n",
       "      <th>Wonky pop</th>\n",
       "      <th>Word play</th>\n",
       "      <th>World Music</th>\n",
       "      <th>World music</th>\n",
       "      <th>Worldbeat</th>\n",
       "      <th>Yass (music)</th>\n",
       "      <th>Yé-yé</th>\n",
       "    </tr>\n",
       "  </thead>\n",
       "  <tbody>\n",
       "    <tr>\n",
       "      <th>0</th>\n",
       "      <td>03098741-08b3-4dd7-b3f6-1b0bfa2c879c</td>\n",
       "      <td>847</td>\n",
       "      <td>184560</td>\n",
       "      <td>0</td>\n",
       "      <td>0</td>\n",
       "      <td>0</td>\n",
       "      <td>0</td>\n",
       "      <td>0</td>\n",
       "      <td>0</td>\n",
       "      <td>0</td>\n",
       "      <td>...</td>\n",
       "      <td>0</td>\n",
       "      <td>0</td>\n",
       "      <td>0</td>\n",
       "      <td>0</td>\n",
       "      <td>0</td>\n",
       "      <td>0</td>\n",
       "      <td>0</td>\n",
       "      <td>0</td>\n",
       "      <td>0</td>\n",
       "      <td>0</td>\n",
       "    </tr>\n",
       "    <tr>\n",
       "      <th>1</th>\n",
       "      <td>69c4cc43-8163-41c5-ac81-30946d27bb69</td>\n",
       "      <td>1022</td>\n",
       "      <td>333863</td>\n",
       "      <td>0</td>\n",
       "      <td>0</td>\n",
       "      <td>0</td>\n",
       "      <td>0</td>\n",
       "      <td>0</td>\n",
       "      <td>0</td>\n",
       "      <td>0</td>\n",
       "      <td>...</td>\n",
       "      <td>0</td>\n",
       "      <td>0</td>\n",
       "      <td>0</td>\n",
       "      <td>0</td>\n",
       "      <td>0</td>\n",
       "      <td>0</td>\n",
       "      <td>0</td>\n",
       "      <td>0</td>\n",
       "      <td>0</td>\n",
       "      <td>0</td>\n",
       "    </tr>\n",
       "    <tr>\n",
       "      <th>2</th>\n",
       "      <td>7a2e6b55-f149-4e74-be6a-30a1b1a387bb</td>\n",
       "      <td>668</td>\n",
       "      <td>138321</td>\n",
       "      <td>0</td>\n",
       "      <td>0</td>\n",
       "      <td>0</td>\n",
       "      <td>0</td>\n",
       "      <td>0</td>\n",
       "      <td>0</td>\n",
       "      <td>0</td>\n",
       "      <td>...</td>\n",
       "      <td>0</td>\n",
       "      <td>0</td>\n",
       "      <td>0</td>\n",
       "      <td>0</td>\n",
       "      <td>0</td>\n",
       "      <td>0</td>\n",
       "      <td>0</td>\n",
       "      <td>0</td>\n",
       "      <td>0</td>\n",
       "      <td>0</td>\n",
       "    </tr>\n",
       "    <tr>\n",
       "      <th>3</th>\n",
       "      <td>7002bf88-1269-4965-a772-4ba1e7a91eaa</td>\n",
       "      <td>839</td>\n",
       "      <td>241348</td>\n",
       "      <td>0</td>\n",
       "      <td>0</td>\n",
       "      <td>0</td>\n",
       "      <td>0</td>\n",
       "      <td>0</td>\n",
       "      <td>0</td>\n",
       "      <td>0</td>\n",
       "      <td>...</td>\n",
       "      <td>0</td>\n",
       "      <td>0</td>\n",
       "      <td>0</td>\n",
       "      <td>0</td>\n",
       "      <td>0</td>\n",
       "      <td>0</td>\n",
       "      <td>0</td>\n",
       "      <td>0</td>\n",
       "      <td>0</td>\n",
       "      <td>0</td>\n",
       "    </tr>\n",
       "    <tr>\n",
       "      <th>4</th>\n",
       "      <td>dbf7c761-e332-467b-b4d9-aafe06bbcf8f</td>\n",
       "      <td>572</td>\n",
       "      <td>115000</td>\n",
       "      <td>0</td>\n",
       "      <td>0</td>\n",
       "      <td>0</td>\n",
       "      <td>0</td>\n",
       "      <td>0</td>\n",
       "      <td>0</td>\n",
       "      <td>0</td>\n",
       "      <td>...</td>\n",
       "      <td>0</td>\n",
       "      <td>0</td>\n",
       "      <td>0</td>\n",
       "      <td>0</td>\n",
       "      <td>0</td>\n",
       "      <td>0</td>\n",
       "      <td>0</td>\n",
       "      <td>0</td>\n",
       "      <td>0</td>\n",
       "      <td>0</td>\n",
       "    </tr>\n",
       "  </tbody>\n",
       "</table>\n",
       "<p>5 rows × 665 columns</p>\n",
       "</div>"
      ],
      "text/plain": [
       "                                 artist  listen_by_number_users  artist_plays  \\\n",
       "0  03098741-08b3-4dd7-b3f6-1b0bfa2c879c                     847        184560   \n",
       "1  69c4cc43-8163-41c5-ac81-30946d27bb69                    1022        333863   \n",
       "2  7a2e6b55-f149-4e74-be6a-30a1b1a387bb                     668        138321   \n",
       "3  7002bf88-1269-4965-a772-4ba1e7a91eaa                     839        241348   \n",
       "4  dbf7c761-e332-467b-b4d9-aafe06bbcf8f                     572        115000   \n",
       "\n",
       "   2 Tone  2 Tone (music genre)  2-Tone  2-step garage  Acid house  Acid jazz  \\\n",
       "0       0                     0       0              0           0          0   \n",
       "1       0                     0       0              0           0          0   \n",
       "2       0                     0       0              0           0          0   \n",
       "3       0                     0       0              0           0          0   \n",
       "4       0                     0       0              0           0          0   \n",
       "\n",
       "   Acid rock  ...    Western music (North America)  Wikipedia:Citation needed  \\\n",
       "0          0  ...                                0                          0   \n",
       "1          0  ...                                0                          0   \n",
       "2          0  ...                                0                          0   \n",
       "3          0  ...                                0                          0   \n",
       "4          0  ...                                0                          0   \n",
       "\n",
       "   Witch house (music genre)  Wonky pop  Word play  World Music  World music  \\\n",
       "0                          0          0          0            0            0   \n",
       "1                          0          0          0            0            0   \n",
       "2                          0          0          0            0            0   \n",
       "3                          0          0          0            0            0   \n",
       "4                          0          0          0            0            0   \n",
       "\n",
       "   Worldbeat  Yass (music)  Yé-yé  \n",
       "0          0             0      0  \n",
       "1          0             0      0  \n",
       "2          0             0      0  \n",
       "3          0             0      0  \n",
       "4          0             0      0  \n",
       "\n",
       "[5 rows x 665 columns]"
      ]
     },
     "execution_count": 13,
     "metadata": {},
     "output_type": "execute_result"
    }
   ],
   "source": [
    "# merge artists and artists one-hot\n",
    "del artists['name']\n",
    "artists_merge = pd.merge(artists, artists_onehot, how='inner', on='artist')\n",
    "print artists_merge.shape\n",
    "artists_merge.head()"
   ]
  },
  {
   "cell_type": "markdown",
   "metadata": {},
   "source": [
    "# Kmeans on artists"
   ]
  },
  {
   "cell_type": "code",
   "execution_count": 14,
   "metadata": {
    "collapsed": false
   },
   "outputs": [
    {
     "name": "stdout",
     "output_type": "stream",
     "text": [
      "108\n",
      "108\n",
      "(2000, 78)\n"
     ]
    },
    {
     "name": "stderr",
     "output_type": "stream",
     "text": [
      "/Users/linyingzhang/anaconda2/lib/python2.7/site-packages/ipykernel/__main__.py:11: SettingWithCopyWarning: \n",
      "A value is trying to be set on a copy of a slice from a DataFrame\n",
      "\n",
      "See the caveats in the documentation: http://pandas.pydata.org/pandas-docs/stable/indexing.html#indexing-view-versus-copy\n"
     ]
    }
   ],
   "source": [
    "# np.mean(artists_merge.sum(axis=1)) # average each artist belongs to 3.4 genres\n",
    "# sum(artists_merge.sum(axis=0) >=20) # 76 genres have more than 20 artists\n",
    "\n",
    "# drop the gernes with less than 20 artists \n",
    "column_to_drop = artists_merge.sum(axis=0) < 20\n",
    "\n",
    "artists_merge_dropcol = artists_merge.drop(artists_merge.columns[column_to_drop], axis= 1)\n",
    "artists_merge_dropcol.shape\n",
    "row_minority = artists_merge_dropcol.iloc[:,3:].sum(axis = 1) == 0\n",
    "artists_merge_dropcol['minority_genres'] = 0\n",
    "artists_merge_dropcol['minority_genres'][row_minority] = 1\n",
    "print sum(row_minority)\n",
    "print artists_merge_dropcol['minority_genres'].sum(axis=0)\n",
    "print artists_merge_dropcol.shape"
   ]
  },
  {
   "cell_type": "code",
   "execution_count": 121,
   "metadata": {
    "collapsed": false
   },
   "outputs": [],
   "source": [
    "artists_array = artists_merge_dropcol.drop('artist', axis = 1).values\n",
    "artists_array = preprocessing.normalize(artists_array, axis = 0)\n",
    "K = [20, 40, 80, 160, 320, 640, 1280]\n",
    "labels = []\n",
    "score = []\n",
    "for i in range(len(K)):\n",
    "    kmeans_artists = KMeans(n_clusters=K[i], init='k-means++', n_init=10, max_iter=300)\n",
    "    labels.append(kmeans_artists.fit_predict(artists_array))\n",
    "    score.append(kmeans_artists.inertia_)"
   ]
  },
  {
   "cell_type": "code",
   "execution_count": 123,
   "metadata": {
    "collapsed": false
   },
   "outputs": [
    {
     "data": {
      "image/png": "[encoded data removed]",
      "text/plain": [
       "<matplotlib.figure.Figure at 0x155ae2550>"
      ]
     },
     "metadata": {},
     "output_type": "display_data"
    }
   ],
   "source": [
    "# plot the inertia to determine K\n",
    "# choose K=200\n",
    "plt.plot([20, 40, 80, 160, 320, 640, 1280], score, 'bo-')\n",
    "plt.show()"
   ]
  },
  {
   "cell_type": "code",
   "execution_count": 27,
   "metadata": {
    "collapsed": false
   },
   "outputs": [],
   "source": [
    "artists_array = artists_merge_dropcol.drop('artist', axis = 1).values\n",
    "artists_array = preprocessing.normalize(artists_array, axis = 0)\n",
    "K=200\n",
    "kmeans_artists = KMeans(n_clusters=K, init='k-means++', n_init=10, max_iter=3000)\n",
    "kmeans_artists.fit(artists_array)\n",
    "artists_labels = kmeans_artists.labels_"
   ]
  },
  {
   "cell_type": "code",
   "execution_count": 28,
   "metadata": {
    "collapsed": false
   },
   "outputs": [
    {
     "data": {
      "image/png": "[encoded data removed]",
      "text/plain": [
       "<matplotlib.figure.Figure at 0x16812f750>"
      ]
     },
     "metadata": {},
     "output_type": "display_data"
    }
   ],
   "source": [
    "# add label to artists dataframe\n",
    "artists_merge_dropcol['cluster_label'] = artists_labels\n",
    "plt.hist(artists_labels, bins = 200)\n",
    "# plt.ylim([0, 100])\n",
    "plt.show() # cluster distribution"
   ]
  },
  {
   "cell_type": "code",
   "execution_count": 30,
   "metadata": {
    "collapsed": false
   },
   "outputs": [],
   "source": [
    "artists_merge_dropcol.to_csv('artists_labels.csv')"
   ]
  },
  {
   "cell_type": "markdown",
   "metadata": {},
   "source": [
    "# one-hot encoded user dataframe"
   ]
  },
  {
   "cell_type": "code",
   "execution_count": 240,
   "metadata": {
    "collapsed": false
   },
   "outputs": [
    {
     "name": "stdout",
     "output_type": "stream",
     "text": [
      "19535\n",
      "44842\n",
      "0\n"
     ]
    }
   ],
   "source": [
    "# check for missing values\n",
    "print sum(pd.isnull(profiles['sex']))\n",
    "print sum(pd.isnull(profiles['age']))\n",
    "print sum(pd.isnull(profiles['country']))"
   ]
  },
  {
   "cell_type": "code",
   "execution_count": 241,
   "metadata": {
    "collapsed": false
   },
   "outputs": [
    {
     "name": "stdout",
     "output_type": "stream",
     "text": [
      "0\n"
     ]
    }
   ],
   "source": [
    "# fill in median for age\n",
    "profiles['age'].fillna(profiles['age'].median(), inplace = True)\n",
    "print sum(pd.isnull(profiles['age']))\n",
    "# fill in missing values for sex, and country as NA\n",
    "profiles['sex'].fillna('NA', inplace = True)\n",
    "profiles['country'].fillna('NA', inplace = True)\n",
    "# onehot encode sex and country\n",
    "sex_dummy = pd.get_dummies(profiles['sex'])\n",
    "country_dummy = pd.get_dummies(profiles['country'])"
   ]
  },
  {
   "cell_type": "code",
   "execution_count": 242,
   "metadata": {
    "collapsed": false
   },
   "outputs": [
    {
     "name": "stdout",
     "output_type": "stream",
     "text": [
      "(233286, 246)\n"
     ]
    },
    {
     "data": {
      "text/html": [
       "<div>\n",
       "<table border=\"1\" class=\"dataframe\">\n",
       "  <thead>\n",
       "    <tr style=\"text-align: right;\">\n",
       "      <th></th>\n",
       "      <th>user</th>\n",
       "      <th>age</th>\n",
       "      <th>number_artists_listen_to</th>\n",
       "      <th>user_plays</th>\n",
       "      <th>NA</th>\n",
       "      <th>f</th>\n",
       "      <th>m</th>\n",
       "      <th>Afghanistan</th>\n",
       "      <th>Albania</th>\n",
       "      <th>Algeria</th>\n",
       "      <th>...</th>\n",
       "      <th>Vanuatu</th>\n",
       "      <th>Venezuela</th>\n",
       "      <th>Viet Nam</th>\n",
       "      <th>Virgin Islands, British</th>\n",
       "      <th>Virgin Islands, U.s.</th>\n",
       "      <th>Wallis and Futuna</th>\n",
       "      <th>Western Sahara</th>\n",
       "      <th>Yemen</th>\n",
       "      <th>Zambia</th>\n",
       "      <th>Zimbabwe</th>\n",
       "    </tr>\n",
       "  </thead>\n",
       "  <tbody>\n",
       "    <tr>\n",
       "      <th>0</th>\n",
       "      <td>fa40b43298ba3f8aa52e8e8863faf2e2171e0b5d</td>\n",
       "      <td>25.0</td>\n",
       "      <td>20</td>\n",
       "      <td>1723</td>\n",
       "      <td>0</td>\n",
       "      <td>1</td>\n",
       "      <td>0</td>\n",
       "      <td>0</td>\n",
       "      <td>0</td>\n",
       "      <td>0</td>\n",
       "      <td>...</td>\n",
       "      <td>0</td>\n",
       "      <td>0</td>\n",
       "      <td>0</td>\n",
       "      <td>0</td>\n",
       "      <td>0</td>\n",
       "      <td>0</td>\n",
       "      <td>0</td>\n",
       "      <td>0</td>\n",
       "      <td>0</td>\n",
       "      <td>0</td>\n",
       "    </tr>\n",
       "    <tr>\n",
       "      <th>1</th>\n",
       "      <td>5909125332c108365a26ccf0ee62636eee08215c</td>\n",
       "      <td>29.0</td>\n",
       "      <td>15</td>\n",
       "      <td>6316</td>\n",
       "      <td>0</td>\n",
       "      <td>0</td>\n",
       "      <td>1</td>\n",
       "      <td>0</td>\n",
       "      <td>0</td>\n",
       "      <td>0</td>\n",
       "      <td>...</td>\n",
       "      <td>0</td>\n",
       "      <td>0</td>\n",
       "      <td>0</td>\n",
       "      <td>0</td>\n",
       "      <td>0</td>\n",
       "      <td>0</td>\n",
       "      <td>0</td>\n",
       "      <td>0</td>\n",
       "      <td>0</td>\n",
       "      <td>0</td>\n",
       "    </tr>\n",
       "    <tr>\n",
       "      <th>2</th>\n",
       "      <td>d1867cbda35e0d48e9a8390d9f5e079c9d99ea96</td>\n",
       "      <td>30.0</td>\n",
       "      <td>20</td>\n",
       "      <td>632</td>\n",
       "      <td>0</td>\n",
       "      <td>0</td>\n",
       "      <td>1</td>\n",
       "      <td>0</td>\n",
       "      <td>0</td>\n",
       "      <td>0</td>\n",
       "      <td>...</td>\n",
       "      <td>0</td>\n",
       "      <td>0</td>\n",
       "      <td>0</td>\n",
       "      <td>0</td>\n",
       "      <td>0</td>\n",
       "      <td>0</td>\n",
       "      <td>0</td>\n",
       "      <td>0</td>\n",
       "      <td>0</td>\n",
       "      <td>0</td>\n",
       "    </tr>\n",
       "    <tr>\n",
       "      <th>3</th>\n",
       "      <td>63268cce0d68127729890c1691f62d5be5abd87c</td>\n",
       "      <td>21.0</td>\n",
       "      <td>14</td>\n",
       "      <td>76680</td>\n",
       "      <td>0</td>\n",
       "      <td>0</td>\n",
       "      <td>1</td>\n",
       "      <td>0</td>\n",
       "      <td>0</td>\n",
       "      <td>0</td>\n",
       "      <td>...</td>\n",
       "      <td>0</td>\n",
       "      <td>0</td>\n",
       "      <td>0</td>\n",
       "      <td>0</td>\n",
       "      <td>0</td>\n",
       "      <td>0</td>\n",
       "      <td>0</td>\n",
       "      <td>0</td>\n",
       "      <td>0</td>\n",
       "      <td>0</td>\n",
       "    </tr>\n",
       "    <tr>\n",
       "      <th>4</th>\n",
       "      <td>02871cd952d607ba69b64e2e107773012c708113</td>\n",
       "      <td>24.0</td>\n",
       "      <td>16</td>\n",
       "      <td>2865</td>\n",
       "      <td>0</td>\n",
       "      <td>0</td>\n",
       "      <td>1</td>\n",
       "      <td>0</td>\n",
       "      <td>0</td>\n",
       "      <td>0</td>\n",
       "      <td>...</td>\n",
       "      <td>0</td>\n",
       "      <td>0</td>\n",
       "      <td>0</td>\n",
       "      <td>0</td>\n",
       "      <td>0</td>\n",
       "      <td>0</td>\n",
       "      <td>0</td>\n",
       "      <td>0</td>\n",
       "      <td>0</td>\n",
       "      <td>0</td>\n",
       "    </tr>\n",
       "  </tbody>\n",
       "</table>\n",
       "<p>5 rows × 246 columns</p>\n",
       "</div>"
      ],
      "text/plain": [
       "                                       user   age  number_artists_listen_to  \\\n",
       "0  fa40b43298ba3f8aa52e8e8863faf2e2171e0b5d  25.0                        20   \n",
       "1  5909125332c108365a26ccf0ee62636eee08215c  29.0                        15   \n",
       "2  d1867cbda35e0d48e9a8390d9f5e079c9d99ea96  30.0                        20   \n",
       "3  63268cce0d68127729890c1691f62d5be5abd87c  21.0                        14   \n",
       "4  02871cd952d607ba69b64e2e107773012c708113  24.0                        16   \n",
       "\n",
       "   user_plays  NA  f  m  Afghanistan  Albania  Algeria    ...     Vanuatu  \\\n",
       "0        1723   0  1  0            0        0        0    ...           0   \n",
       "1        6316   0  0  1            0        0        0    ...           0   \n",
       "2         632   0  0  1            0        0        0    ...           0   \n",
       "3       76680   0  0  1            0        0        0    ...           0   \n",
       "4        2865   0  0  1            0        0        0    ...           0   \n",
       "\n",
       "   Venezuela  Viet Nam  Virgin Islands, British  Virgin Islands, U.s.  \\\n",
       "0          0         0                        0                     0   \n",
       "1          0         0                        0                     0   \n",
       "2          0         0                        0                     0   \n",
       "3          0         0                        0                     0   \n",
       "4          0         0                        0                     0   \n",
       "\n",
       "   Wallis and Futuna  Western Sahara  Yemen  Zambia  Zimbabwe  \n",
       "0                  0               0      0       0         0  \n",
       "1                  0               0      0       0         0  \n",
       "2                  0               0      0       0         0  \n",
       "3                  0               0      0       0         0  \n",
       "4                  0               0      0       0         0  \n",
       "\n",
       "[5 rows x 246 columns]"
      ]
     },
     "execution_count": 242,
     "metadata": {},
     "output_type": "execute_result"
    }
   ],
   "source": [
    "profiles_dummy = pd.concat([profiles, sex_dummy, country_dummy], axis = 1)\n",
    "del profiles_dummy['sex']\n",
    "del profiles_dummy['country']\n",
    "print profiles_dummy.shape\n",
    "profiles_dummy.head()"
   ]
  },
  {
   "cell_type": "markdown",
   "metadata": {},
   "source": [
    "# add artists_cluster as feature into user dataframe"
   ]
  },
  {
   "cell_type": "code",
   "execution_count": 215,
   "metadata": {
    "collapsed": false
   },
   "outputs": [
    {
     "name": "stderr",
     "output_type": "stream",
     "text": [
      "/Users/linyingzhang/anaconda2/lib/python2.7/site-packages/ipykernel/__main__.py:6: FutureWarning: sort(columns=....) is deprecated, use sort_values(by=.....)\n"
     ]
    }
   ],
   "source": [
    "# dataframe to store user plays for each artists_cluster\n",
    "profiles_artistCluster = pd.DataFrame(np.zeros([233286, 200]))\n",
    "\n",
    "profiles_artistCluster.columns = ['artists_cluster_'+str(col) for col in profiles_artistCluster.columns]\n",
    "\n",
    "profiles_artistCluster['user'] = profiles['user']\n",
    "# sort by user ID\n",
    "profiles_artistCluster = profiles_artistCluster.sort(columns = 'user')"
   ]
  },
  {
   "cell_type": "code",
   "execution_count": 216,
   "metadata": {
    "collapsed": false
   },
   "outputs": [
    {
     "data": {
      "text/html": [
       "<div>\n",
       "<table border=\"1\" class=\"dataframe\">\n",
       "  <thead>\n",
       "    <tr style=\"text-align: right;\">\n",
       "      <th></th>\n",
       "      <th>artists_cluster_0</th>\n",
       "      <th>artists_cluster_1</th>\n",
       "      <th>artists_cluster_2</th>\n",
       "      <th>artists_cluster_3</th>\n",
       "      <th>artists_cluster_4</th>\n",
       "      <th>artists_cluster_5</th>\n",
       "      <th>artists_cluster_6</th>\n",
       "      <th>artists_cluster_7</th>\n",
       "      <th>artists_cluster_8</th>\n",
       "      <th>artists_cluster_9</th>\n",
       "      <th>...</th>\n",
       "      <th>artists_cluster_191</th>\n",
       "      <th>artists_cluster_192</th>\n",
       "      <th>artists_cluster_193</th>\n",
       "      <th>artists_cluster_194</th>\n",
       "      <th>artists_cluster_195</th>\n",
       "      <th>artists_cluster_196</th>\n",
       "      <th>artists_cluster_197</th>\n",
       "      <th>artists_cluster_198</th>\n",
       "      <th>artists_cluster_199</th>\n",
       "      <th>user</th>\n",
       "    </tr>\n",
       "  </thead>\n",
       "  <tbody>\n",
       "    <tr>\n",
       "      <th>209723</th>\n",
       "      <td>0.0</td>\n",
       "      <td>0.0</td>\n",
       "      <td>0.0</td>\n",
       "      <td>0.0</td>\n",
       "      <td>0.0</td>\n",
       "      <td>0.0</td>\n",
       "      <td>0.0</td>\n",
       "      <td>0.0</td>\n",
       "      <td>0.0</td>\n",
       "      <td>0.0</td>\n",
       "      <td>...</td>\n",
       "      <td>0.0</td>\n",
       "      <td>0.0</td>\n",
       "      <td>0.0</td>\n",
       "      <td>0.0</td>\n",
       "      <td>0.0</td>\n",
       "      <td>0.0</td>\n",
       "      <td>0.0</td>\n",
       "      <td>0.0</td>\n",
       "      <td>0.0</td>\n",
       "      <td>00000c289a1829a808ac09c00daf10bc3c4e223b</td>\n",
       "    </tr>\n",
       "    <tr>\n",
       "      <th>227022</th>\n",
       "      <td>0.0</td>\n",
       "      <td>0.0</td>\n",
       "      <td>0.0</td>\n",
       "      <td>0.0</td>\n",
       "      <td>0.0</td>\n",
       "      <td>0.0</td>\n",
       "      <td>0.0</td>\n",
       "      <td>0.0</td>\n",
       "      <td>0.0</td>\n",
       "      <td>0.0</td>\n",
       "      <td>...</td>\n",
       "      <td>0.0</td>\n",
       "      <td>0.0</td>\n",
       "      <td>0.0</td>\n",
       "      <td>0.0</td>\n",
       "      <td>0.0</td>\n",
       "      <td>0.0</td>\n",
       "      <td>0.0</td>\n",
       "      <td>0.0</td>\n",
       "      <td>0.0</td>\n",
       "      <td>00001411dc427966b17297bf4d69e7e193135d89</td>\n",
       "    </tr>\n",
       "    <tr>\n",
       "      <th>220515</th>\n",
       "      <td>0.0</td>\n",
       "      <td>0.0</td>\n",
       "      <td>0.0</td>\n",
       "      <td>0.0</td>\n",
       "      <td>0.0</td>\n",
       "      <td>0.0</td>\n",
       "      <td>0.0</td>\n",
       "      <td>0.0</td>\n",
       "      <td>0.0</td>\n",
       "      <td>0.0</td>\n",
       "      <td>...</td>\n",
       "      <td>0.0</td>\n",
       "      <td>0.0</td>\n",
       "      <td>0.0</td>\n",
       "      <td>0.0</td>\n",
       "      <td>0.0</td>\n",
       "      <td>0.0</td>\n",
       "      <td>0.0</td>\n",
       "      <td>0.0</td>\n",
       "      <td>0.0</td>\n",
       "      <td>000063d3fe1cf2ba248b9e3c3f0334845a27a6bf</td>\n",
       "    </tr>\n",
       "    <tr>\n",
       "      <th>145320</th>\n",
       "      <td>0.0</td>\n",
       "      <td>0.0</td>\n",
       "      <td>0.0</td>\n",
       "      <td>0.0</td>\n",
       "      <td>0.0</td>\n",
       "      <td>0.0</td>\n",
       "      <td>0.0</td>\n",
       "      <td>0.0</td>\n",
       "      <td>0.0</td>\n",
       "      <td>0.0</td>\n",
       "      <td>...</td>\n",
       "      <td>0.0</td>\n",
       "      <td>0.0</td>\n",
       "      <td>0.0</td>\n",
       "      <td>0.0</td>\n",
       "      <td>0.0</td>\n",
       "      <td>0.0</td>\n",
       "      <td>0.0</td>\n",
       "      <td>0.0</td>\n",
       "      <td>0.0</td>\n",
       "      <td>00007a47085b9aab8af55f52ec8846ac479ac4fe</td>\n",
       "    </tr>\n",
       "    <tr>\n",
       "      <th>7009</th>\n",
       "      <td>0.0</td>\n",
       "      <td>0.0</td>\n",
       "      <td>0.0</td>\n",
       "      <td>0.0</td>\n",
       "      <td>0.0</td>\n",
       "      <td>0.0</td>\n",
       "      <td>0.0</td>\n",
       "      <td>0.0</td>\n",
       "      <td>0.0</td>\n",
       "      <td>0.0</td>\n",
       "      <td>...</td>\n",
       "      <td>0.0</td>\n",
       "      <td>0.0</td>\n",
       "      <td>0.0</td>\n",
       "      <td>0.0</td>\n",
       "      <td>0.0</td>\n",
       "      <td>0.0</td>\n",
       "      <td>0.0</td>\n",
       "      <td>0.0</td>\n",
       "      <td>0.0</td>\n",
       "      <td>0000c176103e538d5c9828e695fed4f7ae42dd01</td>\n",
       "    </tr>\n",
       "  </tbody>\n",
       "</table>\n",
       "<p>5 rows × 201 columns</p>\n",
       "</div>"
      ],
      "text/plain": [
       "        artists_cluster_0  artists_cluster_1  artists_cluster_2  \\\n",
       "209723                0.0                0.0                0.0   \n",
       "227022                0.0                0.0                0.0   \n",
       "220515                0.0                0.0                0.0   \n",
       "145320                0.0                0.0                0.0   \n",
       "7009                  0.0                0.0                0.0   \n",
       "\n",
       "        artists_cluster_3  artists_cluster_4  artists_cluster_5  \\\n",
       "209723                0.0                0.0                0.0   \n",
       "227022                0.0                0.0                0.0   \n",
       "220515                0.0                0.0                0.0   \n",
       "145320                0.0                0.0                0.0   \n",
       "7009                  0.0                0.0                0.0   \n",
       "\n",
       "        artists_cluster_6  artists_cluster_7  artists_cluster_8  \\\n",
       "209723                0.0                0.0                0.0   \n",
       "227022                0.0                0.0                0.0   \n",
       "220515                0.0                0.0                0.0   \n",
       "145320                0.0                0.0                0.0   \n",
       "7009                  0.0                0.0                0.0   \n",
       "\n",
       "        artists_cluster_9                    ...                     \\\n",
       "209723                0.0                    ...                      \n",
       "227022                0.0                    ...                      \n",
       "220515                0.0                    ...                      \n",
       "145320                0.0                    ...                      \n",
       "7009                  0.0                    ...                      \n",
       "\n",
       "        artists_cluster_191  artists_cluster_192  artists_cluster_193  \\\n",
       "209723                  0.0                  0.0                  0.0   \n",
       "227022                  0.0                  0.0                  0.0   \n",
       "220515                  0.0                  0.0                  0.0   \n",
       "145320                  0.0                  0.0                  0.0   \n",
       "7009                    0.0                  0.0                  0.0   \n",
       "\n",
       "        artists_cluster_194  artists_cluster_195  artists_cluster_196  \\\n",
       "209723                  0.0                  0.0                  0.0   \n",
       "227022                  0.0                  0.0                  0.0   \n",
       "220515                  0.0                  0.0                  0.0   \n",
       "145320                  0.0                  0.0                  0.0   \n",
       "7009                    0.0                  0.0                  0.0   \n",
       "\n",
       "        artists_cluster_197  artists_cluster_198  artists_cluster_199  \\\n",
       "209723                  0.0                  0.0                  0.0   \n",
       "227022                  0.0                  0.0                  0.0   \n",
       "220515                  0.0                  0.0                  0.0   \n",
       "145320                  0.0                  0.0                  0.0   \n",
       "7009                    0.0                  0.0                  0.0   \n",
       "\n",
       "                                            user  \n",
       "209723  00000c289a1829a808ac09c00daf10bc3c4e223b  \n",
       "227022  00001411dc427966b17297bf4d69e7e193135d89  \n",
       "220515  000063d3fe1cf2ba248b9e3c3f0334845a27a6bf  \n",
       "145320  00007a47085b9aab8af55f52ec8846ac479ac4fe  \n",
       "7009    0000c176103e538d5c9828e695fed4f7ae42dd01  \n",
       "\n",
       "[5 rows x 201 columns]"
      ]
     },
     "execution_count": 216,
     "metadata": {},
     "output_type": "execute_result"
    }
   ],
   "source": [
    "profiles_artistCluster.head()"
   ]
  },
  {
   "cell_type": "code",
   "execution_count": 184,
   "metadata": {
    "collapsed": false
   },
   "outputs": [],
   "source": [
    "# a training dataframe with users times artists (both users and artists are ordered)\n",
    "df_train_pivot = df_train.pivot(index = 'user', columns = 'artist', values = 'plays')\n",
    "\n",
    "df_train_pivot = df_train_pivot.fillna(0)"
   ]
  },
  {
   "cell_type": "code",
   "execution_count": 192,
   "metadata": {
    "collapsed": false
   },
   "outputs": [
    {
     "name": "stderr",
     "output_type": "stream",
     "text": [
      "/Users/linyingzhang/anaconda2/lib/python2.7/site-packages/ipykernel/__main__.py:1: FutureWarning: sort(columns=....) is deprecated, use sort_values(by=.....)\n",
      "  if __name__ == '__main__':\n"
     ]
    }
   ],
   "source": [
    "# sort artists_merge_dropcol by artist ID\n",
    "artists_merge_dropcol = artists_merge_dropcol.sort(columns = 'artist')\n",
    "\n",
    "# the order of artists in df_train_pivot is the same as in artists_merge_dropcol\n",
    "# so we can use the index in artists_merge_dropcol to subset df_train_pivot\n",
    "sum(artists_merge_dropcol['artist'] == df_train_pivot.columns)"
   ]
  },
  {
   "cell_type": "code",
   "execution_count": 236,
   "metadata": {
    "collapsed": false
   },
   "outputs": [],
   "source": [
    "# for each user: sum user plays for each artists_cluster\n",
    "for i in range(200):\n",
    "    # find artists in cluster i\n",
    "    cluster_idx = artists_merge_dropcol['cluster_label'] == i\n",
    "    # sum plays of all artists in cluster i for each user\n",
    "    profiles_artistCluster['artists_cluster_'+str(i)] = df_train_pivot[df_train_pivot.columns[cluster_idx]].sum(axis = 1).values"
   ]
  },
  {
   "cell_type": "code",
   "execution_count": 237,
   "metadata": {
    "collapsed": false
   },
   "outputs": [
    {
     "data": {
      "text/html": [
       "<div>\n",
       "<table border=\"1\" class=\"dataframe\">\n",
       "  <thead>\n",
       "    <tr style=\"text-align: right;\">\n",
       "      <th></th>\n",
       "      <th>artists_cluster_0</th>\n",
       "      <th>artists_cluster_1</th>\n",
       "      <th>artists_cluster_2</th>\n",
       "      <th>artists_cluster_3</th>\n",
       "      <th>artists_cluster_4</th>\n",
       "      <th>artists_cluster_5</th>\n",
       "      <th>artists_cluster_6</th>\n",
       "      <th>artists_cluster_7</th>\n",
       "      <th>artists_cluster_8</th>\n",
       "      <th>artists_cluster_9</th>\n",
       "      <th>...</th>\n",
       "      <th>artists_cluster_191</th>\n",
       "      <th>artists_cluster_192</th>\n",
       "      <th>artists_cluster_193</th>\n",
       "      <th>artists_cluster_194</th>\n",
       "      <th>artists_cluster_195</th>\n",
       "      <th>artists_cluster_196</th>\n",
       "      <th>artists_cluster_197</th>\n",
       "      <th>artists_cluster_198</th>\n",
       "      <th>artists_cluster_199</th>\n",
       "      <th>user</th>\n",
       "    </tr>\n",
       "  </thead>\n",
       "  <tbody>\n",
       "    <tr>\n",
       "      <th>209723</th>\n",
       "      <td>0.0</td>\n",
       "      <td>0.0</td>\n",
       "      <td>663.0</td>\n",
       "      <td>0.0</td>\n",
       "      <td>0.0</td>\n",
       "      <td>0.0</td>\n",
       "      <td>0.0</td>\n",
       "      <td>0.0</td>\n",
       "      <td>0.0</td>\n",
       "      <td>0.0</td>\n",
       "      <td>...</td>\n",
       "      <td>0.0</td>\n",
       "      <td>0.0</td>\n",
       "      <td>0.0</td>\n",
       "      <td>0.0</td>\n",
       "      <td>0.0</td>\n",
       "      <td>0.0</td>\n",
       "      <td>0.0</td>\n",
       "      <td>0.0</td>\n",
       "      <td>0.0</td>\n",
       "      <td>00000c289a1829a808ac09c00daf10bc3c4e223b</td>\n",
       "    </tr>\n",
       "    <tr>\n",
       "      <th>227022</th>\n",
       "      <td>0.0</td>\n",
       "      <td>0.0</td>\n",
       "      <td>2427.0</td>\n",
       "      <td>0.0</td>\n",
       "      <td>0.0</td>\n",
       "      <td>0.0</td>\n",
       "      <td>0.0</td>\n",
       "      <td>0.0</td>\n",
       "      <td>0.0</td>\n",
       "      <td>0.0</td>\n",
       "      <td>...</td>\n",
       "      <td>0.0</td>\n",
       "      <td>0.0</td>\n",
       "      <td>543.0</td>\n",
       "      <td>0.0</td>\n",
       "      <td>0.0</td>\n",
       "      <td>0.0</td>\n",
       "      <td>0.0</td>\n",
       "      <td>0.0</td>\n",
       "      <td>0.0</td>\n",
       "      <td>00001411dc427966b17297bf4d69e7e193135d89</td>\n",
       "    </tr>\n",
       "    <tr>\n",
       "      <th>220515</th>\n",
       "      <td>0.0</td>\n",
       "      <td>0.0</td>\n",
       "      <td>6.0</td>\n",
       "      <td>0.0</td>\n",
       "      <td>3.0</td>\n",
       "      <td>0.0</td>\n",
       "      <td>0.0</td>\n",
       "      <td>0.0</td>\n",
       "      <td>0.0</td>\n",
       "      <td>0.0</td>\n",
       "      <td>...</td>\n",
       "      <td>0.0</td>\n",
       "      <td>0.0</td>\n",
       "      <td>0.0</td>\n",
       "      <td>0.0</td>\n",
       "      <td>4.0</td>\n",
       "      <td>0.0</td>\n",
       "      <td>0.0</td>\n",
       "      <td>0.0</td>\n",
       "      <td>0.0</td>\n",
       "      <td>000063d3fe1cf2ba248b9e3c3f0334845a27a6bf</td>\n",
       "    </tr>\n",
       "    <tr>\n",
       "      <th>145320</th>\n",
       "      <td>0.0</td>\n",
       "      <td>189.0</td>\n",
       "      <td>227.0</td>\n",
       "      <td>0.0</td>\n",
       "      <td>0.0</td>\n",
       "      <td>0.0</td>\n",
       "      <td>0.0</td>\n",
       "      <td>286.0</td>\n",
       "      <td>0.0</td>\n",
       "      <td>0.0</td>\n",
       "      <td>...</td>\n",
       "      <td>0.0</td>\n",
       "      <td>0.0</td>\n",
       "      <td>0.0</td>\n",
       "      <td>0.0</td>\n",
       "      <td>0.0</td>\n",
       "      <td>0.0</td>\n",
       "      <td>407.0</td>\n",
       "      <td>0.0</td>\n",
       "      <td>0.0</td>\n",
       "      <td>00007a47085b9aab8af55f52ec8846ac479ac4fe</td>\n",
       "    </tr>\n",
       "    <tr>\n",
       "      <th>7009</th>\n",
       "      <td>0.0</td>\n",
       "      <td>0.0</td>\n",
       "      <td>367.0</td>\n",
       "      <td>0.0</td>\n",
       "      <td>0.0</td>\n",
       "      <td>1955.0</td>\n",
       "      <td>0.0</td>\n",
       "      <td>0.0</td>\n",
       "      <td>0.0</td>\n",
       "      <td>233.0</td>\n",
       "      <td>...</td>\n",
       "      <td>0.0</td>\n",
       "      <td>0.0</td>\n",
       "      <td>0.0</td>\n",
       "      <td>0.0</td>\n",
       "      <td>0.0</td>\n",
       "      <td>0.0</td>\n",
       "      <td>0.0</td>\n",
       "      <td>0.0</td>\n",
       "      <td>0.0</td>\n",
       "      <td>0000c176103e538d5c9828e695fed4f7ae42dd01</td>\n",
       "    </tr>\n",
       "  </tbody>\n",
       "</table>\n",
       "<p>5 rows × 201 columns</p>\n",
       "</div>"
      ],
      "text/plain": [
       "        artists_cluster_0  artists_cluster_1  artists_cluster_2  \\\n",
       "209723                0.0                0.0              663.0   \n",
       "227022                0.0                0.0             2427.0   \n",
       "220515                0.0                0.0                6.0   \n",
       "145320                0.0              189.0              227.0   \n",
       "7009                  0.0                0.0              367.0   \n",
       "\n",
       "        artists_cluster_3  artists_cluster_4  artists_cluster_5  \\\n",
       "209723                0.0                0.0                0.0   \n",
       "227022                0.0                0.0                0.0   \n",
       "220515                0.0                3.0                0.0   \n",
       "145320                0.0                0.0                0.0   \n",
       "7009                  0.0                0.0             1955.0   \n",
       "\n",
       "        artists_cluster_6  artists_cluster_7  artists_cluster_8  \\\n",
       "209723                0.0                0.0                0.0   \n",
       "227022                0.0                0.0                0.0   \n",
       "220515                0.0                0.0                0.0   \n",
       "145320                0.0              286.0                0.0   \n",
       "7009                  0.0                0.0                0.0   \n",
       "\n",
       "        artists_cluster_9                    ...                     \\\n",
       "209723                0.0                    ...                      \n",
       "227022                0.0                    ...                      \n",
       "220515                0.0                    ...                      \n",
       "145320                0.0                    ...                      \n",
       "7009                233.0                    ...                      \n",
       "\n",
       "        artists_cluster_191  artists_cluster_192  artists_cluster_193  \\\n",
       "209723                  0.0                  0.0                  0.0   \n",
       "227022                  0.0                  0.0                543.0   \n",
       "220515                  0.0                  0.0                  0.0   \n",
       "145320                  0.0                  0.0                  0.0   \n",
       "7009                    0.0                  0.0                  0.0   \n",
       "\n",
       "        artists_cluster_194  artists_cluster_195  artists_cluster_196  \\\n",
       "209723                  0.0                  0.0                  0.0   \n",
       "227022                  0.0                  0.0                  0.0   \n",
       "220515                  0.0                  4.0                  0.0   \n",
       "145320                  0.0                  0.0                  0.0   \n",
       "7009                    0.0                  0.0                  0.0   \n",
       "\n",
       "        artists_cluster_197  artists_cluster_198  artists_cluster_199  \\\n",
       "209723                  0.0                  0.0                  0.0   \n",
       "227022                  0.0                  0.0                  0.0   \n",
       "220515                  0.0                  0.0                  0.0   \n",
       "145320                407.0                  0.0                  0.0   \n",
       "7009                    0.0                  0.0                  0.0   \n",
       "\n",
       "                                            user  \n",
       "209723  00000c289a1829a808ac09c00daf10bc3c4e223b  \n",
       "227022  00001411dc427966b17297bf4d69e7e193135d89  \n",
       "220515  000063d3fe1cf2ba248b9e3c3f0334845a27a6bf  \n",
       "145320  00007a47085b9aab8af55f52ec8846ac479ac4fe  \n",
       "7009    0000c176103e538d5c9828e695fed4f7ae42dd01  \n",
       "\n",
       "[5 rows x 201 columns]"
      ]
     },
     "execution_count": 237,
     "metadata": {},
     "output_type": "execute_result"
    }
   ],
   "source": [
    "profiles_artistCluster.head()"
   ]
  },
  {
   "cell_type": "code",
   "execution_count": 264,
   "metadata": {
    "collapsed": false
   },
   "outputs": [],
   "source": [
    "# combind profiles_artistCluster with the original profiles dataframe\n",
    "profiles_dummy_cluster = pd.merge(profiles_dummy, profiles_artistCluster, how = 'inner', on = 'user')"
   ]
  },
  {
   "cell_type": "code",
   "execution_count": 265,
   "metadata": {
    "collapsed": false
   },
   "outputs": [
    {
     "name": "stdout",
     "output_type": "stream",
     "text": [
      "(233286, 446)\n"
     ]
    }
   ],
   "source": [
    "print profiles_dummy_cluster.shape\n",
    "profiles_dummy_cluster.head()\n",
    "profiles_dummy_cluster.to_csv('users_for_clustering.csv', index = False)"
   ]
  },
  {
   "cell_type": "markdown",
   "metadata": {},
   "source": [
    "# Kmeans on users"
   ]
  },
  {
   "cell_type": "code",
   "execution_count": 291,
   "metadata": {
    "collapsed": false
   },
   "outputs": [
    {
     "data": {
      "image/png": "[encoded data removed]",
      "text/plain": [
       "<matplotlib.figure.Figure at 0x1372fa990>"
      ]
     },
     "metadata": {},
     "output_type": "display_data"
    }
   ],
   "source": [
    "from sklearn import preprocessing\n",
    "import matplotlib.pyplot as plt\n",
    "import numpy as np\n",
    "import pandas as pd\n",
    "from sklearn.cluster import KMeans\n",
    "\n",
    "profiles_dummy_cluster = pd.read_csv('users_for_clustering.csv')\n",
    "\n",
    "users_array = profiles_dummy_cluster.drop('user', axis = 1).values\n",
    "users_array = preprocessing.normalize(users_array, axis = 0)\n",
    "\n",
    "K = [100, 300, 500, 700]\n",
    "labels = []\n",
    "score = []\n",
    "for i in range(len(K)):\n",
    "    kmeans_users = KMeans(n_clusters=K[i], init='k-means++', n_init=10, max_iter=300)\n",
    "    kmeans_users.fit(users_array)\n",
    "    print \"finish fit\", i\n",
    "    labels.append(kmeans_users.labels_)\n",
    "    labels_df = pd.DataFrame(np.array(labels).T)\n",
    "    labels_df.to_csv('user_labels1.csv')\n",
    "    print \"finish labeling\", i\n",
    "    score.append(kmeans_users.inertia_)\n",
    "    print \"Inertia score is: \", score\n",
    "\n",
    "\n",
    "# plot label distribution and score\n",
    "fig, ax = plt.subplots(3,2, figsize=(15,10))\n",
    "ax[0][0].hist(labels[0])\n",
    "ax[0][0].set_title('K = 100')\n",
    "ax[0][1].hist(labels[0])\n",
    "ax[0][1].set_title('K = 300')\n",
    "ax[1][0].hist(labels[0])\n",
    "ax[1][0].set_title('K = 500')\n",
    "ax[1][1].hist(labels[0])\n",
    "ax[1][1].set_title('K = 700')\n",
    "plt.savefig('User_KMeans_tuning1.png')"
   ]
  },
  {
   "cell_type": "code",
   "execution_count": 34,
   "metadata": {
    "collapsed": true
   },
   "outputs": [],
   "source": [
    "user_labels = pd.read_csv('kmeans_output/user_labels_kmeans100.csv')\n",
    "profiles_dummy_cluster = pd.read_csv('users_for_clustering.csv')"
   ]
  },
  {
   "cell_type": "code",
   "execution_count": 33,
   "metadata": {
    "collapsed": false
   },
   "outputs": [
    {
     "data": {
      "image/png": "[encoded data removed]",
      "text/plain": [
       "<matplotlib.figure.Figure at 0x1175bb3d0>"
      ]
     },
     "metadata": {},
     "output_type": "display_data"
    }
   ],
   "source": [
    "plt.hist(user_labels['user_cluster'])\n",
    "plt.title('Kmeans K=100')\n",
    "plt.xlabel('Cluster index')\n",
    "plt.ylabel('Number of users in cluster')\n",
    "# plt.savefig('Kmeans_100_hist.png')\n",
    "plt.show()"
   ]
  },
  {
   "cell_type": "markdown",
   "metadata": {},
   "source": [
    "# Calculate artist probability within user cluster"
   ]
  },
  {
   "cell_type": "code",
   "execution_count": 158,
   "metadata": {
    "collapsed": false
   },
   "outputs": [
    {
     "data": {
      "text/html": [
       "<div>\n",
       "<table border=\"1\" class=\"dataframe\">\n",
       "  <thead>\n",
       "    <tr style=\"text-align: right;\">\n",
       "      <th></th>\n",
       "      <th>user</th>\n",
       "      <th>artist</th>\n",
       "      <th>plays</th>\n",
       "    </tr>\n",
       "  </thead>\n",
       "  <tbody>\n",
       "    <tr>\n",
       "      <th>0</th>\n",
       "      <td>eb1c57ddc9e0e2d005169d3a1a96e8dd95e3af03</td>\n",
       "      <td>5a8e07d5-d932-4484-a7f7-e700793a9c94</td>\n",
       "      <td>554</td>\n",
       "    </tr>\n",
       "    <tr>\n",
       "      <th>1</th>\n",
       "      <td>44ce793a6cd9d20f13f4a576a818ef983314bb5d</td>\n",
       "      <td>a3a92047-be1c-4f3e-8960-c4f8570984df</td>\n",
       "      <td>81</td>\n",
       "    </tr>\n",
       "    <tr>\n",
       "      <th>2</th>\n",
       "      <td>da9cf3f557161d54b76f24db64be9cc76db008e3</td>\n",
       "      <td>eeb1195b-f213-4ce1-b28c-8565211f8e43</td>\n",
       "      <td>708</td>\n",
       "    </tr>\n",
       "    <tr>\n",
       "      <th>3</th>\n",
       "      <td>8fa49ab25d425edcf05d44bfc1d5aea895287d81</td>\n",
       "      <td>a1419808-65d3-4d40-998c-1a0bac65eabc</td>\n",
       "      <td>265</td>\n",
       "    </tr>\n",
       "    <tr>\n",
       "      <th>4</th>\n",
       "      <td>b85fcaef67d2669cd99b334b5e8c8705263db2cf</td>\n",
       "      <td>a3cb23fc-acd3-4ce0-8f36-1e5aa6a18432</td>\n",
       "      <td>220</td>\n",
       "    </tr>\n",
       "  </tbody>\n",
       "</table>\n",
       "</div>"
      ],
      "text/plain": [
       "                                       user  \\\n",
       "0  eb1c57ddc9e0e2d005169d3a1a96e8dd95e3af03   \n",
       "1  44ce793a6cd9d20f13f4a576a818ef983314bb5d   \n",
       "2  da9cf3f557161d54b76f24db64be9cc76db008e3   \n",
       "3  8fa49ab25d425edcf05d44bfc1d5aea895287d81   \n",
       "4  b85fcaef67d2669cd99b334b5e8c8705263db2cf   \n",
       "\n",
       "                                 artist  plays  \n",
       "0  5a8e07d5-d932-4484-a7f7-e700793a9c94    554  \n",
       "1  a3a92047-be1c-4f3e-8960-c4f8570984df     81  \n",
       "2  eeb1195b-f213-4ce1-b28c-8565211f8e43    708  \n",
       "3  a1419808-65d3-4d40-998c-1a0bac65eabc    265  \n",
       "4  a3cb23fc-acd3-4ce0-8f36-1e5aa6a18432    220  "
      ]
     },
     "execution_count": 158,
     "metadata": {},
     "output_type": "execute_result"
    }
   ],
   "source": [
    "# read in training data\n",
    "df_train = pd.read_csv(\"data/train.csv\")\n",
    "df_test = pd.read_csv(\"data/test.csv\")\n",
    "df_train.head()"
   ]
  },
  {
   "cell_type": "code",
   "execution_count": 159,
   "metadata": {
    "collapsed": false,
    "scrolled": true
   },
   "outputs": [
    {
     "data": {
      "text/html": [
       "<div>\n",
       "<table border=\"1\" class=\"dataframe\">\n",
       "  <thead>\n",
       "    <tr style=\"text-align: right;\">\n",
       "      <th></th>\n",
       "      <th>user_cluster</th>\n",
       "      <th>user</th>\n",
       "    </tr>\n",
       "  </thead>\n",
       "  <tbody>\n",
       "    <tr>\n",
       "      <th>0</th>\n",
       "      <td>56</td>\n",
       "      <td>fa40b43298ba3f8aa52e8e8863faf2e2171e0b5d</td>\n",
       "    </tr>\n",
       "    <tr>\n",
       "      <th>1</th>\n",
       "      <td>37</td>\n",
       "      <td>5909125332c108365a26ccf0ee62636eee08215c</td>\n",
       "    </tr>\n",
       "    <tr>\n",
       "      <th>2</th>\n",
       "      <td>37</td>\n",
       "      <td>d1867cbda35e0d48e9a8390d9f5e079c9d99ea96</td>\n",
       "    </tr>\n",
       "    <tr>\n",
       "      <th>3</th>\n",
       "      <td>11</td>\n",
       "      <td>63268cce0d68127729890c1691f62d5be5abd87c</td>\n",
       "    </tr>\n",
       "    <tr>\n",
       "      <th>4</th>\n",
       "      <td>10</td>\n",
       "      <td>02871cd952d607ba69b64e2e107773012c708113</td>\n",
       "    </tr>\n",
       "  </tbody>\n",
       "</table>\n",
       "</div>"
      ],
      "text/plain": [
       "   user_cluster                                      user\n",
       "0            56  fa40b43298ba3f8aa52e8e8863faf2e2171e0b5d\n",
       "1            37  5909125332c108365a26ccf0ee62636eee08215c\n",
       "2            37  d1867cbda35e0d48e9a8390d9f5e079c9d99ea96\n",
       "3            11  63268cce0d68127729890c1691f62d5be5abd87c\n",
       "4            10  02871cd952d607ba69b64e2e107773012c708113"
      ]
     },
     "execution_count": 159,
     "metadata": {},
     "output_type": "execute_result"
    }
   ],
   "source": [
    "user_labels = pd.read_csv('kmeans_output/user_labels_kmeans100.csv')\n",
    "user_labels.head()"
   ]
  },
  {
   "cell_type": "code",
   "execution_count": 160,
   "metadata": {
    "collapsed": true
   },
   "outputs": [],
   "source": [
    "artists_merge_dropcol = pd.read_csv('artists_labels.csv')"
   ]
  },
  {
   "cell_type": "code",
   "execution_count": 161,
   "metadata": {
    "collapsed": false
   },
   "outputs": [],
   "source": [
    "df_train = pd.merge(df_train, user_labels, how = 'inner', on = 'user')"
   ]
  },
  {
   "cell_type": "code",
   "execution_count": 162,
   "metadata": {
    "collapsed": false
   },
   "outputs": [],
   "source": [
    "artist_labels = pd.DataFrame({'artist': artists_merge_dropcol['artist'],\n",
    "                             'artist_cluster': artists_merge_dropcol['cluster_label']})"
   ]
  },
  {
   "cell_type": "code",
   "execution_count": 163,
   "metadata": {
    "collapsed": false
   },
   "outputs": [
    {
     "data": {
      "text/html": [
       "<div>\n",
       "<table border=\"1\" class=\"dataframe\">\n",
       "  <thead>\n",
       "    <tr style=\"text-align: right;\">\n",
       "      <th></th>\n",
       "      <th>artist</th>\n",
       "      <th>artist_cluster</th>\n",
       "    </tr>\n",
       "  </thead>\n",
       "  <tbody>\n",
       "    <tr>\n",
       "      <th>0</th>\n",
       "      <td>03098741-08b3-4dd7-b3f6-1b0bfa2c879c</td>\n",
       "      <td>148</td>\n",
       "    </tr>\n",
       "    <tr>\n",
       "      <th>1</th>\n",
       "      <td>69c4cc43-8163-41c5-ac81-30946d27bb69</td>\n",
       "      <td>1</td>\n",
       "    </tr>\n",
       "    <tr>\n",
       "      <th>2</th>\n",
       "      <td>7a2e6b55-f149-4e74-be6a-30a1b1a387bb</td>\n",
       "      <td>73</td>\n",
       "    </tr>\n",
       "    <tr>\n",
       "      <th>3</th>\n",
       "      <td>7002bf88-1269-4965-a772-4ba1e7a91eaa</td>\n",
       "      <td>6</td>\n",
       "    </tr>\n",
       "    <tr>\n",
       "      <th>4</th>\n",
       "      <td>dbf7c761-e332-467b-b4d9-aafe06bbcf8f</td>\n",
       "      <td>1</td>\n",
       "    </tr>\n",
       "  </tbody>\n",
       "</table>\n",
       "</div>"
      ],
      "text/plain": [
       "                                 artist  artist_cluster\n",
       "0  03098741-08b3-4dd7-b3f6-1b0bfa2c879c             148\n",
       "1  69c4cc43-8163-41c5-ac81-30946d27bb69               1\n",
       "2  7a2e6b55-f149-4e74-be6a-30a1b1a387bb              73\n",
       "3  7002bf88-1269-4965-a772-4ba1e7a91eaa               6\n",
       "4  dbf7c761-e332-467b-b4d9-aafe06bbcf8f               1"
      ]
     },
     "execution_count": 163,
     "metadata": {},
     "output_type": "execute_result"
    }
   ],
   "source": [
    "artist_labels.head()"
   ]
  },
  {
   "cell_type": "code",
   "execution_count": 164,
   "metadata": {
    "collapsed": false
   },
   "outputs": [],
   "source": [
    "df_train = pd.merge(df_train, artist_labels, how = 'inner', on = 'artist')"
   ]
  },
  {
   "cell_type": "code",
   "execution_count": 165,
   "metadata": {
    "collapsed": false
   },
   "outputs": [
    {
     "data": {
      "text/html": [
       "<div>\n",
       "<table border=\"1\" class=\"dataframe\">\n",
       "  <thead>\n",
       "    <tr style=\"text-align: right;\">\n",
       "      <th></th>\n",
       "      <th>user</th>\n",
       "      <th>artist</th>\n",
       "      <th>plays</th>\n",
       "      <th>user_cluster</th>\n",
       "      <th>artist_cluster</th>\n",
       "    </tr>\n",
       "  </thead>\n",
       "  <tbody>\n",
       "    <tr>\n",
       "      <th>0</th>\n",
       "      <td>eb1c57ddc9e0e2d005169d3a1a96e8dd95e3af03</td>\n",
       "      <td>5a8e07d5-d932-4484-a7f7-e700793a9c94</td>\n",
       "      <td>554</td>\n",
       "      <td>56</td>\n",
       "      <td>158</td>\n",
       "    </tr>\n",
       "    <tr>\n",
       "      <th>1</th>\n",
       "      <td>0ff4166398f035b5fcb8824cc16c8daeb4643911</td>\n",
       "      <td>5a8e07d5-d932-4484-a7f7-e700793a9c94</td>\n",
       "      <td>169</td>\n",
       "      <td>37</td>\n",
       "      <td>158</td>\n",
       "    </tr>\n",
       "    <tr>\n",
       "      <th>2</th>\n",
       "      <td>b3f9fa56429c3b7fd348c471452e65747ba9ed50</td>\n",
       "      <td>5a8e07d5-d932-4484-a7f7-e700793a9c94</td>\n",
       "      <td>292</td>\n",
       "      <td>93</td>\n",
       "      <td>158</td>\n",
       "    </tr>\n",
       "    <tr>\n",
       "      <th>3</th>\n",
       "      <td>0ffff52af79555e8fe72289c429b2fdfc8ea684b</td>\n",
       "      <td>5a8e07d5-d932-4484-a7f7-e700793a9c94</td>\n",
       "      <td>92</td>\n",
       "      <td>18</td>\n",
       "      <td>158</td>\n",
       "    </tr>\n",
       "    <tr>\n",
       "      <th>4</th>\n",
       "      <td>985253be0dc82ffa15a0ad006d0284aa4b7d1e3d</td>\n",
       "      <td>5a8e07d5-d932-4484-a7f7-e700793a9c94</td>\n",
       "      <td>159</td>\n",
       "      <td>56</td>\n",
       "      <td>158</td>\n",
       "    </tr>\n",
       "  </tbody>\n",
       "</table>\n",
       "</div>"
      ],
      "text/plain": [
       "                                       user  \\\n",
       "0  eb1c57ddc9e0e2d005169d3a1a96e8dd95e3af03   \n",
       "1  0ff4166398f035b5fcb8824cc16c8daeb4643911   \n",
       "2  b3f9fa56429c3b7fd348c471452e65747ba9ed50   \n",
       "3  0ffff52af79555e8fe72289c429b2fdfc8ea684b   \n",
       "4  985253be0dc82ffa15a0ad006d0284aa4b7d1e3d   \n",
       "\n",
       "                                 artist  plays  user_cluster  artist_cluster  \n",
       "0  5a8e07d5-d932-4484-a7f7-e700793a9c94    554            56             158  \n",
       "1  5a8e07d5-d932-4484-a7f7-e700793a9c94    169            37             158  \n",
       "2  5a8e07d5-d932-4484-a7f7-e700793a9c94    292            93             158  \n",
       "3  5a8e07d5-d932-4484-a7f7-e700793a9c94     92            18             158  \n",
       "4  5a8e07d5-d932-4484-a7f7-e700793a9c94    159            56             158  "
      ]
     },
     "execution_count": 165,
     "metadata": {},
     "output_type": "execute_result"
    }
   ],
   "source": [
    "df_train.head()"
   ]
  },
  {
   "cell_type": "code",
   "execution_count": 166,
   "metadata": {
    "collapsed": true
   },
   "outputs": [],
   "source": [
    "df_train.to_csv('train_withlabels.csv')"
   ]
  },
  {
   "cell_type": "code",
   "execution_count": 155,
   "metadata": {
    "collapsed": true
   },
   "outputs": [],
   "source": [
    "df_train = df_train.drop(['user'], axis = 1)"
   ]
  },
  {
   "cell_type": "code",
   "execution_count": 156,
   "metadata": {
    "collapsed": true
   },
   "outputs": [],
   "source": [
    "df_train = df_train.drop(['artist'], axis = 1)"
   ]
  },
  {
   "cell_type": "code",
   "execution_count": 157,
   "metadata": {
    "collapsed": false
   },
   "outputs": [
    {
     "data": {
      "text/html": [
       "<div>\n",
       "<table border=\"1\" class=\"dataframe\">\n",
       "  <thead>\n",
       "    <tr style=\"text-align: right;\">\n",
       "      <th></th>\n",
       "      <th>plays</th>\n",
       "      <th>user_cluster</th>\n",
       "      <th>artist_cluster</th>\n",
       "    </tr>\n",
       "  </thead>\n",
       "  <tbody>\n",
       "    <tr>\n",
       "      <th>0</th>\n",
       "      <td>554</td>\n",
       "      <td>56</td>\n",
       "      <td>158</td>\n",
       "    </tr>\n",
       "    <tr>\n",
       "      <th>1</th>\n",
       "      <td>169</td>\n",
       "      <td>37</td>\n",
       "      <td>158</td>\n",
       "    </tr>\n",
       "    <tr>\n",
       "      <th>2</th>\n",
       "      <td>292</td>\n",
       "      <td>93</td>\n",
       "      <td>158</td>\n",
       "    </tr>\n",
       "    <tr>\n",
       "      <th>3</th>\n",
       "      <td>92</td>\n",
       "      <td>18</td>\n",
       "      <td>158</td>\n",
       "    </tr>\n",
       "    <tr>\n",
       "      <th>4</th>\n",
       "      <td>159</td>\n",
       "      <td>56</td>\n",
       "      <td>158</td>\n",
       "    </tr>\n",
       "  </tbody>\n",
       "</table>\n",
       "</div>"
      ],
      "text/plain": [
       "   plays  user_cluster  artist_cluster\n",
       "0    554            56             158\n",
       "1    169            37             158\n",
       "2    292            93             158\n",
       "3     92            18             158\n",
       "4    159            56             158"
      ]
     },
     "execution_count": 157,
     "metadata": {},
     "output_type": "execute_result"
    }
   ],
   "source": [
    "df_train.head()"
   ]
  },
  {
   "cell_type": "code",
   "execution_count": 16,
   "metadata": {
    "collapsed": false
   },
   "outputs": [],
   "source": [
    "df_train['user_cluster'] = df_train['user_cluster'].astype('object')"
   ]
  },
  {
   "cell_type": "code",
   "execution_count": 17,
   "metadata": {
    "collapsed": true
   },
   "outputs": [],
   "source": [
    "df_train['artist_cluster'] = df_train['artist_cluster'].astype('object')"
   ]
  },
  {
   "cell_type": "code",
   "execution_count": 18,
   "metadata": {
    "collapsed": false
   },
   "outputs": [],
   "source": [
    "df_train_dummy = pd.get_dummies(df_train)"
   ]
  },
  {
   "cell_type": "code",
   "execution_count": 19,
   "metadata": {
    "collapsed": false
   },
   "outputs": [
    {
     "data": {
      "text/html": [
       "<div>\n",
       "<table border=\"1\" class=\"dataframe\">\n",
       "  <thead>\n",
       "    <tr style=\"text-align: right;\">\n",
       "      <th></th>\n",
       "      <th>plays</th>\n",
       "      <th>user_cluster_0</th>\n",
       "      <th>user_cluster_1</th>\n",
       "      <th>user_cluster_2</th>\n",
       "      <th>user_cluster_3</th>\n",
       "      <th>user_cluster_4</th>\n",
       "      <th>user_cluster_5</th>\n",
       "      <th>user_cluster_6</th>\n",
       "      <th>user_cluster_7</th>\n",
       "      <th>user_cluster_8</th>\n",
       "      <th>...</th>\n",
       "      <th>artist_cluster_190</th>\n",
       "      <th>artist_cluster_191</th>\n",
       "      <th>artist_cluster_192</th>\n",
       "      <th>artist_cluster_193</th>\n",
       "      <th>artist_cluster_194</th>\n",
       "      <th>artist_cluster_195</th>\n",
       "      <th>artist_cluster_196</th>\n",
       "      <th>artist_cluster_197</th>\n",
       "      <th>artist_cluster_198</th>\n",
       "      <th>artist_cluster_199</th>\n",
       "    </tr>\n",
       "  </thead>\n",
       "  <tbody>\n",
       "    <tr>\n",
       "      <th>0</th>\n",
       "      <td>554</td>\n",
       "      <td>0</td>\n",
       "      <td>0</td>\n",
       "      <td>0</td>\n",
       "      <td>0</td>\n",
       "      <td>0</td>\n",
       "      <td>0</td>\n",
       "      <td>0</td>\n",
       "      <td>0</td>\n",
       "      <td>0</td>\n",
       "      <td>...</td>\n",
       "      <td>0</td>\n",
       "      <td>0</td>\n",
       "      <td>0</td>\n",
       "      <td>0</td>\n",
       "      <td>0</td>\n",
       "      <td>0</td>\n",
       "      <td>0</td>\n",
       "      <td>0</td>\n",
       "      <td>0</td>\n",
       "      <td>0</td>\n",
       "    </tr>\n",
       "    <tr>\n",
       "      <th>1</th>\n",
       "      <td>169</td>\n",
       "      <td>0</td>\n",
       "      <td>0</td>\n",
       "      <td>0</td>\n",
       "      <td>0</td>\n",
       "      <td>0</td>\n",
       "      <td>0</td>\n",
       "      <td>0</td>\n",
       "      <td>0</td>\n",
       "      <td>0</td>\n",
       "      <td>...</td>\n",
       "      <td>0</td>\n",
       "      <td>0</td>\n",
       "      <td>0</td>\n",
       "      <td>0</td>\n",
       "      <td>0</td>\n",
       "      <td>0</td>\n",
       "      <td>0</td>\n",
       "      <td>0</td>\n",
       "      <td>0</td>\n",
       "      <td>0</td>\n",
       "    </tr>\n",
       "    <tr>\n",
       "      <th>2</th>\n",
       "      <td>292</td>\n",
       "      <td>0</td>\n",
       "      <td>0</td>\n",
       "      <td>0</td>\n",
       "      <td>0</td>\n",
       "      <td>0</td>\n",
       "      <td>0</td>\n",
       "      <td>0</td>\n",
       "      <td>0</td>\n",
       "      <td>0</td>\n",
       "      <td>...</td>\n",
       "      <td>0</td>\n",
       "      <td>0</td>\n",
       "      <td>0</td>\n",
       "      <td>0</td>\n",
       "      <td>0</td>\n",
       "      <td>0</td>\n",
       "      <td>0</td>\n",
       "      <td>0</td>\n",
       "      <td>0</td>\n",
       "      <td>0</td>\n",
       "    </tr>\n",
       "    <tr>\n",
       "      <th>3</th>\n",
       "      <td>92</td>\n",
       "      <td>0</td>\n",
       "      <td>0</td>\n",
       "      <td>0</td>\n",
       "      <td>0</td>\n",
       "      <td>0</td>\n",
       "      <td>0</td>\n",
       "      <td>0</td>\n",
       "      <td>0</td>\n",
       "      <td>0</td>\n",
       "      <td>...</td>\n",
       "      <td>0</td>\n",
       "      <td>0</td>\n",
       "      <td>0</td>\n",
       "      <td>0</td>\n",
       "      <td>0</td>\n",
       "      <td>0</td>\n",
       "      <td>0</td>\n",
       "      <td>0</td>\n",
       "      <td>0</td>\n",
       "      <td>0</td>\n",
       "    </tr>\n",
       "    <tr>\n",
       "      <th>4</th>\n",
       "      <td>159</td>\n",
       "      <td>0</td>\n",
       "      <td>0</td>\n",
       "      <td>0</td>\n",
       "      <td>0</td>\n",
       "      <td>0</td>\n",
       "      <td>0</td>\n",
       "      <td>0</td>\n",
       "      <td>0</td>\n",
       "      <td>0</td>\n",
       "      <td>...</td>\n",
       "      <td>0</td>\n",
       "      <td>0</td>\n",
       "      <td>0</td>\n",
       "      <td>0</td>\n",
       "      <td>0</td>\n",
       "      <td>0</td>\n",
       "      <td>0</td>\n",
       "      <td>0</td>\n",
       "      <td>0</td>\n",
       "      <td>0</td>\n",
       "    </tr>\n",
       "  </tbody>\n",
       "</table>\n",
       "<p>5 rows × 301 columns</p>\n",
       "</div>"
      ],
      "text/plain": [
       "   plays  user_cluster_0  user_cluster_1  user_cluster_2  user_cluster_3  \\\n",
       "0    554               0               0               0               0   \n",
       "1    169               0               0               0               0   \n",
       "2    292               0               0               0               0   \n",
       "3     92               0               0               0               0   \n",
       "4    159               0               0               0               0   \n",
       "\n",
       "   user_cluster_4  user_cluster_5  user_cluster_6  user_cluster_7  \\\n",
       "0               0               0               0               0   \n",
       "1               0               0               0               0   \n",
       "2               0               0               0               0   \n",
       "3               0               0               0               0   \n",
       "4               0               0               0               0   \n",
       "\n",
       "   user_cluster_8         ...          artist_cluster_190  artist_cluster_191  \\\n",
       "0               0         ...                           0                   0   \n",
       "1               0         ...                           0                   0   \n",
       "2               0         ...                           0                   0   \n",
       "3               0         ...                           0                   0   \n",
       "4               0         ...                           0                   0   \n",
       "\n",
       "   artist_cluster_192  artist_cluster_193  artist_cluster_194  \\\n",
       "0                   0                   0                   0   \n",
       "1                   0                   0                   0   \n",
       "2                   0                   0                   0   \n",
       "3                   0                   0                   0   \n",
       "4                   0                   0                   0   \n",
       "\n",
       "   artist_cluster_195  artist_cluster_196  artist_cluster_197  \\\n",
       "0                   0                   0                   0   \n",
       "1                   0                   0                   0   \n",
       "2                   0                   0                   0   \n",
       "3                   0                   0                   0   \n",
       "4                   0                   0                   0   \n",
       "\n",
       "   artist_cluster_198  artist_cluster_199  \n",
       "0                   0                   0  \n",
       "1                   0                   0  \n",
       "2                   0                   0  \n",
       "3                   0                   0  \n",
       "4                   0                   0  \n",
       "\n",
       "[5 rows x 301 columns]"
      ]
     },
     "execution_count": 19,
     "metadata": {},
     "output_type": "execute_result"
    }
   ],
   "source": [
    "df_train_dummy.head()"
   ]
  },
  {
   "cell_type": "code",
   "execution_count": 74,
   "metadata": {
    "collapsed": false
   },
   "outputs": [
    {
     "name": "stdout",
     "output_type": "stream",
     "text": [
      "(4154804, 301)\n"
     ]
    }
   ],
   "source": [
    "print df_train_dummy.shape\n",
    "df_train_dummy.to_csv('train_dummy_bothcluster.csv')"
   ]
  },
  {
   "cell_type": "code",
   "execution_count": 9,
   "metadata": {
    "collapsed": false
   },
   "outputs": [
    {
     "data": {
      "text/html": [
       "<div>\n",
       "<table border=\"1\" class=\"dataframe\">\n",
       "  <thead>\n",
       "    <tr style=\"text-align: right;\">\n",
       "      <th></th>\n",
       "      <th>Id</th>\n",
       "      <th>user</th>\n",
       "      <th>artist</th>\n",
       "    </tr>\n",
       "  </thead>\n",
       "  <tbody>\n",
       "    <tr>\n",
       "      <th>0</th>\n",
       "      <td>1</td>\n",
       "      <td>306e19cce2522fa2d39ff5dfc870992100ec22d2</td>\n",
       "      <td>4ac4e32b-bd18-402e-adad-ae00e72f8d85</td>\n",
       "    </tr>\n",
       "    <tr>\n",
       "      <th>1</th>\n",
       "      <td>2</td>\n",
       "      <td>9450d351278df4938bdea4ed86aec940a4e927ac</td>\n",
       "      <td>1f574ab1-a46d-4586-9331-f0ded23e0411</td>\n",
       "    </tr>\n",
       "    <tr>\n",
       "      <th>2</th>\n",
       "      <td>3</td>\n",
       "      <td>801909d6955f59033c88595d3d7f8a6a5dcd53cc</td>\n",
       "      <td>3eb72791-6322-466b-87d3-24d74901eb2d</td>\n",
       "    </tr>\n",
       "    <tr>\n",
       "      <th>3</th>\n",
       "      <td>4</td>\n",
       "      <td>e3ed47445c127fbeff47fb58f6bbf2f3b4535d82</td>\n",
       "      <td>61604b45-8a91-4e33-a1b6-45d7b1fec4e5</td>\n",
       "    </tr>\n",
       "    <tr>\n",
       "      <th>4</th>\n",
       "      <td>5</td>\n",
       "      <td>a73f46652103f3a5f7429159310f6928f79644aa</td>\n",
       "      <td>5dfdca28-9ddc-4853-933c-8bc97d87beec</td>\n",
       "    </tr>\n",
       "  </tbody>\n",
       "</table>\n",
       "</div>"
      ],
      "text/plain": [
       "   Id                                      user  \\\n",
       "0   1  306e19cce2522fa2d39ff5dfc870992100ec22d2   \n",
       "1   2  9450d351278df4938bdea4ed86aec940a4e927ac   \n",
       "2   3  801909d6955f59033c88595d3d7f8a6a5dcd53cc   \n",
       "3   4  e3ed47445c127fbeff47fb58f6bbf2f3b4535d82   \n",
       "4   5  a73f46652103f3a5f7429159310f6928f79644aa   \n",
       "\n",
       "                                 artist  \n",
       "0  4ac4e32b-bd18-402e-adad-ae00e72f8d85  \n",
       "1  1f574ab1-a46d-4586-9331-f0ded23e0411  \n",
       "2  3eb72791-6322-466b-87d3-24d74901eb2d  \n",
       "3  61604b45-8a91-4e33-a1b6-45d7b1fec4e5  \n",
       "4  5dfdca28-9ddc-4853-933c-8bc97d87beec  "
      ]
     },
     "execution_count": 9,
     "metadata": {},
     "output_type": "execute_result"
    }
   ],
   "source": [
    "df_test.head()"
   ]
  },
  {
   "cell_type": "code",
   "execution_count": 167,
   "metadata": {
    "collapsed": false
   },
   "outputs": [],
   "source": [
    "df_test = pd.merge(df_test, user_labels, how = 'inner', on = 'user')\n",
    "\n",
    "df_test = pd.merge(df_test, artist_labels, how = 'inner', on = 'artist')"
   ]
  },
  {
   "cell_type": "code",
   "execution_count": 168,
   "metadata": {
    "collapsed": false
   },
   "outputs": [
    {
     "data": {
      "text/html": [
       "<div>\n",
       "<table border=\"1\" class=\"dataframe\">\n",
       "  <thead>\n",
       "    <tr style=\"text-align: right;\">\n",
       "      <th></th>\n",
       "      <th>Id</th>\n",
       "      <th>user</th>\n",
       "      <th>artist</th>\n",
       "      <th>user_cluster</th>\n",
       "      <th>artist_cluster</th>\n",
       "    </tr>\n",
       "  </thead>\n",
       "  <tbody>\n",
       "    <tr>\n",
       "      <th>0</th>\n",
       "      <td>1</td>\n",
       "      <td>306e19cce2522fa2d39ff5dfc870992100ec22d2</td>\n",
       "      <td>4ac4e32b-bd18-402e-adad-ae00e72f8d85</td>\n",
       "      <td>37</td>\n",
       "      <td>159</td>\n",
       "    </tr>\n",
       "    <tr>\n",
       "      <th>1</th>\n",
       "      <td>72280</td>\n",
       "      <td>3f407fff902ab403f06668f6be3d10bb9e9a02cd</td>\n",
       "      <td>4ac4e32b-bd18-402e-adad-ae00e72f8d85</td>\n",
       "      <td>43</td>\n",
       "      <td>159</td>\n",
       "    </tr>\n",
       "    <tr>\n",
       "      <th>2</th>\n",
       "      <td>1603775</td>\n",
       "      <td>695515d6dd26e15ed7b5134dd5452c1f97e630b7</td>\n",
       "      <td>4ac4e32b-bd18-402e-adad-ae00e72f8d85</td>\n",
       "      <td>37</td>\n",
       "      <td>159</td>\n",
       "    </tr>\n",
       "    <tr>\n",
       "      <th>3</th>\n",
       "      <td>1492441</td>\n",
       "      <td>c13655d6bc67d4b7dd8bbe5dc6b595723d358e19</td>\n",
       "      <td>4ac4e32b-bd18-402e-adad-ae00e72f8d85</td>\n",
       "      <td>37</td>\n",
       "      <td>159</td>\n",
       "    </tr>\n",
       "    <tr>\n",
       "      <th>4</th>\n",
       "      <td>3019912</td>\n",
       "      <td>afcc328e6db2b2f22b53f508d8d38222addbc0a2</td>\n",
       "      <td>4ac4e32b-bd18-402e-adad-ae00e72f8d85</td>\n",
       "      <td>37</td>\n",
       "      <td>159</td>\n",
       "    </tr>\n",
       "  </tbody>\n",
       "</table>\n",
       "</div>"
      ],
      "text/plain": [
       "        Id                                      user  \\\n",
       "0        1  306e19cce2522fa2d39ff5dfc870992100ec22d2   \n",
       "1    72280  3f407fff902ab403f06668f6be3d10bb9e9a02cd   \n",
       "2  1603775  695515d6dd26e15ed7b5134dd5452c1f97e630b7   \n",
       "3  1492441  c13655d6bc67d4b7dd8bbe5dc6b595723d358e19   \n",
       "4  3019912  afcc328e6db2b2f22b53f508d8d38222addbc0a2   \n",
       "\n",
       "                                 artist  user_cluster  artist_cluster  \n",
       "0  4ac4e32b-bd18-402e-adad-ae00e72f8d85            37             159  \n",
       "1  4ac4e32b-bd18-402e-adad-ae00e72f8d85            43             159  \n",
       "2  4ac4e32b-bd18-402e-adad-ae00e72f8d85            37             159  \n",
       "3  4ac4e32b-bd18-402e-adad-ae00e72f8d85            37             159  \n",
       "4  4ac4e32b-bd18-402e-adad-ae00e72f8d85            37             159  "
      ]
     },
     "execution_count": 168,
     "metadata": {},
     "output_type": "execute_result"
    }
   ],
   "source": [
    "df_test.head()"
   ]
  },
  {
   "cell_type": "code",
   "execution_count": 169,
   "metadata": {
    "collapsed": true
   },
   "outputs": [],
   "source": [
    "df_test.to_csv('test_withlabels.csv')"
   ]
  },
  {
   "cell_type": "code",
   "execution_count": 23,
   "metadata": {
    "collapsed": true
   },
   "outputs": [],
   "source": [
    "# save ID\n",
    "test_id = df_test['Id'].values"
   ]
  },
  {
   "cell_type": "code",
   "execution_count": 25,
   "metadata": {
    "collapsed": true
   },
   "outputs": [],
   "source": [
    "# drop ID\n",
    "df_test = df_test.drop(['user'], axis = 1)\n",
    "df_test = df_test.drop(['artist'], axis = 1)\n",
    "df_test = df_test.drop(['Id'], axis = 1)\n",
    "\n",
    "# change datatype for one-hot\n",
    "df_test['user_cluster'] = df_test['user_cluster'].astype('object')\n",
    "df_test['artist_cluster'] = df_test['artist_cluster'].astype('object')\n",
    "\n",
    "df_test_dummy = pd.get_dummies(df_test)"
   ]
  },
  {
   "cell_type": "code",
   "execution_count": 26,
   "metadata": {
    "collapsed": false
   },
   "outputs": [
    {
     "data": {
      "text/html": [
       "<div>\n",
       "<table border=\"1\" class=\"dataframe\">\n",
       "  <thead>\n",
       "    <tr style=\"text-align: right;\">\n",
       "      <th></th>\n",
       "      <th>user_cluster_0</th>\n",
       "      <th>user_cluster_1</th>\n",
       "      <th>user_cluster_2</th>\n",
       "      <th>user_cluster_3</th>\n",
       "      <th>user_cluster_4</th>\n",
       "      <th>user_cluster_5</th>\n",
       "      <th>user_cluster_6</th>\n",
       "      <th>user_cluster_7</th>\n",
       "      <th>user_cluster_8</th>\n",
       "      <th>user_cluster_9</th>\n",
       "      <th>...</th>\n",
       "      <th>artist_cluster_190</th>\n",
       "      <th>artist_cluster_191</th>\n",
       "      <th>artist_cluster_192</th>\n",
       "      <th>artist_cluster_193</th>\n",
       "      <th>artist_cluster_194</th>\n",
       "      <th>artist_cluster_195</th>\n",
       "      <th>artist_cluster_196</th>\n",
       "      <th>artist_cluster_197</th>\n",
       "      <th>artist_cluster_198</th>\n",
       "      <th>artist_cluster_199</th>\n",
       "    </tr>\n",
       "  </thead>\n",
       "  <tbody>\n",
       "    <tr>\n",
       "      <th>0</th>\n",
       "      <td>0</td>\n",
       "      <td>0</td>\n",
       "      <td>0</td>\n",
       "      <td>0</td>\n",
       "      <td>0</td>\n",
       "      <td>0</td>\n",
       "      <td>0</td>\n",
       "      <td>0</td>\n",
       "      <td>0</td>\n",
       "      <td>0</td>\n",
       "      <td>...</td>\n",
       "      <td>0</td>\n",
       "      <td>0</td>\n",
       "      <td>0</td>\n",
       "      <td>0</td>\n",
       "      <td>0</td>\n",
       "      <td>0</td>\n",
       "      <td>0</td>\n",
       "      <td>0</td>\n",
       "      <td>0</td>\n",
       "      <td>0</td>\n",
       "    </tr>\n",
       "    <tr>\n",
       "      <th>1</th>\n",
       "      <td>0</td>\n",
       "      <td>0</td>\n",
       "      <td>0</td>\n",
       "      <td>0</td>\n",
       "      <td>0</td>\n",
       "      <td>0</td>\n",
       "      <td>0</td>\n",
       "      <td>0</td>\n",
       "      <td>0</td>\n",
       "      <td>0</td>\n",
       "      <td>...</td>\n",
       "      <td>0</td>\n",
       "      <td>0</td>\n",
       "      <td>0</td>\n",
       "      <td>0</td>\n",
       "      <td>0</td>\n",
       "      <td>0</td>\n",
       "      <td>0</td>\n",
       "      <td>0</td>\n",
       "      <td>0</td>\n",
       "      <td>0</td>\n",
       "    </tr>\n",
       "    <tr>\n",
       "      <th>2</th>\n",
       "      <td>0</td>\n",
       "      <td>0</td>\n",
       "      <td>0</td>\n",
       "      <td>0</td>\n",
       "      <td>0</td>\n",
       "      <td>0</td>\n",
       "      <td>0</td>\n",
       "      <td>0</td>\n",
       "      <td>0</td>\n",
       "      <td>0</td>\n",
       "      <td>...</td>\n",
       "      <td>0</td>\n",
       "      <td>0</td>\n",
       "      <td>0</td>\n",
       "      <td>0</td>\n",
       "      <td>0</td>\n",
       "      <td>0</td>\n",
       "      <td>0</td>\n",
       "      <td>0</td>\n",
       "      <td>0</td>\n",
       "      <td>0</td>\n",
       "    </tr>\n",
       "    <tr>\n",
       "      <th>3</th>\n",
       "      <td>0</td>\n",
       "      <td>0</td>\n",
       "      <td>0</td>\n",
       "      <td>0</td>\n",
       "      <td>0</td>\n",
       "      <td>0</td>\n",
       "      <td>0</td>\n",
       "      <td>0</td>\n",
       "      <td>0</td>\n",
       "      <td>0</td>\n",
       "      <td>...</td>\n",
       "      <td>0</td>\n",
       "      <td>0</td>\n",
       "      <td>0</td>\n",
       "      <td>0</td>\n",
       "      <td>0</td>\n",
       "      <td>0</td>\n",
       "      <td>0</td>\n",
       "      <td>0</td>\n",
       "      <td>0</td>\n",
       "      <td>0</td>\n",
       "    </tr>\n",
       "    <tr>\n",
       "      <th>4</th>\n",
       "      <td>0</td>\n",
       "      <td>0</td>\n",
       "      <td>0</td>\n",
       "      <td>0</td>\n",
       "      <td>0</td>\n",
       "      <td>0</td>\n",
       "      <td>0</td>\n",
       "      <td>0</td>\n",
       "      <td>0</td>\n",
       "      <td>0</td>\n",
       "      <td>...</td>\n",
       "      <td>0</td>\n",
       "      <td>0</td>\n",
       "      <td>0</td>\n",
       "      <td>0</td>\n",
       "      <td>0</td>\n",
       "      <td>0</td>\n",
       "      <td>0</td>\n",
       "      <td>0</td>\n",
       "      <td>0</td>\n",
       "      <td>0</td>\n",
       "    </tr>\n",
       "  </tbody>\n",
       "</table>\n",
       "<p>5 rows × 300 columns</p>\n",
       "</div>"
      ],
      "text/plain": [
       "   user_cluster_0  user_cluster_1  user_cluster_2  user_cluster_3  \\\n",
       "0               0               0               0               0   \n",
       "1               0               0               0               0   \n",
       "2               0               0               0               0   \n",
       "3               0               0               0               0   \n",
       "4               0               0               0               0   \n",
       "\n",
       "   user_cluster_4  user_cluster_5  user_cluster_6  user_cluster_7  \\\n",
       "0               0               0               0               0   \n",
       "1               0               0               0               0   \n",
       "2               0               0               0               0   \n",
       "3               0               0               0               0   \n",
       "4               0               0               0               0   \n",
       "\n",
       "   user_cluster_8  user_cluster_9         ...          artist_cluster_190  \\\n",
       "0               0               0         ...                           0   \n",
       "1               0               0         ...                           0   \n",
       "2               0               0         ...                           0   \n",
       "3               0               0         ...                           0   \n",
       "4               0               0         ...                           0   \n",
       "\n",
       "   artist_cluster_191  artist_cluster_192  artist_cluster_193  \\\n",
       "0                   0                   0                   0   \n",
       "1                   0                   0                   0   \n",
       "2                   0                   0                   0   \n",
       "3                   0                   0                   0   \n",
       "4                   0                   0                   0   \n",
       "\n",
       "   artist_cluster_194  artist_cluster_195  artist_cluster_196  \\\n",
       "0                   0                   0                   0   \n",
       "1                   0                   0                   0   \n",
       "2                   0                   0                   0   \n",
       "3                   0                   0                   0   \n",
       "4                   0                   0                   0   \n",
       "\n",
       "   artist_cluster_197  artist_cluster_198  artist_cluster_199  \n",
       "0                   0                   0                   0  \n",
       "1                   0                   0                   0  \n",
       "2                   0                   0                   0  \n",
       "3                   0                   0                   0  \n",
       "4                   0                   0                   0  \n",
       "\n",
       "[5 rows x 300 columns]"
      ]
     },
     "execution_count": 26,
     "metadata": {},
     "output_type": "execute_result"
    }
   ],
   "source": [
    "df_test_dummy.head()"
   ]
  },
  {
   "cell_type": "code",
   "execution_count": 27,
   "metadata": {
    "collapsed": true
   },
   "outputs": [],
   "source": [
    "X_test = df_test_dummy.values"
   ]
  },
  {
   "cell_type": "markdown",
   "metadata": {},
   "source": [
    "# random forest"
   ]
  },
  {
   "cell_type": "code",
   "execution_count": 31,
   "metadata": {
    "collapsed": false
   },
   "outputs": [],
   "source": [
    "X = df_train_dummy.iloc[:, 1:].values\n",
    "y = df_train_dummy.iloc[:, 0].values"
   ]
  },
  {
   "cell_type": "code",
   "execution_count": 32,
   "metadata": {
    "collapsed": true
   },
   "outputs": [],
   "source": [
    "X_train, X_test, y_train, y_test = train_test_split(X, y, test_size=0.33, random_state=42)"
   ]
  },
  {
   "cell_type": "code",
   "execution_count": 33,
   "metadata": {
    "collapsed": false
   },
   "outputs": [
    {
     "data": {
      "text/plain": [
       "RandomForestClassifier(bootstrap=True, class_weight=None, criterion='gini',\n",
       "            max_depth=None, max_features='auto', max_leaf_nodes=None,\n",
       "            min_impurity_split=1e-07, min_samples_leaf=1,\n",
       "            min_samples_split=2, min_weight_fraction_leaf=0.0,\n",
       "            n_estimators=10, n_jobs=1, oob_score=False, random_state=None,\n",
       "            verbose=0, warm_start=False)"
      ]
     },
     "execution_count": 33,
     "metadata": {},
     "output_type": "execute_result"
    }
   ],
   "source": [
    "rf = RandomForest()\n",
    "rf.fit(X_train[:50], y_train[:50])"
   ]
  },
  {
   "cell_type": "code",
   "execution_count": 34,
   "metadata": {
    "collapsed": true
   },
   "outputs": [],
   "source": [
    "y_train_pred = rf.predict(X_test[:100])"
   ]
  },
  {
   "cell_type": "code",
   "execution_count": null,
   "metadata": {
    "collapsed": true
   },
   "outputs": [],
   "source": [
    "mean_absolute_error(y_train, y_train_pred)"
   ]
  },
  {
   "cell_type": "code",
   "execution_count": 41,
   "metadata": {
    "collapsed": true
   },
   "outputs": [],
   "source": [
    "prediction = pd.DataFrame({'Id': test_id[:100],\n",
    "                          'plays': y_train_pred})"
   ]
  },
  {
   "cell_type": "code",
   "execution_count": 43,
   "metadata": {
    "collapsed": false
   },
   "outputs": [
    {
     "name": "stderr",
     "output_type": "stream",
     "text": [
      "/Users/linyingzhang/anaconda2/lib/python2.7/site-packages/ipykernel/__main__.py:1: FutureWarning: sort(columns=....) is deprecated, use sort_values(by=.....)\n",
      "  if __name__ == '__main__':\n"
     ]
    }
   ],
   "source": [
    "prediction.sort(['Id']).to_csv('prediction_p3.csv')"
   ]
  },
  {
   "cell_type": "code",
   "execution_count": null,
   "metadata": {
    "collapsed": true
   },
   "outputs": [],
   "source": [
    "def write_to_file(filename, predictions):\n",
    "    with open(filename, \"w\") as f:\n",
    "        f.write(\"Id,plays\\n\")\n",
    "        for i,p in enumerate(predictions):\n",
    "            f.write(str(i+1) + \",\" + str(p) + \"\\n\")\n",
    "            \n",
    "filename = \"predictions_P3.csv\"\n",
    "write_to_file(filename,y_train_pred)"
   ]
  },
  {
   "cell_type": "markdown",
   "metadata": {
    "collapsed": true
   },
   "source": [
    "# Hiearchical clustering on users"
   ]
  },
  {
   "cell_type": "code",
   "execution_count": null,
   "metadata": {
    "collapsed": true
   },
   "outputs": [],
   "source": [
    "from sklearn import preprocessing\n",
    "import matplotlib.pyplot as plt\n",
    "import numpy as np\n",
    "import pandas as pd\n",
    "from sklearn.cluster import AgglomerativeClustering\n",
    "\n",
    "profiles_dummy_cluster = pd.read_csv('users_for_clustering.csv')\n",
    "\n",
    "users_array = profiles_dummy_cluster.drop('user', axis = 1).values\n",
    "users_array = preprocessing.normalize(users_array, axis = 0)\n",
    "\n",
    "\n",
    "K = 5\n",
    "HAC = AgglomerativeClustering(n_clusters = K, compute_full_tree = False, \n",
    "                              memory = '/Users/linyingzhang/Documents/2017_Spring/CS181/cs181-s17-homeworks/p3')\n",
    "\n",
    "labels = HAC.fit_predict(users_array)\n",
    "\n",
    "labels_df = pd.DataFrame(np.array(labels).T)\n",
    "labels_df.to_csv('userHAC_labels1.csv')"
   ]
  },
  {
   "cell_type": "markdown",
   "metadata": {},
   "source": [
    "# PCA"
   ]
  },
  {
   "cell_type": "code",
   "execution_count": null,
   "metadata": {
    "collapsed": true
   },
   "outputs": [],
   "source": [
    "# from sklearn.decomposition import PCA\n",
    "# pca = PCA(n_components=10)\n",
    "\n",
    "# df_x = df.iloc[:, 1:]\n",
    "# df_y = df.iloc[:, 0]\n",
    "\n",
    "# pca.fit(df_x)\n",
    "# print(pca.explained_variance_ratio_) "
   ]
  },
  {
   "cell_type": "markdown",
   "metadata": {
    "collapsed": true
   },
   "source": [
    "# Global_Median"
   ]
  },
  {
   "cell_type": "code",
   "execution_count": 12,
   "metadata": {
    "collapsed": false
   },
   "outputs": [
    {
     "name": "stdout",
     "output_type": "stream",
     "text": [
      "global median: 118.0\n"
     ]
    }
   ],
   "source": [
    "import numpy as np\n",
    "import csv\n",
    "\n",
    "# Predict via the median number of plays.\n",
    "\n",
    "train_file = 'train.csv'\n",
    "test_file  = 'test.csv'\n",
    "soln_file  = 'global_median.csv'\n",
    "\n",
    "# Load the training data.\n",
    "train_data = {}\n",
    "with open(train_file, 'r') as train_fh:\n",
    "    train_csv = csv.reader(train_fh, delimiter=',', quotechar='\"')\n",
    "    next(train_csv, None)\n",
    "    for row in train_csv:\n",
    "        user   = row[0]\n",
    "        artist = row[1]\n",
    "        plays  = int(row[2])\n",
    "    \n",
    "        if not user in train_data:\n",
    "            train_data[user] = {}\n",
    "        \n",
    "        train_data[user][artist] = plays\n",
    "\n",
    "# Compute the global median.\n",
    "plays_array = []\n",
    "for user, user_data in train_data.iteritems():\n",
    "    for artist, plays in user_data.iteritems():\n",
    "        plays_array.append(plays)\n",
    "global_median = np.median(np.array(plays_array))\n",
    "print \"global median:\", global_median\n",
    "\n",
    "# Write out test solutions.\n",
    "with open(test_file, 'r') as test_fh:\n",
    "    test_csv = csv.reader(test_fh, delimiter=',', quotechar='\"')\n",
    "    next(test_csv, None)\n",
    "\n",
    "    with open(soln_file, 'w') as soln_fh:\n",
    "        soln_csv = csv.writer(soln_fh,\n",
    "                              delimiter=',',\n",
    "                              quotechar='\"',\n",
    "                              quoting=csv.QUOTE_MINIMAL)\n",
    "        soln_csv.writerow(['Id', 'plays'])\n",
    "\n",
    "        for row in test_csv:\n",
    "            id     = row[0]\n",
    "            user   = row[1]\n",
    "            artist = row[2]\n",
    "\n",
    "            soln_csv.writerow([id, global_median])\n"
   ]
  },
  {
   "cell_type": "markdown",
   "metadata": {},
   "source": [
    "# User_Median"
   ]
  },
  {
   "cell_type": "code",
   "execution_count": 85,
   "metadata": {
    "collapsed": false
   },
   "outputs": [],
   "source": [
    "import numpy as np\n",
    "import csv\n",
    "\n",
    "# Predict via the user-specific median.\n",
    "# If the user has no data, use the global median.\n",
    "\n",
    "train_file = 'data/train.csv'\n",
    "test_file  = 'data/test.csv'\n",
    "soln_file  = 'data/user_median.csv'\n",
    "\n",
    "# Load the training data.\n",
    "train_data = {}\n",
    "with open(train_file, 'r') as train_fh:\n",
    "    train_csv = csv.reader(train_fh, delimiter=',', quotechar='\"')\n",
    "    next(train_csv, None)\n",
    "    for row in train_csv:\n",
    "        user   = row[0]\n",
    "        artist = row[1]\n",
    "        plays  = row[2]\n",
    "    \n",
    "        if not user in train_data:\n",
    "            train_data[user] = {}\n",
    "        \n",
    "        train_data[user][artist] = int(plays)\n",
    "\n",
    "# Compute the global median and per-user median.\n",
    "plays_array  = []\n",
    "user_medians = {}\n",
    "for user, user_data in train_data.iteritems():\n",
    "    user_plays = []\n",
    "    for artist, plays in user_data.iteritems():\n",
    "        plays_array.append(plays)\n",
    "        user_plays.append(plays)\n",
    "\n",
    "    user_medians[user] = np.median(np.array(user_plays))\n",
    "global_median = np.median(np.array(plays_array))\n",
    "\n",
    "# Write out test solutions.\n",
    "with open(test_file, 'r') as test_fh:\n",
    "    test_csv = csv.reader(test_fh, delimiter=',', quotechar='\"')\n",
    "    next(test_csv, None)\n",
    "\n",
    "    with open(soln_file, 'w') as soln_fh:\n",
    "        soln_csv = csv.writer(soln_fh,\n",
    "                              delimiter=',',\n",
    "                              quotechar='\"',\n",
    "                              quoting=csv.QUOTE_MINIMAL)\n",
    "        soln_csv.writerow(['Id', 'plays'])\n",
    "\n",
    "        for row in test_csv:\n",
    "            id     = row[0]\n",
    "            user   = row[1]\n",
    "            artist = row[2]\n",
    "\n",
    "            if user in user_medians:\n",
    "                soln_csv.writerow([id, user_medians[user]])\n",
    "            else:\n",
    "                print \"User\", id, \"not in training data.\"\n",
    "                soln_csv.writerow([id, global_median])\n",
    "                \n"
   ]
  },
  {
   "cell_type": "markdown",
   "metadata": {
    "collapsed": true
   },
   "source": [
    "# Weighted user-artist median"
   ]
  },
  {
   "cell_type": "code",
   "execution_count": 111,
   "metadata": {
    "collapsed": false
   },
   "outputs": [
    {
     "data": {
      "text/plain": [
       "(4154804, 3)"
      ]
     },
     "execution_count": 111,
     "metadata": {},
     "output_type": "execute_result"
    }
   ],
   "source": [
    "# read in training data\n",
    "df_train = pd.read_csv(\"data/train.csv\")\n",
    "df_train.head()\n",
    "df_train.shape"
   ]
  },
  {
   "cell_type": "code",
   "execution_count": 171,
   "metadata": {
    "collapsed": false
   },
   "outputs": [],
   "source": [
    "df_train = pd.merge(df_train, user_labels, how = 'inner', on = 'user')\n",
    "df_train = pd.merge(df_train, artist_labels, how = 'inner', on = 'artist')"
   ]
  },
  {
   "cell_type": "code",
   "execution_count": 172,
   "metadata": {
    "collapsed": false
   },
   "outputs": [
    {
     "name": "stderr",
     "output_type": "stream",
     "text": [
      "/Users/linyingzhang/anaconda2/lib/python2.7/site-packages/ipykernel/__main__.py:4: VisibleDeprecationWarning: using a non-integer number instead of an integer will result in an error in the future\n"
     ]
    }
   ],
   "source": [
    "# split train: validation = 0.7:0.3\n",
    "train_size = df_train.shape[0]*0.7\n",
    "train_idx = df_train.index\n",
    "subtrain_idx = np.random.choice(train_idx, size = train_size, replace = False)\n",
    "df_subtrain = df_train.iloc[subtrain_idx, :]\n",
    "subtrain_array = df_train.index.isin(subtrain_idx)\n",
    "df_validation = df_train[~subtrain_array]\n",
    "\n",
    "df_subtrain.to_csv('data/subtrain.csv', index = False)\n",
    "df_validation.to_csv('data/validation.csv')\n",
    "\n"
   ]
  },
  {
   "cell_type": "code",
   "execution_count": 117,
   "metadata": {
    "collapsed": false
   },
   "outputs": [
    {
     "name": "stdout",
     "output_type": "stream",
     "text": [
      "2908362\n",
      "1246442\n",
      "4154804\n"
     ]
    }
   ],
   "source": [
    "print df_subtrain.shape[0]\n",
    "print df_validation.shape[0]\n",
    "print df_validation.shape[0] + df_subtrain.shape[0]"
   ]
  },
  {
   "cell_type": "code",
   "execution_count": 122,
   "metadata": {
    "collapsed": false
   },
   "outputs": [],
   "source": [
    "import numpy as np\n",
    "import csv\n",
    "\n",
    "# Predict via the user-specific median.\n",
    "# If the user has no data, use the global median.\n",
    "\n",
    "train_file = 'data/subtrain.csv'\n",
    "valid_file = 'data/validation.csv'\n",
    "test_file  = 'data/test.csv'\n",
    "soln_file  = 'data/user_artist_median.csv'\n",
    "\n",
    "# Load the training data.\n",
    "train_artist_data = {}\n",
    "train_user_data = {}\n",
    "with open(train_file, 'r') as train_fh:\n",
    "    train_csv = csv.reader(train_fh, delimiter=',', quotechar='\"')\n",
    "    next(train_csv, None)\n",
    "    for row in train_csv:\n",
    "        user   = row[0]\n",
    "        artist = row[1]\n",
    "        plays  = row[2]\n",
    "    \n",
    "        if not artist in train_artist_data:\n",
    "            train_artist_data[artist] = {}\n",
    "        if not user in train_user_data:\n",
    "            train_user_data[user] = {}\n",
    "        \n",
    "        train_artist_data[artist][user] = int(plays)\n",
    "        train_user_data[user][artist] = int(plays)"
   ]
  },
  {
   "cell_type": "code",
   "execution_count": 123,
   "metadata": {
    "collapsed": false
   },
   "outputs": [],
   "source": [
    "# Compute the global median and per-user median.\n",
    "plays_array  = []\n",
    "user_medians = {}\n",
    "for user, user_data in train_user_data.iteritems():\n",
    "    user_plays = []\n",
    "    for artist, plays in user_data.iteritems():\n",
    "        plays_array.append(plays)\n",
    "        user_plays.append(plays)\n",
    "\n",
    "    user_medians[user] = np.median(np.array(user_plays))\n",
    "global_median = np.median(np.array(plays_array))\n",
    "\n",
    "# Compute the per-artist median.\n",
    "plays_array  = []\n",
    "artist_medians = {}\n",
    "for artist, artist_data in train_artist_data.iteritems():\n",
    "    artist_plays = []\n",
    "    for user, plays in artist_data.iteritems():\n",
    "        plays_array.append(plays)\n",
    "        artist_plays.append(plays)\n",
    "\n",
    "    artist_medians[artist] = np.median(np.array(artist_plays))\n",
    "global_median = np.median(np.array(plays_array))"
   ]
  },
  {
   "cell_type": "code",
   "execution_count": 134,
   "metadata": {
    "collapsed": false
   },
   "outputs": [],
   "source": [
    "soln_file  = 'data/user_artist_median_valid4.csv'\n",
    "test_file = 'data/validation.csv'\n",
    "# Write out test solutions.\n",
    "with open(test_file, 'r') as test_fh:\n",
    "    test_csv = csv.reader(test_fh, delimiter=',', quotechar='\"')\n",
    "    next(test_csv, None)\n",
    "\n",
    "    with open(soln_file, 'w') as soln_fh:\n",
    "        soln_csv = csv.writer(soln_fh,\n",
    "                              delimiter=',',\n",
    "                              quotechar='\"',\n",
    "                              quoting=csv.QUOTE_MINIMAL)\n",
    "        soln_csv.writerow(['Id', 'plays'])\n",
    "\n",
    "        for row in test_csv:\n",
    "            id     = row[0]\n",
    "            user   = row[1]\n",
    "            artist = row[2]\n",
    "\n",
    "            if user in user_medians:\n",
    "                if artist in artist_medians:\n",
    "                    plays = 0.5*user_medians[user] + 0.5*artist_medians[artist]\n",
    "                    soln_csv.writerow([id, plays])\n",
    "                else:\n",
    "                    plays = user_medians[user]\n",
    "                    soln_csv.writerow([id, plays])\n",
    "            if artist in artist_medians and user not in user_medians:\n",
    "                plays = artist_medians[artist]\n",
    "                soln_csv.writerow([id, plays])\n",
    "            if artist not in artist_medians and user not in user_medians:\n",
    "                print \"User and artist\", id, \"not in training data.\"\n",
    "                soln_csv.writerow([id, global_median])"
   ]
  },
  {
   "cell_type": "code",
   "execution_count": 140,
   "metadata": {
    "collapsed": false
   },
   "outputs": [
    {
     "name": "stdout",
     "output_type": "stream",
     "text": [
      "140.770688167\n",
      "143.541075277\n",
      "147.812819048\n",
      "153.561940106\n"
     ]
    }
   ],
   "source": [
    "# 0.8:0.2\n",
    "user_artist_median_valid1 = pd.read_csv('data/user_artist_median_valid1.csv')\n",
    "print mean_absolute_error(df_validation['plays'].values, user_artist_median_valid1['plays'].values)\n",
    "# 0.7:0.3\n",
    "user_artist_median_valid2 = pd.read_csv('data/user_artist_median_valid2.csv')\n",
    "print mean_absolute_error(df_validation['plays'].values, user_artist_median_valid2['plays'].values)\n",
    "# 0.6:0.4\n",
    "user_artist_median_valid3 = pd.read_csv('data/user_artist_median_valid3.csv')\n",
    "print mean_absolute_error(df_validation['plays'].values, user_artist_median_valid3['plays'].values)\n",
    "# 0.5:0.5\n",
    "user_artist_median_valid4 = pd.read_csv('data/user_artist_median_valid4.csv')\n",
    "print mean_absolute_error(df_validation['plays'].values, user_artist_median_valid4['plays'].values)"
   ]
  },
  {
   "cell_type": "code",
   "execution_count": 146,
   "metadata": {
    "collapsed": false
   },
   "outputs": [
    {
     "name": "stdout",
     "output_type": "stream",
     "text": [
      "hey\n",
      "hey\n",
      "hey\n",
      "hey\n",
      "hey\n",
      "hey\n",
      "hey\n"
     ]
    }
   ],
   "source": [
    "soln_file  = 'data/artist_median_valid4.csv'\n",
    "test_file = 'data/validation.csv'\n",
    "# Write out test solutions.\n",
    "with open(test_file, 'r') as test_fh:\n",
    "    test_csv = csv.reader(test_fh, delimiter=',', quotechar='\"')\n",
    "    next(test_csv, None)\n",
    "\n",
    "    with open(soln_file, 'w') as soln_fh:\n",
    "        soln_csv = csv.writer(soln_fh,\n",
    "                              delimiter=',',\n",
    "                              quotechar='\"',\n",
    "                              quoting=csv.QUOTE_MINIMAL)\n",
    "        soln_csv.writerow(['Id', 'plays'])\n",
    "\n",
    "        for row in test_csv:\n",
    "            id     = row[0]\n",
    "            user   = row[1]\n",
    "            artist = row[2]\n",
    "\n",
    "            if user in user_medians:\n",
    "                plays = user_medians[user]\n",
    "                soln_csv.writerow([id, plays])\n",
    "            if artist in artist_medians and user not in user_medians:\n",
    "                print \"hey\"\n",
    "                plays = 0.8*artist_medians[artist] + 0.2*global_median\n",
    "                soln_csv.writerow([id, plays])\n",
    "            if artist not in artist_medians and user not in user_medians:\n",
    "                print \"User and artist\", id, \"not in training data.\"\n",
    "                soln_csv.writerow([id, global_median])"
   ]
  },
  {
   "cell_type": "code",
   "execution_count": 145,
   "metadata": {
    "collapsed": false
   },
   "outputs": [
    {
     "name": "stdout",
     "output_type": "stream",
     "text": [
      "139.874251871\n",
      "139.874239475\n",
      "139.87422708\n",
      "139.874214685\n"
     ]
    }
   ],
   "source": [
    "#0.5\n",
    "artist_median_valid1 = pd.read_csv('data/artist_median_valid1.csv')\n",
    "print mean_absolute_error(df_validation['plays'].values, artist_median_valid1['plays'].values)\n",
    "#0.6\n",
    "artist_median_valid2 = pd.read_csv('data/artist_median_valid2.csv')\n",
    "print mean_absolute_error(df_validation['plays'].values, artist_median_valid2['plays'].values)\n",
    "#0.7\n",
    "artist_median_valid3 = pd.read_csv('data/artist_median_valid3.csv')\n",
    "print mean_absolute_error(df_validation['plays'].values, artist_median_valid3['plays'].values)\n",
    "#0.8\n",
    "artist_median_valid4 = pd.read_csv('data/artist_median_valid4.csv')\n",
    "print mean_absolute_error(df_validation['plays'].values, artist_median_valid4['plays'].values)"
   ]
  },
  {
   "cell_type": "code",
   "execution_count": null,
   "metadata": {
    "collapsed": true
   },
   "outputs": [],
   "source": []
  }
 ],
 "metadata": {
  "anaconda-cloud": {},
  "kernelspec": {
   "display_name": "Python 2",
   "language": "python",
   "name": "python2"
  },
  "language_info": {
   "codemirror_mode": {
    "name": "ipython",
    "version": 2
   },
   "file_extension": ".py",
   "mimetype": "text/x-python",
   "name": "python",
   "nbconvert_exporter": "python",
   "pygments_lexer": "ipython2",
   "version": "2.7.13"
  }
 },
 "nbformat": 4,
 "nbformat_minor": 0
}
